{
 "cells": [
  {
   "cell_type": "markdown",
   "metadata": {},
   "source": [
    "<img src=\"https://upload.wikimedia.org/wikipedia/commons/thumb/6/69/Julia_prog_language.svg/1200px-Julia_prog_language.svg.png\" width=400 height=400 style=\"padding-right: 100px\"/>"
   ]
  },
  {
   "cell_type": "markdown",
   "metadata": {},
   "source": [
    "# Introducción"
   ]
  },
  {
   "cell_type": "markdown",
   "metadata": {},
   "source": [
    "- Julia es un lenguaje dinámico de alto nivel y alta performance, diseñado para cómputo numérico\n",
    "- El objetivo es tener un lenjuage expresivo y facil de usar sin sacrificar performance, y ser capaces de usar el mismo lenguaje en los entornos de prototipado y producción\n",
    "- El primer release fue en 2012\n",
    "- MIT License.\n",
    "- La versión estable al momento es la 1.1.0"
   ]
  },
  {
   "cell_type": "markdown",
   "metadata": {},
   "source": [
    "## Compilador"
   ]
  },
  {
   "cell_type": "markdown",
   "metadata": {},
   "source": [
    "- Julia tiene un LLVM-based JIT compiler\n",
    "- JIT description # TODO\n",
    "- El código Julia es interpretado y compilado a native machine code.\n",
    "- bytecode # TODO\n",
    "- compare with JS, pypy # TODO\n",
    "- bytecode vs llvm vs native code: https://stackoverflow.com/questions/43453944/what-is-the-difference-between-code-native-code-typed-and-code-llvm-in-julia"
   ]
  },
  {
   "cell_type": "code",
   "execution_count": 1,
   "metadata": {},
   "outputs": [
    {
     "data": {
      "text/plain": [
       "f (generic function with 1 method)"
      ]
     },
     "execution_count": 1,
     "metadata": {},
     "output_type": "execute_result"
    }
   ],
   "source": [
    "f(x) = x * x"
   ]
  },
  {
   "cell_type": "code",
   "execution_count": 2,
   "metadata": {},
   "outputs": [
    {
     "name": "stdout",
     "output_type": "stream",
     "text": [
      "\n",
      ";  @ In[1]:1 within `f'\n",
      "define double @julia_f_12561(double) {\n",
      "top:\n",
      "; ┌ @ float.jl:399 within `*'\n",
      "   %1 = fmul double %0, %0\n",
      "; └\n",
      "  ret double %1\n",
      "}\n"
     ]
    }
   ],
   "source": [
    "code_llvm(f, (Float64,))"
   ]
  },
  {
   "cell_type": "code",
   "execution_count": 3,
   "metadata": {},
   "outputs": [
    {
     "name": "stdout",
     "output_type": "stream",
     "text": [
      "\t.section\t__TEXT,__text,regular,pure_instructions\n",
      "; ┌ @ In[1]:1 within `f'\n",
      "; │┌ @ In[1]:1 within `*'\n",
      "\tvmulsd\t%xmm0, %xmm0, %xmm0\n",
      "; │└\n",
      "\tretl\n",
      "\tnopw\t%cs:(%eax,%eax)\n",
      "; └\n"
     ]
    }
   ],
   "source": [
    "code_native(f, (Float64,))"
   ]
  },
  {
   "cell_type": "markdown",
   "metadata": {},
   "source": [
    "# Features"
   ]
  },
  {
   "cell_type": "markdown",
   "metadata": {},
   "source": [
    "- La sintáxis es basada en MATLAB y Python principalmente\n",
    "- Combina features de lenguajes procedurales y funcionales, con algunos conceptos de POO\n",
    "- Integra librerias de algebra lineal, estadística, procesamiento de señales, etc"
   ]
  },
  {
   "cell_type": "markdown",
   "metadata": {},
   "source": [
    "- Tipado estático\n",
    "- Inferencia de tipos\n",
    "- Multiple-dispatch\n",
    "- Las funciones son ciudadanos de primer clase"
   ]
  },
  {
   "cell_type": "markdown",
   "metadata": {},
   "source": [
    "## Gestor de paquetes"
   ]
  },
  {
   "cell_type": "code",
   "execution_count": null,
   "metadata": {},
   "outputs": [],
   "source": [
    "using Pkg\n",
    "Pkg.add(\"DataFrames\")\n",
    "Pkg.add(\"PyCall\")\n",
    "Pkg.add(\"RDatasets\")\n",
    "Pkg.add(\"DataFrames\")\n",
    "Pkg.add(\"Plots\")\n",
    "Pkg.add(\"PyPlot\")\n",
    "Pkg.add(\"StatsPlots\")"
   ]
  },
  {
   "cell_type": "markdown",
   "metadata": {},
   "source": [
    "## Integraciones con otros lenguajes"
   ]
  },
  {
   "cell_type": "markdown",
   "metadata": {},
   "source": [
    "- C and Fortran pueden ser invocados via ccall.\n",
    "- JavaCall\n",
    "- PyCall\n",
    "- RCall"
   ]
  },
  {
   "cell_type": "markdown",
   "metadata": {},
   "source": [
    "### C"
   ]
  },
  {
   "cell_type": "code",
   "execution_count": 5,
   "metadata": {},
   "outputs": [
    {
     "data": {
      "text/plain": [
       "16712152"
      ]
     },
     "execution_count": 5,
     "metadata": {},
     "output_type": "execute_result"
    }
   ],
   "source": [
    "ccall((:clock, \"libc\"), Int32, ())"
   ]
  },
  {
   "cell_type": "markdown",
   "metadata": {},
   "source": [
    "### PyCall"
   ]
  },
  {
   "cell_type": "code",
   "execution_count": 6,
   "metadata": {},
   "outputs": [
    {
     "data": {
      "text/plain": [
       "0.0"
      ]
     },
     "execution_count": 6,
     "metadata": {},
     "output_type": "execute_result"
    }
   ],
   "source": [
    "using PyCall\n",
    "math = pyimport(\"math\")\n",
    "math.sin(math.pi / 4) - sin(pi / 4)"
   ]
  },
  {
   "cell_type": "code",
   "execution_count": 7,
   "metadata": {},
   "outputs": [
    {
     "data": {
      "text/plain": [
       "3×4 Array{Float64,2}:\n",
       " 0.313863  0.664296  0.214447  0.233818\n",
       " 0.697617  0.85155   0.318914  0.439609\n",
       " 0.196488  0.733596  0.595428  0.850499"
      ]
     },
     "execution_count": 7,
     "metadata": {},
     "output_type": "execute_result"
    }
   ],
   "source": [
    "nr = pyimport(\"numpy.random\")\n",
    "nr.rand(3,4)"
   ]
  },
  {
   "cell_type": "markdown",
   "metadata": {},
   "source": [
    "## Integración con la shell"
   ]
  },
  {
   "cell_type": "code",
   "execution_count": 8,
   "metadata": {},
   "outputs": [
    {
     "name": "stdout",
     "output_type": "stream",
     "text": [
      "/Users/fede/dev/tmp/juliatalk\n"
     ]
    },
    {
     "data": {
      "text/plain": [
       "Process(`\u001b[4mpwd\u001b[24m`, ProcessExited(0))"
      ]
     },
     "execution_count": 8,
     "metadata": {},
     "output_type": "execute_result"
    }
   ],
   "source": [
    "run(`pwd`)"
   ]
  },
  {
   "cell_type": "markdown",
   "metadata": {},
   "source": [
    "## Vectores y matrices"
   ]
  },
  {
   "cell_type": "code",
   "execution_count": 9,
   "metadata": {},
   "outputs": [
    {
     "data": {
      "text/plain": [
       "3×4 Array{Float64,2}:\n",
       " 0.879435  0.724004   0.0629187  0.595093\n",
       " 0.46036   0.300761   0.504062   0.171858\n",
       " 0.931749  0.0459905  0.232345   0.960193"
      ]
     },
     "execution_count": 9,
     "metadata": {},
     "output_type": "execute_result"
    }
   ],
   "source": [
    "x = rand(3,4)"
   ]
  },
  {
   "cell_type": "markdown",
   "metadata": {},
   "source": [
    "### Indexing"
   ]
  },
  {
   "cell_type": "code",
   "execution_count": 10,
   "metadata": {},
   "outputs": [
    {
     "data": {
      "text/plain": [
       "4-element Array{Float64,1}:\n",
       " 0.879434573541696  \n",
       " 0.7240035191572629 \n",
       " 0.06291869001653239\n",
       " 0.595092763176871  "
      ]
     },
     "execution_count": 10,
     "metadata": {},
     "output_type": "execute_result"
    }
   ],
   "source": [
    "x[1,:]"
   ]
  },
  {
   "cell_type": "code",
   "execution_count": 11,
   "metadata": {},
   "outputs": [
    {
     "data": {
      "text/plain": [
       "3-element Array{Float64,1}:\n",
       " 0.879434573541696 \n",
       " 0.4603601372488144\n",
       " 0.9317492258017519"
      ]
     },
     "execution_count": 11,
     "metadata": {},
     "output_type": "execute_result"
    }
   ],
   "source": [
    "x[:,1]"
   ]
  },
  {
   "cell_type": "code",
   "execution_count": 12,
   "metadata": {},
   "outputs": [
    {
     "data": {
      "text/plain": [
       "0.879434573541696"
      ]
     },
     "execution_count": 12,
     "metadata": {},
     "output_type": "execute_result"
    }
   ],
   "source": [
    "x[1,1]"
   ]
  },
  {
   "cell_type": "markdown",
   "metadata": {},
   "source": [
    "- Indexing (en el lado derecho de una asignación) crea una copia del array original\n",
    "- Asignaciones **no hacen** una copia"
   ]
  },
  {
   "cell_type": "markdown",
   "metadata": {},
   "source": [
    "### Operaciones de algebra lineal"
   ]
  },
  {
   "cell_type": "code",
   "execution_count": 13,
   "metadata": {},
   "outputs": [],
   "source": [
    "using LinearAlgebra"
   ]
  },
  {
   "cell_type": "code",
   "execution_count": 14,
   "metadata": {},
   "outputs": [
    {
     "data": {
      "text/plain": [
       "4×3 Adjoint{Float64,Array{Float64,2}}:\n",
       " 0.879435   0.46036   0.931749 \n",
       " 0.724004   0.300761  0.0459905\n",
       " 0.0629187  0.504062  0.232345 \n",
       " 0.595093   0.171858  0.960193 "
      ]
     },
     "execution_count": 14,
     "metadata": {},
     "output_type": "execute_result"
    }
   ],
   "source": [
    "x'"
   ]
  },
  {
   "cell_type": "code",
   "execution_count": 15,
   "metadata": {},
   "outputs": [
    {
     "data": {
      "text/plain": [
       "3×3 Array{Float64,2}:\n",
       " 1.65568   0.756595  1.43873 \n",
       " 0.756595  0.586003  0.724905\n",
       " 1.43873   0.724905  1.84623 "
      ]
     },
     "execution_count": 15,
     "metadata": {},
     "output_type": "execute_result"
    }
   ],
   "source": [
    "x2 = x * x'"
   ]
  },
  {
   "cell_type": "code",
   "execution_count": 16,
   "metadata": {},
   "outputs": [
    {
     "data": {
      "text/plain": [
       "0.22956078144919856"
      ]
     },
     "execution_count": 16,
     "metadata": {},
     "output_type": "execute_result"
    }
   ],
   "source": [
    "det(x2)"
   ]
  },
  {
   "cell_type": "code",
   "execution_count": 17,
   "metadata": {},
   "outputs": [
    {
     "data": {
      "text/plain": [
       "3×3 Array{Float64,2}:\n",
       "  2.42378  -1.54164   -1.2835  \n",
       " -1.54164   4.29869   -0.486468\n",
       " -1.2835   -0.486468   1.73286 "
      ]
     },
     "execution_count": 17,
     "metadata": {},
     "output_type": "execute_result"
    }
   ],
   "source": [
    "pinv(x2)"
   ]
  },
  {
   "cell_type": "code",
   "execution_count": 18,
   "metadata": {},
   "outputs": [
    {
     "data": {
      "text/plain": [
       "4-element Array{Float64,1}:\n",
       " 0.18558447055772964\n",
       " 0.583352492454192  \n",
       " 0.7830115380175404 \n",
       " 0.4960911331677764 "
      ]
     },
     "execution_count": 18,
     "metadata": {},
     "output_type": "execute_result"
    }
   ],
   "source": [
    "row = rand(4)"
   ]
  },
  {
   "cell_type": "code",
   "execution_count": 19,
   "metadata": {},
   "outputs": [
    {
     "data": {
      "text/plain": [
       "1×4 Adjoint{Float64,Array{Float64,1}}:\n",
       " 0.185584  0.583352  0.783012  0.496091"
      ]
     },
     "execution_count": 19,
     "metadata": {},
     "output_type": "execute_result"
    }
   ],
   "source": [
    "row'"
   ]
  },
  {
   "cell_type": "code",
   "execution_count": 20,
   "metadata": {},
   "outputs": [
    {
     "data": {
      "text/plain": [
       "1.2339552072409936"
      ]
     },
     "execution_count": 20,
     "metadata": {},
     "output_type": "execute_result"
    }
   ],
   "source": [
    "row' * row"
   ]
  },
  {
   "cell_type": "markdown",
   "metadata": {},
   "source": [
    "### Concatenación Horizontal y vertical"
   ]
  },
  {
   "cell_type": "code",
   "execution_count": 21,
   "metadata": {},
   "outputs": [
    {
     "data": {
      "text/plain": [
       "1×4 Array{Int64,2}:\n",
       " 1  2  3  4"
      ]
     },
     "execution_count": 21,
     "metadata": {},
     "output_type": "execute_result"
    }
   ],
   "source": [
    "[1 2 3 4]"
   ]
  },
  {
   "cell_type": "code",
   "execution_count": 22,
   "metadata": {},
   "outputs": [
    {
     "data": {
      "text/plain": [
       "4-element Array{Int64,1}:\n",
       " 1\n",
       " 2\n",
       " 3\n",
       " 4"
      ]
     },
     "execution_count": 22,
     "metadata": {},
     "output_type": "execute_result"
    }
   ],
   "source": [
    "[1 ; 2 ; 3 ; 4]"
   ]
  },
  {
   "cell_type": "code",
   "execution_count": 23,
   "metadata": {},
   "outputs": [
    {
     "data": {
      "text/plain": [
       "2×2 Array{Int64,2}:\n",
       " 1  2\n",
       " 3  4"
      ]
     },
     "execution_count": 23,
     "metadata": {},
     "output_type": "execute_result"
    }
   ],
   "source": [
    "[1 2 ; 3 4]"
   ]
  },
  {
   "cell_type": "code",
   "execution_count": 24,
   "metadata": {},
   "outputs": [
    {
     "data": {
      "text/plain": [
       "4-element Array{Int64,1}:\n",
       " 1\n",
       " 2\n",
       " 3\n",
       " 4"
      ]
     },
     "execution_count": 24,
     "metadata": {},
     "output_type": "execute_result"
    }
   ],
   "source": [
    "[1, 2, 3, 4]"
   ]
  },
  {
   "cell_type": "markdown",
   "metadata": {},
   "source": [
    "### Operaciones vectoriales"
   ]
  },
  {
   "cell_type": "code",
   "execution_count": 25,
   "metadata": {},
   "outputs": [
    {
     "data": {
      "text/plain": [
       "4×3 Array{Float64,2}:\n",
       " 0.519509  0.487485  0.754825\n",
       " 0.607496  0.33845   0.317985\n",
       " 0.29534   0.153198  0.756347\n",
       " 0.950014  0.129762  0.367151"
      ]
     },
     "execution_count": 25,
     "metadata": {},
     "output_type": "execute_result"
    }
   ],
   "source": [
    "x = rand(4,3)"
   ]
  },
  {
   "cell_type": "code",
   "execution_count": 26,
   "metadata": {},
   "outputs": [
    {
     "data": {
      "text/plain": [
       "5.67756125453279"
      ]
     },
     "execution_count": 26,
     "metadata": {},
     "output_type": "execute_result"
    }
   ],
   "source": [
    "sum(x)"
   ]
  },
  {
   "cell_type": "code",
   "execution_count": 27,
   "metadata": {},
   "outputs": [
    {
     "ename": "DimensionMismatch",
     "evalue": "DimensionMismatch(\"A has dimensions (4,3) but B has dimensions (4,3)\")",
     "output_type": "error",
     "traceback": [
      "DimensionMismatch(\"A has dimensions (4,3) but B has dimensions (4,3)\")",
      "",
      "Stacktrace:",
      " [1] gemm_wrapper!(::Array{Float64,2}, ::Char, ::Char, ::Array{Float64,2}, ::Array{Float64,2}) at /Users/osx/buildbot/slave/package_osx64/build/usr/share/julia/stdlib/v1.1/LinearAlgebra/src/matmul.jl:439",
      " [2] mul! at /Users/osx/buildbot/slave/package_osx64/build/usr/share/julia/stdlib/v1.1/LinearAlgebra/src/matmul.jl:144 [inlined]",
      " [3] * at /Users/osx/buildbot/slave/package_osx64/build/usr/share/julia/stdlib/v1.1/LinearAlgebra/src/matmul.jl:142 [inlined]",
      " [4] power_by_squaring(::Array{Float64,2}, ::Int64) at ./intfuncs.jl:192",
      " [5] ^ at /Users/osx/buildbot/slave/package_osx64/build/usr/share/julia/stdlib/v1.1/LinearAlgebra/src/dense.jl:366 [inlined]",
      " [6] macro expansion at ./none:0 [inlined]",
      " [7] literal_pow(::typeof(^), ::Array{Float64,2}, ::Val{2}) at ./none:0",
      " [8] top-level scope at In[27]:1"
     ]
    }
   ],
   "source": [
    "x^2"
   ]
  },
  {
   "cell_type": "code",
   "execution_count": 28,
   "metadata": {},
   "outputs": [
    {
     "data": {
      "text/plain": [
       "4×3 Array{Float64,2}:\n",
       " 0.26989    0.237641   0.569761\n",
       " 0.369051   0.114548   0.101115\n",
       " 0.0872256  0.0234696  0.572061\n",
       " 0.902526   0.0168382  0.134799"
      ]
     },
     "execution_count": 28,
     "metadata": {},
     "output_type": "execute_result"
    }
   ],
   "source": [
    "x.^2"
   ]
  },
  {
   "cell_type": "code",
   "execution_count": 29,
   "metadata": {},
   "outputs": [
    {
     "data": {
      "text/plain": [
       "4×3 BitArray{2}:\n",
       "  true  false   true\n",
       "  true  false  false\n",
       " false  false   true\n",
       "  true  false  false"
      ]
     },
     "execution_count": 29,
     "metadata": {},
     "output_type": "execute_result"
    }
   ],
   "source": [
    "x .> 0.5"
   ]
  },
  {
   "cell_type": "code",
   "execution_count": 30,
   "metadata": {},
   "outputs": [
    {
     "data": {
      "text/plain": [
       "5-element Array{Float64,1}:\n",
       " 0.5195090963511697\n",
       " 0.6074960837652059\n",
       " 0.9500136360532265\n",
       " 0.7548253250801489\n",
       " 0.7563469907696847"
      ]
     },
     "execution_count": 30,
     "metadata": {},
     "output_type": "execute_result"
    }
   ],
   "source": [
    "x[x .> 0.5]"
   ]
  },
  {
   "cell_type": "markdown",
   "metadata": {},
   "source": [
    "# Type system"
   ]
  },
  {
   "cell_type": "markdown",
   "metadata": {},
   "source": [
    "Julia tiene distintas clases de tipos\n",
    "- Tipos Primitivos como Int32, Int64, Bool, String Float64, etc (Se pueden definir nuevos tipos primitivos custom)\n",
    "- Abstract types\n",
    "- Types compuestos, mutables e immutables\n",
    "- Tuple types\n",
    "- Union types"
   ]
  },
  {
   "cell_type": "markdown",
   "metadata": {},
   "source": [
    "## Types y herencia"
   ]
  },
  {
   "cell_type": "markdown",
   "metadata": {},
   "source": [
    "- Los tipos compuestos son como structs o clases en otros lenguajes, y pueden contener valores de distinto tipo. Los tipos inmutables se declaran con el keyword \"struct\", y los mutables con el \"mutable struct\"\n",
    "- En Julia, los tipos forman una jerarquía en donde solo los nodos hoja representan tipos concretos. No hay herencia de campos como en los lenguajes orientados a objetos.\n",
    "- las \"Interfaces\" son definidas por colecciones de funciones que pueden ser implementadas para un cierto tipo para que se comporte de una determinada manera. Por ejemplo, si un tipo implementa las funciones \"start\", \"next\" y \"done\" se puede usar como un iterador (por ejemplo en un bloque for-in)\n",
    "- Los tipos pueden ser parametricos, para habilitar \"generic programming\""
   ]
  },
  {
   "cell_type": "markdown",
   "metadata": {},
   "source": [
    "## Funciones"
   ]
  },
  {
   "cell_type": "markdown",
   "metadata": {},
   "source": [
    "- Los operadores son funciones con sintaxis especial\n",
    "- Dada una llamada a una función, Julia busca en tiempo de compilación a la definición mas específica basada en los tipos de los argumentos usados (Mas info en la sección de multiple dispatch)\n",
    "- Estructuras mutables como arrays son pasados por referencia, lo que significa que no se realiza una copia y pueden ser alterados. Valores inmutables como integers son pasados por valor"
   ]
  },
  {
   "cell_type": "markdown",
   "metadata": {},
   "source": [
    "## Funciones de alto orden y funciones anónimas"
   ]
  },
  {
   "cell_type": "code",
   "execution_count": 31,
   "metadata": {},
   "outputs": [
    {
     "data": {
      "text/plain": [
       "10-element Array{Int64,1}:\n",
       "  1\n",
       "  2\n",
       "  3\n",
       "  4\n",
       "  5\n",
       "  6\n",
       "  7\n",
       "  8\n",
       "  9\n",
       " 10"
      ]
     },
     "execution_count": 31,
     "metadata": {},
     "output_type": "execute_result"
    }
   ],
   "source": [
    "x = collect(1:10)"
   ]
  },
  {
   "cell_type": "code",
   "execution_count": 32,
   "metadata": {},
   "outputs": [
    {
     "data": {
      "text/plain": [
       "10-element Array{Int64,1}:\n",
       "   1\n",
       "   4\n",
       "   9\n",
       "  16\n",
       "  25\n",
       "  36\n",
       "  49\n",
       "  64\n",
       "  81\n",
       " 100"
      ]
     },
     "execution_count": 32,
     "metadata": {},
     "output_type": "execute_result"
    }
   ],
   "source": [
    "map(e -> e ^ 2, x)"
   ]
  },
  {
   "cell_type": "code",
   "execution_count": 33,
   "metadata": {},
   "outputs": [
    {
     "data": {
      "text/plain": [
       "5-element Array{Int64,1}:\n",
       "  2\n",
       "  4\n",
       "  6\n",
       "  8\n",
       " 10"
      ]
     },
     "execution_count": 33,
     "metadata": {},
     "output_type": "execute_result"
    }
   ],
   "source": [
    "filter(e -> e % 2 == 0, x)"
   ]
  },
  {
   "cell_type": "code",
   "execution_count": 34,
   "metadata": {},
   "outputs": [
    {
     "data": {
      "text/plain": [
       "55"
      ]
     },
     "execution_count": 34,
     "metadata": {},
     "output_type": "execute_result"
    }
   ],
   "source": [
    "foldl(+, x)"
   ]
  },
  {
   "cell_type": "markdown",
   "metadata": {},
   "source": [
    "## Ejemplo"
   ]
  },
  {
   "cell_type": "markdown",
   "metadata": {},
   "source": [
    "- Definición de tipos\n",
    "- Declaración de funciones\n",
    "- Tipos paramétricos\n",
    "- Multiple dispatch (explicado más adelante)\n",
    "- Method extension\n",
    "- Interpolación de Strings"
   ]
  },
  {
   "cell_type": "code",
   "execution_count": 35,
   "metadata": {},
   "outputs": [
    {
     "name": "stdout",
     "output_type": "stream",
     "text": [
      "Node{Int64}\n",
      "height = 2\n",
      "size = 7\n",
      "Node\n",
      "    Node\n",
      "        Leaf(1)\n",
      "        Leaf(2)\n",
      "    Node\n",
      "        Leaf(3)\n",
      "        Leaf(4)\n"
     ]
    }
   ],
   "source": [
    "abstract type Tree{T} end\n",
    "struct Node{T} <: Tree{T} \n",
    "    left::Tree{T}\n",
    "    right::Tree{T}\n",
    "end\n",
    "struct Leaf{T} <: Tree{T}\n",
    "    value::T\n",
    "end\n",
    "struct Empty{T} <: Tree{T} end\n",
    "\n",
    "# El tipo puede ser omitido si no es necesario\n",
    "height(t::Node) = max(height(t.left), height(t.right)) + 1\n",
    "height(t::Leaf) = 0\n",
    "height(t::Empty) = -1\n",
    "\n",
    "# El metodo size de Base tiene que ser importado explícitamente para ser extendido\n",
    "Base.size(t::Node) = size(t.left) + size(t.right) + 1\n",
    "Base.size(t::Leaf) = 1\n",
    "Base.size(t::Empty) = 0\n",
    "\n",
    "# Notar que las funciones pueden ser declaradas en forma compacta para expresiones de una linea\n",
    "show(t::Tree) = show(t, 0)\n",
    "show(t::Leaf, margin::Int) = println(\"$(repeat(\" \", margin))Leaf($(t.value))\")\n",
    "show(t::Empty, margin::Int) = println(\"$(repeat(\" \", margin))-\")\n",
    "function show(t::Node, margin::Int)\n",
    "    println(\"$(repeat(\" \", margin))Node\")\n",
    "    show(t.left, margin + 4)\n",
    "    show(t.right, margin + 4)\n",
    "end\n",
    "\n",
    "\n",
    "tree = Node(Node(Leaf(1), Leaf(2)), Node(Leaf(3), Leaf(4)))\n",
    "println(typeof(tree))\n",
    "println(\"height = $(height(tree))\")\n",
    "println(\"size = $(size(tree))\")\n",
    "show(tree)"
   ]
  },
  {
   "cell_type": "markdown",
   "metadata": {},
   "source": [
    "## Inmutabilidad"
   ]
  },
  {
   "cell_type": "markdown",
   "metadata": {},
   "source": [
    "Structs son immutables por default\n",
    "Si querés structs mutables podés obtenerlos mediante `mutable struct`"
   ]
  },
  {
   "cell_type": "markdown",
   "metadata": {},
   "source": [
    "Un objeto con un tipo inmutable es pasado por copia, mientras en un tipo inmutable es pasado por referencia"
   ]
  },
  {
   "cell_type": "markdown",
   "metadata": {},
   "source": [
    "Como regla general, si dos objetos del mismo tipo con los mismos valores para los mismos campos se pueden considerar como idénticos, entonces el tipo deberia ser definido como inmutable. En caso contrario, si deberian ser considerados diferentes objetos porque pueden cambiar independientemente, entonces el tipo debería ser mutable"
   ]
  },
  {
   "cell_type": "markdown",
   "metadata": {},
   "source": [
    "## Multiple dispatch"
   ]
  },
  {
   "cell_type": "markdown",
   "metadata": {},
   "source": [
    "- En lenguajes de single-dispatch, el método invocado depende (en tiempo de ejecución) del objeto dueño del mismo. \"Objects own methods\""
   ]
  },
  {
   "cell_type": "markdown",
   "metadata": {},
   "source": [
    "```python\n",
    "class Dog:\n",
    "    def shout(self):\n",
    "        print(\"GUAU\")\n",
    "\n",
    "class Cat:\n",
    "    def shout(self):\n",
    "        print(\"MIAU\")\n",
    "\n",
    "animals = [Dog(), Cat()]\n",
    "for animal in animals:\n",
    "    animal.shout()\n",
    "```"
   ]
  },
  {
   "cell_type": "markdown",
   "metadata": {},
   "source": [
    "- Double-dispatch (resolviendo el método basado en los tipos de dos objetos) se puede simular haciendo varias llamadas a funciones (visitor pattern)"
   ]
  },
  {
   "cell_type": "markdown",
   "metadata": {},
   "source": [
    "```python\n",
    "class A:\n",
    "    def f(self):\n",
    "        print(\"A\")\n",
    "\n",
    "    def doSomething(self, other):\n",
    "        other.doSomethingWithA(self)\n",
    "\n",
    "    def doSomethingWithA(self, other):\n",
    "        print(\"AA\")\n",
    "\n",
    "    def doSomethingWithB(self, other):\n",
    "        print(\"AB\")\n",
    "\n",
    "class B:\n",
    "    def f(self):\n",
    "        print(\"B\")\n",
    "\n",
    "    def doSomething(self, other):\n",
    "        other.doSomethingWithB(self)\n",
    "\n",
    "    def doSomethingWithA(self, other):\n",
    "        print(\"BA\")\n",
    "\n",
    "    def doSomethingWithB(self, other):\n",
    "        print(\"BB\")\n",
    "\n",
    "xs = [A(), B()]\n",
    "for x in xs:\n",
    "    for y in xs:\n",
    "        x.doSomething(y)\n",
    "```"
   ]
  },
  {
   "cell_type": "markdown",
   "metadata": {},
   "source": [
    "- Multiple dispatch consiste en determinar el metodo correct a ser invocado basado en los tipos de TODOS los argumentos involucrados, no sólo el primer\n",
    "- En Julia, los objetos **NO** son los dueños de los métodos que operan sobre ellos\n",
    "- En cambio, distintas funciones con el mismo nombre proveen distintos comportamientos para diferentes tipos. Estas diferentes implementaciones se llaman \"métodos\" de la misma \"función\". Esto es análogo a los conceptos de mensajes (un pedido por una operación) y métodos (una implementación concreta de ese pedido) de los lenguajes orientados a objetos"
   ]
  },
  {
   "cell_type": "code",
   "execution_count": 36,
   "metadata": {},
   "outputs": [
    {
     "data": {
      "text/html": [
       "101 methods for generic function <b>size</b>:<ul><li> size(B::<b>BitArray{1}</b>) in Base at <a href=\"https://github.com/JuliaLang/julia/tree/80516ca20297a67b996caa08c38786332379b6a5/base/bitarray.jl#L77\" target=\"_blank\">bitarray.jl:77</a></li> <li> size(B::<b>BitArray{1}</b>, d) in Base at <a href=\"https://github.com/JuliaLang/julia/tree/80516ca20297a67b996caa08c38786332379b6a5/base/bitarray.jl#L81\" target=\"_blank\">bitarray.jl:81</a></li> <li> size(r::<b>Core.Compiler.StmtRange</b>) in Base.IRShow at <a href=\"https://github.com/JuliaLang/julia/tree/80516ca20297a67b996caa08c38786332379b6a5/base/show.jl#L1561\" target=\"_blank\">show.jl:1561</a></li> <li> size(itr::<b>Base.AsyncGenerator</b>) in Base at <a href=\"https://github.com/JuliaLang/julia/tree/80516ca20297a67b996caa08c38786332379b6a5/base/asyncmap.jl#L409\" target=\"_blank\">asyncmap.jl:409</a></li> <li> size(zmsg::<b>ZMQ.Message</b>) in ZMQ at <a href=\"file:///Users/fede/.julia/packages/ZMQ/ABGOx/src/message.jl\" target=\"_blank\">/Users/fede/.julia/packages/ZMQ/ABGOx/src/message.jl:95</a></li> <li> size(b::<b>PyBuffer</b>) in PyCall at <a href=\"file:///Users/fede/.julia/packages/PyCall/ttONZ/src/pybuffer.jl\" target=\"_blank\">/Users/fede/.julia/packages/PyCall/ttONZ/src/pybuffer.jl:68</a></li> <li> size(b::<b>PyBuffer</b>, d::<b>Integer</b>) in PyCall at <a href=\"file:///Users/fede/.julia/packages/PyCall/ttONZ/src/pybuffer.jl\" target=\"_blank\">/Users/fede/.julia/packages/PyCall/ttONZ/src/pybuffer.jl:74</a></li> <li> size(o::<b>PyObject</b>) in PyCall at <a href=\"file:///Users/fede/.julia/packages/PyCall/ttONZ/src/PyCall.jl\" target=\"_blank\">/Users/fede/.julia/packages/PyCall/ttONZ/src/PyCall.jl:806</a></li> <li> size(g::<b>Base.Generator</b>) in Base at <a href=\"https://github.com/JuliaLang/julia/tree/80516ca20297a67b996caa08c38786332379b6a5/base/generator.jl#L51\" target=\"_blank\">generator.jl:51</a></li> <li> size(t::<b>Tuple</b>, d) in Base at <a href=\"https://github.com/JuliaLang/julia/tree/80516ca20297a67b996caa08c38786332379b6a5/base/tuple.jl#L22\" target=\"_blank\">tuple.jl:22</a></li> <li> size(S::<b>Base.Slice</b>) in Base at <a href=\"https://github.com/JuliaLang/julia/tree/80516ca20297a67b996caa08c38786332379b6a5/base/indices.jl#L328\" target=\"_blank\">indices.jl:328</a></li> <li> size(S::<b>Base.IdentityUnitRange</b>) in Base at <a href=\"https://github.com/JuliaLang/julia/tree/80516ca20297a67b996caa08c38786332379b6a5/base/indices.jl#L360\" target=\"_blank\">indices.jl:360</a></li> <li> size(r::<b>AbstractRange</b>) in Base at <a href=\"https://github.com/JuliaLang/julia/tree/80516ca20297a67b996caa08c38786332379b6a5/base/range.jl#L470\" target=\"_blank\">range.jl:470</a></li> <li> size(x::<b>Number</b>) in Base at <a href=\"https://github.com/JuliaLang/julia/tree/80516ca20297a67b996caa08c38786332379b6a5/base/number.jl#L62\" target=\"_blank\">number.jl:62</a></li> <li> size(x::<b>Number</b>, d) in Base at <a href=\"https://github.com/JuliaLang/julia/tree/80516ca20297a67b996caa08c38786332379b6a5/base/number.jl#L63\" target=\"_blank\">number.jl:63</a></li> <li> size(x::<b>Ref</b>) in Base at <a href=\"https://github.com/JuliaLang/julia/tree/80516ca20297a67b996caa08c38786332379b6a5/base/refpointer.jl#L38\" target=\"_blank\">refpointer.jl:38</a></li> <li> size(iter::<b>LinearIndices</b>) in Base at <a href=\"https://github.com/JuliaLang/julia/tree/80516ca20297a67b996caa08c38786332379b6a5/base/indices.jl#L442\" target=\"_blank\">indices.jl:442</a></li> <li> size(a::<b>Array{T,1} where T</b>) in Base at <a href=\"https://github.com/JuliaLang/julia/tree/80516ca20297a67b996caa08c38786332379b6a5/base/array.jl#L155\" target=\"_blank\">array.jl:155</a></li> <li> size(a::<b>Array{T,2} where T</b>) in Base at <a href=\"https://github.com/JuliaLang/julia/tree/80516ca20297a67b996caa08c38786332379b6a5/base/array.jl#L156\" target=\"_blank\">array.jl:156</a></li> <li> size<i>{N}</i>(a::<b>Array{#s72,N} where #s72</b>) in Base at <a href=\"https://github.com/JuliaLang/julia/tree/80516ca20297a67b996caa08c38786332379b6a5/base/array.jl#L157\" target=\"_blank\">array.jl:157</a></li> <li> size(a::<b>Array</b>, d) in Base at <a href=\"https://github.com/JuliaLang/julia/tree/80516ca20297a67b996caa08c38786332379b6a5/base/array.jl#L154\" target=\"_blank\">array.jl:154</a></li> <li> size(V::<b>SubArray</b>) in Base at <a href=\"https://github.com/JuliaLang/julia/tree/80516ca20297a67b996caa08c38786332379b6a5/base/subarray.jl#L65\" target=\"_blank\">subarray.jl:65</a></li> <li> size(A::<b>Base.ReshapedArray</b>) in Base at <a href=\"https://github.com/JuliaLang/julia/tree/80516ca20297a67b996caa08c38786332379b6a5/base/reshapedarray.jl#L205\" target=\"_blank\">reshapedarray.jl:205</a></li> <li> size<i>{T}</i>(a::<b>Base.ReinterpretArray{T,0,S,A} where A<:AbstractArray{S,0} where S</b>) in Base at <a href=\"https://github.com/JuliaLang/julia/tree/80516ca20297a67b996caa08c38786332379b6a5/base/reinterpretarray.jl#L77\" target=\"_blank\">reinterpretarray.jl:77</a></li> <li> size<i>{T, S}</i>(a::<b>Base.ReinterpretArray{T,N,S,A} where A<:AbstractArray{S,N} where N</b>) in Base at <a href=\"https://github.com/JuliaLang/julia/tree/80516ca20297a67b996caa08c38786332379b6a5/base/reinterpretarray.jl#L73\" target=\"_blank\">reinterpretarray.jl:73</a></li> <li> size(B::<b>BitArray</b>) in Base at <a href=\"https://github.com/JuliaLang/julia/tree/80516ca20297a67b996caa08c38786332379b6a5/base/bitarray.jl#L78\" target=\"_blank\">bitarray.jl:78</a></li> <li> size(s::<b>Base.CodeUnits</b>) in Base at <a href=\"https://github.com/JuliaLang/julia/tree/80516ca20297a67b996caa08c38786332379b6a5/base/strings/basic.jl#L695\" target=\"_blank\">strings/basic.jl:695</a></li> <li> size(iter::<b>CartesianIndices</b>) in Base.IteratorsMD at <a href=\"https://github.com/JuliaLang/julia/tree/80516ca20297a67b996caa08c38786332379b6a5/base/multidimensional.jl#L356\" target=\"_blank\">multidimensional.jl:356</a></li> <li> size(L::<b>Base.LogicalIndex</b>) in Base at <a href=\"https://github.com/JuliaLang/julia/tree/80516ca20297a67b996caa08c38786332379b6a5/base/multidimensional.jl#L541\" target=\"_blank\">multidimensional.jl:541</a></li> <li> size<i>{T, N, perm}</i>(A::<b>PermutedDimsArray{T,N,perm,iperm,AA} where AA<:AbstractArray where iperm</b>) in Base.PermutedDimsArrays at <a href=\"https://github.com/JuliaLang/julia/tree/80516ca20297a67b996caa08c38786332379b6a5/base/permuteddimsarray.jl#L49\" target=\"_blank\">permuteddimsarray.jl:49</a></li> <li> size(a::<b>Random.UnsafeView</b>) in Random at <a href=\"file:///Users/osx/buildbot/slave/package_osx64/build/usr/share/julia/stdlib/v1.1/Random/src/RNGs.jl\" target=\"_blank\">/Users/osx/buildbot/slave/package_osx64/build/usr/share/julia/stdlib/v1.1/Random/src/RNGs.jl:382</a></li> <li> size(v::<b>Union{Adjoint{T,#s623}, Transpose{T,#s623}} where #s623<:(AbstractArray{T,1} where T) where T</b>) in LinearAlgebra at <a href=\"file:///Users/osx/buildbot/slave/package_osx64/build/usr/share/julia/stdlib/v1.1/LinearAlgebra/src/adjtrans.jl\" target=\"_blank\">/Users/osx/buildbot/slave/package_osx64/build/usr/share/julia/stdlib/v1.1/LinearAlgebra/src/adjtrans.jl:123</a></li> <li> size(A::<b>Union{Adjoint{T,#s623}, Transpose{T,#s623}} where #s623<:(AbstractArray{T,2} where T) where T</b>) in LinearAlgebra at <a href=\"file:///Users/osx/buildbot/slave/package_osx64/build/usr/share/julia/stdlib/v1.1/LinearAlgebra/src/adjtrans.jl\" target=\"_blank\">/Users/osx/buildbot/slave/package_osx64/build/usr/share/julia/stdlib/v1.1/LinearAlgebra/src/adjtrans.jl:124</a></li> <li> size(A::<b>SymTridiagonal</b>) in LinearAlgebra at <a href=\"file:///Users/osx/buildbot/slave/package_osx64/build/usr/share/julia/stdlib/v1.1/LinearAlgebra/src/tridiag.jl\" target=\"_blank\">/Users/osx/buildbot/slave/package_osx64/build/usr/share/julia/stdlib/v1.1/LinearAlgebra/src/tridiag.jl:113</a></li> <li> size(A::<b>SymTridiagonal</b>, d::<b>Integer</b>) in LinearAlgebra at <a href=\"file:///Users/osx/buildbot/slave/package_osx64/build/usr/share/julia/stdlib/v1.1/LinearAlgebra/src/tridiag.jl\" target=\"_blank\">/Users/osx/buildbot/slave/package_osx64/build/usr/share/julia/stdlib/v1.1/LinearAlgebra/src/tridiag.jl:115</a></li> <li> size(M::<b>Tridiagonal</b>) in LinearAlgebra at <a href=\"file:///Users/osx/buildbot/slave/package_osx64/build/usr/share/julia/stdlib/v1.1/LinearAlgebra/src/tridiag.jl\" target=\"_blank\">/Users/osx/buildbot/slave/package_osx64/build/usr/share/julia/stdlib/v1.1/LinearAlgebra/src/tridiag.jl:466</a></li> <li> size(M::<b>Tridiagonal</b>, d::<b>Integer</b>) in LinearAlgebra at <a href=\"file:///Users/osx/buildbot/slave/package_osx64/build/usr/share/julia/stdlib/v1.1/LinearAlgebra/src/tridiag.jl\" target=\"_blank\">/Users/osx/buildbot/slave/package_osx64/build/usr/share/julia/stdlib/v1.1/LinearAlgebra/src/tridiag.jl:468</a></li> <li> size(A::<b>LowerTriangular</b>) in LinearAlgebra at <a href=\"file:///Users/osx/buildbot/slave/package_osx64/build/usr/share/julia/stdlib/v1.1/LinearAlgebra/src/triangular.jl\" target=\"_blank\">/Users/osx/buildbot/slave/package_osx64/build/usr/share/julia/stdlib/v1.1/LinearAlgebra/src/triangular.jl:37</a></li> <li> size(A::<b>LowerTriangular</b>, d) in LinearAlgebra at <a href=\"file:///Users/osx/buildbot/slave/package_osx64/build/usr/share/julia/stdlib/v1.1/LinearAlgebra/src/triangular.jl\" target=\"_blank\">/Users/osx/buildbot/slave/package_osx64/build/usr/share/julia/stdlib/v1.1/LinearAlgebra/src/triangular.jl:36</a></li> <li> size(A::<b>UnitLowerTriangular</b>) in LinearAlgebra at <a href=\"file:///Users/osx/buildbot/slave/package_osx64/build/usr/share/julia/stdlib/v1.1/LinearAlgebra/src/triangular.jl\" target=\"_blank\">/Users/osx/buildbot/slave/package_osx64/build/usr/share/julia/stdlib/v1.1/LinearAlgebra/src/triangular.jl:37</a></li> <li> size(A::<b>UnitLowerTriangular</b>, d) in LinearAlgebra at <a href=\"file:///Users/osx/buildbot/slave/package_osx64/build/usr/share/julia/stdlib/v1.1/LinearAlgebra/src/triangular.jl\" target=\"_blank\">/Users/osx/buildbot/slave/package_osx64/build/usr/share/julia/stdlib/v1.1/LinearAlgebra/src/triangular.jl:36</a></li> <li> size(A::<b>UpperTriangular</b>) in LinearAlgebra at <a href=\"file:///Users/osx/buildbot/slave/package_osx64/build/usr/share/julia/stdlib/v1.1/LinearAlgebra/src/triangular.jl\" target=\"_blank\">/Users/osx/buildbot/slave/package_osx64/build/usr/share/julia/stdlib/v1.1/LinearAlgebra/src/triangular.jl:37</a></li> <li> size(A::<b>UpperTriangular</b>, d) in LinearAlgebra at <a href=\"file:///Users/osx/buildbot/slave/package_osx64/build/usr/share/julia/stdlib/v1.1/LinearAlgebra/src/triangular.jl\" target=\"_blank\">/Users/osx/buildbot/slave/package_osx64/build/usr/share/julia/stdlib/v1.1/LinearAlgebra/src/triangular.jl:36</a></li> <li> size(A::<b>UnitUpperTriangular</b>) in LinearAlgebra at <a href=\"file:///Users/osx/buildbot/slave/package_osx64/build/usr/share/julia/stdlib/v1.1/LinearAlgebra/src/triangular.jl\" target=\"_blank\">/Users/osx/buildbot/slave/package_osx64/build/usr/share/julia/stdlib/v1.1/LinearAlgebra/src/triangular.jl:37</a></li> <li> size(A::<b>UnitUpperTriangular</b>, d) in LinearAlgebra at <a href=\"file:///Users/osx/buildbot/slave/package_osx64/build/usr/share/julia/stdlib/v1.1/LinearAlgebra/src/triangular.jl\" target=\"_blank\">/Users/osx/buildbot/slave/package_osx64/build/usr/share/julia/stdlib/v1.1/LinearAlgebra/src/triangular.jl:36</a></li> <li> size(F::<b>Adjoint{#s623,#s622} where #s622<:Factorization where #s623</b>) in LinearAlgebra at <a href=\"file:///Users/osx/buildbot/slave/package_osx64/build/usr/share/julia/stdlib/v1.1/LinearAlgebra/src/factorization.jl\" target=\"_blank\">/Users/osx/buildbot/slave/package_osx64/build/usr/share/julia/stdlib/v1.1/LinearAlgebra/src/factorization.jl:8</a></li> <li> size(F::<b>Transpose{#s623,#s622} where #s622<:Factorization where #s623</b>) in LinearAlgebra at <a href=\"file:///Users/osx/buildbot/slave/package_osx64/build/usr/share/julia/stdlib/v1.1/LinearAlgebra/src/factorization.jl\" target=\"_blank\">/Users/osx/buildbot/slave/package_osx64/build/usr/share/julia/stdlib/v1.1/LinearAlgebra/src/factorization.jl:9</a></li> <li> size(Q::<b>SuiteSparse.SPQR.QRSparseQ</b>) in SuiteSparse.SPQR at <a href=\"file:///Users/osx/buildbot/slave/package_osx64/build/usr/share/julia/stdlib/v1.1/SuiteSparse/src/spqr.jl\" target=\"_blank\">/Users/osx/buildbot/slave/package_osx64/build/usr/share/julia/stdlib/v1.1/SuiteSparse/src/spqr.jl:136</a></li> <li> size(Q::<b>LinearAlgebra.AbstractQ</b>) in LinearAlgebra at <a href=\"file:///Users/osx/buildbot/slave/package_osx64/build/usr/share/julia/stdlib/v1.1/LinearAlgebra/src/qr.jl\" target=\"_blank\">/Users/osx/buildbot/slave/package_osx64/build/usr/share/julia/stdlib/v1.1/LinearAlgebra/src/qr.jl:513</a></li> <li> size(Q::<b>LinearAlgebra.AbstractQ</b>, dim::<b>Integer</b>) in LinearAlgebra at <a href=\"file:///Users/osx/buildbot/slave/package_osx64/build/usr/share/julia/stdlib/v1.1/LinearAlgebra/src/qr.jl\" target=\"_blank\">/Users/osx/buildbot/slave/package_osx64/build/usr/share/julia/stdlib/v1.1/LinearAlgebra/src/qr.jl:512</a></li> <li> size(Q::<b>LinearAlgebra.LQPackedQ</b>) in LinearAlgebra at <a href=\"file:///Users/osx/buildbot/slave/package_osx64/build/usr/share/julia/stdlib/v1.1/LinearAlgebra/src/lq.jl\" target=\"_blank\">/Users/osx/buildbot/slave/package_osx64/build/usr/share/julia/stdlib/v1.1/LinearAlgebra/src/lq.jl:126</a></li> <li> size(Q::<b>LinearAlgebra.LQPackedQ</b>, dim::<b>Integer</b>) in LinearAlgebra at <a href=\"file:///Users/osx/buildbot/slave/package_osx64/build/usr/share/julia/stdlib/v1.1/LinearAlgebra/src/lq.jl\" target=\"_blank\">/Users/osx/buildbot/slave/package_osx64/build/usr/share/julia/stdlib/v1.1/LinearAlgebra/src/lq.jl:130</a></li> <li> size(A::<b>Union{Hermitian{T,S}, Symmetric{T,S}} where S where T</b>) in LinearAlgebra at <a href=\"file:///Users/osx/buildbot/slave/package_osx64/build/usr/share/julia/stdlib/v1.1/LinearAlgebra/src/symmetric.jl\" target=\"_blank\">/Users/osx/buildbot/slave/package_osx64/build/usr/share/julia/stdlib/v1.1/LinearAlgebra/src/symmetric.jl:185</a></li> <li> size(A::<b>Union{Hermitian{T,S}, Symmetric{T,S}} where S where T</b>, d) in LinearAlgebra at <a href=\"file:///Users/osx/buildbot/slave/package_osx64/build/usr/share/julia/stdlib/v1.1/LinearAlgebra/src/symmetric.jl\" target=\"_blank\">/Users/osx/buildbot/slave/package_osx64/build/usr/share/julia/stdlib/v1.1/LinearAlgebra/src/symmetric.jl:184</a></li> <li> size(D::<b>Diagonal</b>) in LinearAlgebra at <a href=\"file:///Users/osx/buildbot/slave/package_osx64/build/usr/share/julia/stdlib/v1.1/LinearAlgebra/src/diagonal.jl\" target=\"_blank\">/Users/osx/buildbot/slave/package_osx64/build/usr/share/julia/stdlib/v1.1/LinearAlgebra/src/diagonal.jl:75</a></li> <li> size(D::<b>Diagonal</b>, d::<b>Integer</b>) in LinearAlgebra at <a href=\"file:///Users/osx/buildbot/slave/package_osx64/build/usr/share/julia/stdlib/v1.1/LinearAlgebra/src/diagonal.jl\" target=\"_blank\">/Users/osx/buildbot/slave/package_osx64/build/usr/share/julia/stdlib/v1.1/LinearAlgebra/src/diagonal.jl:78</a></li> <li> size(M::<b>Bidiagonal</b>) in LinearAlgebra at <a href=\"file:///Users/osx/buildbot/slave/package_osx64/build/usr/share/julia/stdlib/v1.1/LinearAlgebra/src/bidiag.jl\" target=\"_blank\">/Users/osx/buildbot/slave/package_osx64/build/usr/share/julia/stdlib/v1.1/LinearAlgebra/src/bidiag.jl:218</a></li> <li> size(M::<b>Bidiagonal</b>, d::<b>Integer</b>) in LinearAlgebra at <a href=\"file:///Users/osx/buildbot/slave/package_osx64/build/usr/share/julia/stdlib/v1.1/LinearAlgebra/src/bidiag.jl\" target=\"_blank\">/Users/osx/buildbot/slave/package_osx64/build/usr/share/julia/stdlib/v1.1/LinearAlgebra/src/bidiag.jl:220</a></li> <li> size(S::<b>SparseArrays.SparseMatrixCSC</b>) in SparseArrays at <a href=\"file:///Users/osx/buildbot/slave/package_osx64/build/usr/share/julia/stdlib/v1.1/SparseArrays/src/sparsematrix.jl\" target=\"_blank\">/Users/osx/buildbot/slave/package_osx64/build/usr/share/julia/stdlib/v1.1/SparseArrays/src/sparsematrix.jl:36</a></li> <li> size(x::<b>SparseArrays.SparseVector</b>) in SparseArrays at <a href=\"file:///Users/osx/buildbot/slave/package_osx64/build/usr/share/julia/stdlib/v1.1/SparseArrays/src/sparsevector.jl\" target=\"_blank\">/Users/osx/buildbot/slave/package_osx64/build/usr/share/julia/stdlib/v1.1/SparseArrays/src/sparsevector.jl:41</a></li> <li> size(A::<b>Union{Dense, Sparse}</b>) in SuiteSparse.CHOLMOD at <a href=\"file:///Users/osx/buildbot/slave/package_osx64/build/usr/share/julia/stdlib/v1.1/SuiteSparse/src/cholmod.jl\" target=\"_blank\">/Users/osx/buildbot/slave/package_osx64/build/usr/share/julia/stdlib/v1.1/SuiteSparse/src/cholmod.jl:1131</a></li> <li> size(FC::<b>SuiteSparse.CHOLMOD.FactorComponent</b>) in SuiteSparse.CHOLMOD at <a href=\"file:///Users/osx/buildbot/slave/package_osx64/build/usr/share/julia/stdlib/v1.1/SuiteSparse/src/cholmod.jl\" target=\"_blank\">/Users/osx/buildbot/slave/package_osx64/build/usr/share/julia/stdlib/v1.1/SuiteSparse/src/cholmod.jl:1150</a></li> <li> size(FC::<b>SuiteSparse.CHOLMOD.FactorComponent</b>, i::<b>Integer</b>) in SuiteSparse.CHOLMOD at <a href=\"file:///Users/osx/buildbot/slave/package_osx64/build/usr/share/julia/stdlib/v1.1/SuiteSparse/src/cholmod.jl\" target=\"_blank\">/Users/osx/buildbot/slave/package_osx64/build/usr/share/julia/stdlib/v1.1/SuiteSparse/src/cholmod.jl:1149</a></li> <li> size(S::<b>SharedArrays.SharedArray</b>) in SharedArrays at <a href=\"file:///Users/osx/buildbot/slave/package_osx64/build/usr/share/julia/stdlib/v1.1/SharedArrays/src/SharedArrays.jl\" target=\"_blank\">/Users/osx/buildbot/slave/package_osx64/build/usr/share/julia/stdlib/v1.1/SharedArrays/src/SharedArrays.jl:283</a></li> <li> size(a::<b>Test.GenericArray</b>) in Test at <a href=\"file:///Users/osx/buildbot/slave/package_osx64/build/usr/share/julia/stdlib/v1.1/Test/src/Test.jl\" target=\"_blank\">/Users/osx/buildbot/slave/package_osx64/build/usr/share/julia/stdlib/v1.1/Test/src/Test.jl:1552</a></li> <li> size(v::<b>JSON.Parser.PushVector</b>) in JSON.Parser at <a href=\"file:///Users/fede/.julia/packages/JSON/ebvl3/src/pushvector.jl\" target=\"_blank\">/Users/fede/.julia/packages/JSON/ebvl3/src/pushvector.jl:14</a></li> <li> size(cb::<b>DataStructures.CircularBuffer</b>) in DataStructures at <a href=\"file:///Users/fede/.julia/packages/DataStructures/6r6kb/src/circular_buffer.jl\" target=\"_blank\">/Users/fede/.julia/packages/DataStructures/6r6kb/src/circular_buffer.jl:168</a></li> <li> size(a::<b>PyArray</b>) in PyCall at <a href=\"file:///Users/fede/.julia/packages/PyCall/ttONZ/src/pyarray.jl\" target=\"_blank\">/Users/fede/.julia/packages/PyCall/ttONZ/src/pyarray.jl:128</a></li> <li> size(a::<b>PyVector</b>) in PyCall at <a href=\"file:///Users/fede/.julia/packages/PyCall/ttONZ/src/conversions.jl\" target=\"_blank\">/Users/fede/.julia/packages/PyCall/ttONZ/src/conversions.jl:268</a></li> <li> size<i>{T, N}</i>(t::<b>AbstractArray{T,N}</b>, d) in Base at <a href=\"https://github.com/JuliaLang/julia/tree/80516ca20297a67b996caa08c38786332379b6a5/base/abstractarray.jl#L38\" target=\"_blank\">abstractarray.jl:38</a></li> <li> size(r::<b>Base.Iterators.Reverse</b>) in Base.Iterators at <a href=\"https://github.com/JuliaLang/julia/tree/80516ca20297a67b996caa08c38786332379b6a5/base/iterators.jl#L82\" target=\"_blank\">iterators.jl:82</a></li> <li> size(e::<b>Base.Iterators.Enumerate</b>) in Base.Iterators at <a href=\"https://github.com/JuliaLang/julia/tree/80516ca20297a67b996caa08c38786332379b6a5/base/iterators.jl#L136\" target=\"_blank\">iterators.jl:136</a></li> <li> size(v::<b>Base.Iterators.Pairs</b>) in Base.Iterators at <a href=\"https://github.com/JuliaLang/julia/tree/80516ca20297a67b996caa08c38786332379b6a5/base/iterators.jl#L232\" target=\"_blank\">iterators.jl:232</a></li> <li> size(z::<b>Base.Iterators.Zip</b>) in Base.Iterators at <a href=\"https://github.com/JuliaLang/julia/tree/80516ca20297a67b996caa08c38786332379b6a5/base/iterators.jl#L315\" target=\"_blank\">iterators.jl:315</a></li> <li> size(P::<b>Base.Iterators.ProductIterator</b>) in Base.Iterators at <a href=\"https://github.com/JuliaLang/julia/tree/80516ca20297a67b996caa08c38786332379b6a5/base/iterators.jl#L761\" target=\"_blank\">iterators.jl:761</a></li> <li> size(c::<b>AbstractChar</b>) in Base at <a href=\"https://github.com/JuliaLang/julia/tree/80516ca20297a67b996caa08c38786332379b6a5/base/char.jl#L189\" target=\"_blank\">char.jl:189</a></li> <li> size(c::<b>AbstractChar</b>, d) in Base at <a href=\"https://github.com/JuliaLang/julia/tree/80516ca20297a67b996caa08c38786332379b6a5/base/char.jl#L190\" target=\"_blank\">char.jl:190</a></li> <li> size(F::<b>Union{QR, QRCompactWY, QRPivoted}</b>) in LinearAlgebra at <a href=\"file:///Users/osx/buildbot/slave/package_osx64/build/usr/share/julia/stdlib/v1.1/LinearAlgebra/src/qr.jl\" target=\"_blank\">/Users/osx/buildbot/slave/package_osx64/build/usr/share/julia/stdlib/v1.1/LinearAlgebra/src/qr.jl:511</a></li> <li> size(F::<b>Union{QR, QRCompactWY, QRPivoted}</b>, dim::<b>Integer</b>) in LinearAlgebra at <a href=\"file:///Users/osx/buildbot/slave/package_osx64/build/usr/share/julia/stdlib/v1.1/LinearAlgebra/src/qr.jl\" target=\"_blank\">/Users/osx/buildbot/slave/package_osx64/build/usr/share/julia/stdlib/v1.1/LinearAlgebra/src/qr.jl:510</a></li> <li> size(F::<b>LQ</b>) in LinearAlgebra at <a href=\"file:///Users/osx/buildbot/slave/package_osx64/build/usr/share/julia/stdlib/v1.1/LinearAlgebra/src/lq.jl\" target=\"_blank\">/Users/osx/buildbot/slave/package_osx64/build/usr/share/julia/stdlib/v1.1/LinearAlgebra/src/lq.jl:122</a></li> <li> size(F::<b>LQ</b>, dim::<b>Integer</b>) in LinearAlgebra at <a href=\"file:///Users/osx/buildbot/slave/package_osx64/build/usr/share/julia/stdlib/v1.1/LinearAlgebra/src/lq.jl\" target=\"_blank\">/Users/osx/buildbot/slave/package_osx64/build/usr/share/julia/stdlib/v1.1/LinearAlgebra/src/lq.jl:121</a></li> <li> size(A::<b>SVD</b>) in LinearAlgebra at <a href=\"file:///Users/osx/buildbot/slave/package_osx64/build/usr/share/julia/stdlib/v1.1/LinearAlgebra/src/svd.jl\" target=\"_blank\">/Users/osx/buildbot/slave/package_osx64/build/usr/share/julia/stdlib/v1.1/LinearAlgebra/src/svd.jl:200</a></li> <li> size(A::<b>SVD</b>, dim::<b>Integer</b>) in LinearAlgebra at <a href=\"file:///Users/osx/buildbot/slave/package_osx64/build/usr/share/julia/stdlib/v1.1/LinearAlgebra/src/svd.jl\" target=\"_blank\">/Users/osx/buildbot/slave/package_osx64/build/usr/share/julia/stdlib/v1.1/LinearAlgebra/src/svd.jl:199</a></li> <li> size(C::<b>Union{Cholesky, CholeskyPivoted}</b>) in LinearAlgebra at <a href=\"file:///Users/osx/buildbot/slave/package_osx64/build/usr/share/julia/stdlib/v1.1/LinearAlgebra/src/cholesky.jl\" target=\"_blank\">/Users/osx/buildbot/slave/package_osx64/build/usr/share/julia/stdlib/v1.1/LinearAlgebra/src/cholesky.jl:335</a></li> <li> size(C::<b>Union{Cholesky, CholeskyPivoted}</b>, d::<b>Integer</b>) in LinearAlgebra at <a href=\"file:///Users/osx/buildbot/slave/package_osx64/build/usr/share/julia/stdlib/v1.1/LinearAlgebra/src/cholesky.jl\" target=\"_blank\">/Users/osx/buildbot/slave/package_osx64/build/usr/share/julia/stdlib/v1.1/LinearAlgebra/src/cholesky.jl:336</a></li> <li> size(A::<b>LU</b>) in LinearAlgebra at <a href=\"file:///Users/osx/buildbot/slave/package_osx64/build/usr/share/julia/stdlib/v1.1/LinearAlgebra/src/lu.jl\" target=\"_blank\">/Users/osx/buildbot/slave/package_osx64/build/usr/share/julia/stdlib/v1.1/LinearAlgebra/src/lu.jl:272</a></li> <li> size(A::<b>LU</b>, i) in LinearAlgebra at <a href=\"file:///Users/osx/buildbot/slave/package_osx64/build/usr/share/julia/stdlib/v1.1/LinearAlgebra/src/lu.jl\" target=\"_blank\">/Users/osx/buildbot/slave/package_osx64/build/usr/share/julia/stdlib/v1.1/LinearAlgebra/src/lu.jl:273</a></li> <li> size(B::<b>BunchKaufman</b>) in LinearAlgebra at <a href=\"file:///Users/osx/buildbot/slave/package_osx64/build/usr/share/julia/stdlib/v1.1/LinearAlgebra/src/bunchkaufman.jl\" target=\"_blank\">/Users/osx/buildbot/slave/package_osx64/build/usr/share/julia/stdlib/v1.1/LinearAlgebra/src/bunchkaufman.jl:123</a></li> <li> size(B::<b>BunchKaufman</b>, d::<b>Integer</b>) in LinearAlgebra at <a href=\"file:///Users/osx/buildbot/slave/package_osx64/build/usr/share/julia/stdlib/v1.1/LinearAlgebra/src/bunchkaufman.jl\" target=\"_blank\">/Users/osx/buildbot/slave/package_osx64/build/usr/share/julia/stdlib/v1.1/LinearAlgebra/src/bunchkaufman.jl:124</a></li> <li> size(S::<b>LDLt</b>) in LinearAlgebra at <a href=\"file:///Users/osx/buildbot/slave/package_osx64/build/usr/share/julia/stdlib/v1.1/LinearAlgebra/src/ldlt.jl\" target=\"_blank\">/Users/osx/buildbot/slave/package_osx64/build/usr/share/julia/stdlib/v1.1/LinearAlgebra/src/ldlt.jl:14</a></li> <li> size(S::<b>LDLt</b>, i::<b>Integer</b>) in LinearAlgebra at <a href=\"file:///Users/osx/buildbot/slave/package_osx64/build/usr/share/julia/stdlib/v1.1/LinearAlgebra/src/ldlt.jl\" target=\"_blank\">/Users/osx/buildbot/slave/package_osx64/build/usr/share/julia/stdlib/v1.1/LinearAlgebra/src/ldlt.jl:15</a></li> <li> size(F::<b>SuiteSparse.UMFPACK.UmfpackLU</b>) in SuiteSparse.UMFPACK at <a href=\"file:///Users/osx/buildbot/slave/package_osx64/build/usr/share/julia/stdlib/v1.1/SuiteSparse/src/umfpack.jl\" target=\"_blank\">/Users/osx/buildbot/slave/package_osx64/build/usr/share/julia/stdlib/v1.1/SuiteSparse/src/umfpack.jl:177</a></li> <li> size(F::<b>SuiteSparse.UMFPACK.UmfpackLU</b>, dim::<b>Integer</b>) in SuiteSparse.UMFPACK at <a href=\"file:///Users/osx/buildbot/slave/package_osx64/build/usr/share/julia/stdlib/v1.1/SuiteSparse/src/umfpack.jl\" target=\"_blank\">/Users/osx/buildbot/slave/package_osx64/build/usr/share/julia/stdlib/v1.1/SuiteSparse/src/umfpack.jl:179</a></li> <li> size(F::<b>SuiteSparse.CHOLMOD.Factor</b>) in SuiteSparse.CHOLMOD at <a href=\"file:///Users/osx/buildbot/slave/package_osx64/build/usr/share/julia/stdlib/v1.1/SuiteSparse/src/cholmod.jl\" target=\"_blank\">/Users/osx/buildbot/slave/package_osx64/build/usr/share/julia/stdlib/v1.1/SuiteSparse/src/cholmod.jl:1144</a></li> <li> size(F::<b>SuiteSparse.CHOLMOD.Factor</b>, i::<b>Integer</b>) in SuiteSparse.CHOLMOD at <a href=\"file:///Users/osx/buildbot/slave/package_osx64/build/usr/share/julia/stdlib/v1.1/SuiteSparse/src/cholmod.jl\" target=\"_blank\">/Users/osx/buildbot/slave/package_osx64/build/usr/share/julia/stdlib/v1.1/SuiteSparse/src/cholmod.jl:1135</a></li> <li> size(F::<b>SuiteSparse.SPQR.QRSparse</b>) in SuiteSparse.SPQR at <a href=\"file:///Users/osx/buildbot/slave/package_osx64/build/usr/share/julia/stdlib/v1.1/SuiteSparse/src/spqr.jl\" target=\"_blank\">/Users/osx/buildbot/slave/package_osx64/build/usr/share/julia/stdlib/v1.1/SuiteSparse/src/spqr.jl:116</a></li> <li> size(F::<b>SuiteSparse.SPQR.QRSparse</b>, i::<b>Integer</b>) in SuiteSparse.SPQR at <a href=\"file:///Users/osx/buildbot/slave/package_osx64/build/usr/share/julia/stdlib/v1.1/SuiteSparse/src/spqr.jl\" target=\"_blank\">/Users/osx/buildbot/slave/package_osx64/build/usr/share/julia/stdlib/v1.1/SuiteSparse/src/spqr.jl:118</a></li> <li> size(d::<b>DataStructures.MultiDict</b>) in DataStructures at <a href=\"file:///Users/fede/.julia/packages/DataStructures/6r6kb/src/multi_dict.jl\" target=\"_blank\">/Users/fede/.julia/packages/DataStructures/6r6kb/src/multi_dict.jl:98</a></li> <li> size(t::<b>Node</b>) in Main at In[35]:17</li> <li> size(t::<b>Leaf</b>) in Main at In[35]:18</li> <li> size(t::<b>Empty</b>) in Main at In[35]:19</li> </ul>"
      ],
      "text/plain": [
       "# 101 methods for generic function \"size\":\n",
       "[1] size(B::BitArray{1}) in Base at bitarray.jl:77\n",
       "[2] size(B::BitArray{1}, d) in Base at bitarray.jl:81\n",
       "[3] size(r::Core.Compiler.StmtRange) in Base.IRShow at show.jl:1561\n",
       "[4] size(itr::Base.AsyncGenerator) in Base at asyncmap.jl:409\n",
       "[5] size(zmsg::ZMQ.Message) in ZMQ at /Users/fede/.julia/packages/ZMQ/ABGOx/src/message.jl:95\n",
       "[6] size(b::PyBuffer) in PyCall at /Users/fede/.julia/packages/PyCall/ttONZ/src/pybuffer.jl:68\n",
       "[7] size(b::PyBuffer, d::Integer) in PyCall at /Users/fede/.julia/packages/PyCall/ttONZ/src/pybuffer.jl:74\n",
       "[8] size(o::PyObject) in PyCall at /Users/fede/.julia/packages/PyCall/ttONZ/src/PyCall.jl:806\n",
       "[9] size(g::Base.Generator) in Base at generator.jl:51\n",
       "[10] size(t::Tuple, d) in Base at tuple.jl:22\n",
       "[11] size(S::Base.Slice) in Base at indices.jl:328\n",
       "[12] size(S::Base.IdentityUnitRange) in Base at indices.jl:360\n",
       "[13] size(r::AbstractRange) in Base at range.jl:470\n",
       "[14] size(x::Number) in Base at number.jl:62\n",
       "[15] size(x::Number, d) in Base at number.jl:63\n",
       "[16] size(x::Ref) in Base at refpointer.jl:38\n",
       "[17] size(iter::LinearIndices) in Base at indices.jl:442\n",
       "[18] size(a::Array{T,1} where T) in Base at array.jl:155\n",
       "[19] size(a::Array{T,2} where T) in Base at array.jl:156\n",
       "[20] size(a::Array{#s72,N} where #s72) where N in Base at array.jl:157\n",
       "[21] size(a::Array, d) in Base at array.jl:154\n",
       "[22] size(V::SubArray) in Base at subarray.jl:65\n",
       "[23] size(A::Base.ReshapedArray) in Base at reshapedarray.jl:205\n",
       "[24] size(a::Base.ReinterpretArray{T,0,S,A} where A<:AbstractArray{S,0} where S) where T in Base at reinterpretarray.jl:77\n",
       "[25] size(a::Base.ReinterpretArray{T,N,S,A} where A<:AbstractArray{S,N} where N) where {T, S} in Base at reinterpretarray.jl:73\n",
       "[26] size(B::BitArray) in Base at bitarray.jl:78\n",
       "[27] size(s::Base.CodeUnits) in Base at strings/basic.jl:695\n",
       "[28] size(iter::CartesianIndices) in Base.IteratorsMD at multidimensional.jl:356\n",
       "[29] size(L::Base.LogicalIndex) in Base at multidimensional.jl:541\n",
       "[30] size(A::PermutedDimsArray{T,N,perm,iperm,AA} where AA<:AbstractArray where iperm) where {T, N, perm} in Base.PermutedDimsArrays at permuteddimsarray.jl:49\n",
       "[31] size(a::Random.UnsafeView) in Random at /Users/osx/buildbot/slave/package_osx64/build/usr/share/julia/stdlib/v1.1/Random/src/RNGs.jl:382\n",
       "[32] size(v::Union{Adjoint{T,#s623}, Transpose{T,#s623}} where #s623<:(AbstractArray{T,1} where T) where T) in LinearAlgebra at /Users/osx/buildbot/slave/package_osx64/build/usr/share/julia/stdlib/v1.1/LinearAlgebra/src/adjtrans.jl:123\n",
       "[33] size(A::Union{Adjoint{T,#s623}, Transpose{T,#s623}} where #s623<:(AbstractArray{T,2} where T) where T) in LinearAlgebra at /Users/osx/buildbot/slave/package_osx64/build/usr/share/julia/stdlib/v1.1/LinearAlgebra/src/adjtrans.jl:124\n",
       "[34] size(A::SymTridiagonal) in LinearAlgebra at /Users/osx/buildbot/slave/package_osx64/build/usr/share/julia/stdlib/v1.1/LinearAlgebra/src/tridiag.jl:113\n",
       "[35] size(A::SymTridiagonal, d::Integer) in LinearAlgebra at /Users/osx/buildbot/slave/package_osx64/build/usr/share/julia/stdlib/v1.1/LinearAlgebra/src/tridiag.jl:115\n",
       "[36] size(M::Tridiagonal) in LinearAlgebra at /Users/osx/buildbot/slave/package_osx64/build/usr/share/julia/stdlib/v1.1/LinearAlgebra/src/tridiag.jl:466\n",
       "[37] size(M::Tridiagonal, d::Integer) in LinearAlgebra at /Users/osx/buildbot/slave/package_osx64/build/usr/share/julia/stdlib/v1.1/LinearAlgebra/src/tridiag.jl:468\n",
       "[38] size(A::LowerTriangular) in LinearAlgebra at /Users/osx/buildbot/slave/package_osx64/build/usr/share/julia/stdlib/v1.1/LinearAlgebra/src/triangular.jl:37\n",
       "[39] size(A::LowerTriangular, d) in LinearAlgebra at /Users/osx/buildbot/slave/package_osx64/build/usr/share/julia/stdlib/v1.1/LinearAlgebra/src/triangular.jl:36\n",
       "[40] size(A::UnitLowerTriangular) in LinearAlgebra at /Users/osx/buildbot/slave/package_osx64/build/usr/share/julia/stdlib/v1.1/LinearAlgebra/src/triangular.jl:37\n",
       "[41] size(A::UnitLowerTriangular, d) in LinearAlgebra at /Users/osx/buildbot/slave/package_osx64/build/usr/share/julia/stdlib/v1.1/LinearAlgebra/src/triangular.jl:36\n",
       "[42] size(A::UpperTriangular) in LinearAlgebra at /Users/osx/buildbot/slave/package_osx64/build/usr/share/julia/stdlib/v1.1/LinearAlgebra/src/triangular.jl:37\n",
       "[43] size(A::UpperTriangular, d) in LinearAlgebra at /Users/osx/buildbot/slave/package_osx64/build/usr/share/julia/stdlib/v1.1/LinearAlgebra/src/triangular.jl:36\n",
       "[44] size(A::UnitUpperTriangular) in LinearAlgebra at /Users/osx/buildbot/slave/package_osx64/build/usr/share/julia/stdlib/v1.1/LinearAlgebra/src/triangular.jl:37\n",
       "[45] size(A::UnitUpperTriangular, d) in LinearAlgebra at /Users/osx/buildbot/slave/package_osx64/build/usr/share/julia/stdlib/v1.1/LinearAlgebra/src/triangular.jl:36\n",
       "[46] size(F::Adjoint{#s623,#s622} where #s622<:Factorization where #s623) in LinearAlgebra at /Users/osx/buildbot/slave/package_osx64/build/usr/share/julia/stdlib/v1.1/LinearAlgebra/src/factorization.jl:8\n",
       "[47] size(F::Transpose{#s623,#s622} where #s622<:Factorization where #s623) in LinearAlgebra at /Users/osx/buildbot/slave/package_osx64/build/usr/share/julia/stdlib/v1.1/LinearAlgebra/src/factorization.jl:9\n",
       "[48] size(Q::SuiteSparse.SPQR.QRSparseQ) in SuiteSparse.SPQR at /Users/osx/buildbot/slave/package_osx64/build/usr/share/julia/stdlib/v1.1/SuiteSparse/src/spqr.jl:136\n",
       "[49] size(Q::LinearAlgebra.AbstractQ) in LinearAlgebra at /Users/osx/buildbot/slave/package_osx64/build/usr/share/julia/stdlib/v1.1/LinearAlgebra/src/qr.jl:513\n",
       "[50] size(Q::LinearAlgebra.AbstractQ, dim::Integer) in LinearAlgebra at /Users/osx/buildbot/slave/package_osx64/build/usr/share/julia/stdlib/v1.1/LinearAlgebra/src/qr.jl:512\n",
       "[51] size(Q::LinearAlgebra.LQPackedQ) in LinearAlgebra at /Users/osx/buildbot/slave/package_osx64/build/usr/share/julia/stdlib/v1.1/LinearAlgebra/src/lq.jl:126\n",
       "[52] size(Q::LinearAlgebra.LQPackedQ, dim::Integer) in LinearAlgebra at /Users/osx/buildbot/slave/package_osx64/build/usr/share/julia/stdlib/v1.1/LinearAlgebra/src/lq.jl:130\n",
       "[53] size(A::Union{Hermitian{T,S}, Symmetric{T,S}} where S where T) in LinearAlgebra at /Users/osx/buildbot/slave/package_osx64/build/usr/share/julia/stdlib/v1.1/LinearAlgebra/src/symmetric.jl:185\n",
       "[54] size(A::Union{Hermitian{T,S}, Symmetric{T,S}} where S where T, d) in LinearAlgebra at /Users/osx/buildbot/slave/package_osx64/build/usr/share/julia/stdlib/v1.1/LinearAlgebra/src/symmetric.jl:184\n",
       "[55] size(D::Diagonal) in LinearAlgebra at /Users/osx/buildbot/slave/package_osx64/build/usr/share/julia/stdlib/v1.1/LinearAlgebra/src/diagonal.jl:75\n",
       "[56] size(D::Diagonal, d::Integer) in LinearAlgebra at /Users/osx/buildbot/slave/package_osx64/build/usr/share/julia/stdlib/v1.1/LinearAlgebra/src/diagonal.jl:78\n",
       "[57] size(M::Bidiagonal) in LinearAlgebra at /Users/osx/buildbot/slave/package_osx64/build/usr/share/julia/stdlib/v1.1/LinearAlgebra/src/bidiag.jl:218\n",
       "[58] size(M::Bidiagonal, d::Integer) in LinearAlgebra at /Users/osx/buildbot/slave/package_osx64/build/usr/share/julia/stdlib/v1.1/LinearAlgebra/src/bidiag.jl:220\n",
       "[59] size(S::SparseArrays.SparseMatrixCSC) in SparseArrays at /Users/osx/buildbot/slave/package_osx64/build/usr/share/julia/stdlib/v1.1/SparseArrays/src/sparsematrix.jl:36\n",
       "[60] size(x::SparseArrays.SparseVector) in SparseArrays at /Users/osx/buildbot/slave/package_osx64/build/usr/share/julia/stdlib/v1.1/SparseArrays/src/sparsevector.jl:41\n",
       "[61] size(A::Union{Dense, Sparse}) in SuiteSparse.CHOLMOD at /Users/osx/buildbot/slave/package_osx64/build/usr/share/julia/stdlib/v1.1/SuiteSparse/src/cholmod.jl:1131\n",
       "[62] size(FC::SuiteSparse.CHOLMOD.FactorComponent) in SuiteSparse.CHOLMOD at /Users/osx/buildbot/slave/package_osx64/build/usr/share/julia/stdlib/v1.1/SuiteSparse/src/cholmod.jl:1150\n",
       "[63] size(FC::SuiteSparse.CHOLMOD.FactorComponent, i::Integer) in SuiteSparse.CHOLMOD at /Users/osx/buildbot/slave/package_osx64/build/usr/share/julia/stdlib/v1.1/SuiteSparse/src/cholmod.jl:1149\n",
       "[64] size(S::SharedArrays.SharedArray) in SharedArrays at /Users/osx/buildbot/slave/package_osx64/build/usr/share/julia/stdlib/v1.1/SharedArrays/src/SharedArrays.jl:283\n",
       "[65] size(a::Test.GenericArray) in Test at /Users/osx/buildbot/slave/package_osx64/build/usr/share/julia/stdlib/v1.1/Test/src/Test.jl:1552\n",
       "[66] size(v::JSON.Parser.PushVector) in JSON.Parser at /Users/fede/.julia/packages/JSON/ebvl3/src/pushvector.jl:14\n",
       "[67] size(cb::DataStructures.CircularBuffer) in DataStructures at /Users/fede/.julia/packages/DataStructures/6r6kb/src/circular_buffer.jl:168\n",
       "[68] size(a::PyArray) in PyCall at /Users/fede/.julia/packages/PyCall/ttONZ/src/pyarray.jl:128\n",
       "[69] size(a::PyVector) in PyCall at /Users/fede/.julia/packages/PyCall/ttONZ/src/conversions.jl:268\n",
       "[70] size(t::AbstractArray{T,N}, d) where {T, N} in Base at abstractarray.jl:38\n",
       "[71] size(r::Base.Iterators.Reverse) in Base.Iterators at iterators.jl:82\n",
       "[72] size(e::Base.Iterators.Enumerate) in Base.Iterators at iterators.jl:136\n",
       "[73] size(v::Base.Iterators.Pairs) in Base.Iterators at iterators.jl:232\n",
       "[74] size(z::Base.Iterators.Zip) in Base.Iterators at iterators.jl:315\n",
       "[75] size(P::Base.Iterators.ProductIterator) in Base.Iterators at iterators.jl:761\n",
       "[76] size(c::AbstractChar) in Base at char.jl:189\n",
       "[77] size(c::AbstractChar, d) in Base at char.jl:190\n",
       "[78] size(F::Union{QR, QRCompactWY, QRPivoted}) in LinearAlgebra at /Users/osx/buildbot/slave/package_osx64/build/usr/share/julia/stdlib/v1.1/LinearAlgebra/src/qr.jl:511\n",
       "[79] size(F::Union{QR, QRCompactWY, QRPivoted}, dim::Integer) in LinearAlgebra at /Users/osx/buildbot/slave/package_osx64/build/usr/share/julia/stdlib/v1.1/LinearAlgebra/src/qr.jl:510\n",
       "[80] size(F::LQ) in LinearAlgebra at /Users/osx/buildbot/slave/package_osx64/build/usr/share/julia/stdlib/v1.1/LinearAlgebra/src/lq.jl:122\n",
       "[81] size(F::LQ, dim::Integer) in LinearAlgebra at /Users/osx/buildbot/slave/package_osx64/build/usr/share/julia/stdlib/v1.1/LinearAlgebra/src/lq.jl:121\n",
       "[82] size(A::SVD) in LinearAlgebra at /Users/osx/buildbot/slave/package_osx64/build/usr/share/julia/stdlib/v1.1/LinearAlgebra/src/svd.jl:200\n",
       "[83] size(A::SVD, dim::Integer) in LinearAlgebra at /Users/osx/buildbot/slave/package_osx64/build/usr/share/julia/stdlib/v1.1/LinearAlgebra/src/svd.jl:199\n",
       "[84] size(C::Union{Cholesky, CholeskyPivoted}) in LinearAlgebra at /Users/osx/buildbot/slave/package_osx64/build/usr/share/julia/stdlib/v1.1/LinearAlgebra/src/cholesky.jl:335\n",
       "[85] size(C::Union{Cholesky, CholeskyPivoted}, d::Integer) in LinearAlgebra at /Users/osx/buildbot/slave/package_osx64/build/usr/share/julia/stdlib/v1.1/LinearAlgebra/src/cholesky.jl:336\n",
       "[86] size(A::LU) in LinearAlgebra at /Users/osx/buildbot/slave/package_osx64/build/usr/share/julia/stdlib/v1.1/LinearAlgebra/src/lu.jl:272\n",
       "[87] size(A::LU, i) in LinearAlgebra at /Users/osx/buildbot/slave/package_osx64/build/usr/share/julia/stdlib/v1.1/LinearAlgebra/src/lu.jl:273\n",
       "[88] size(B::BunchKaufman) in LinearAlgebra at /Users/osx/buildbot/slave/package_osx64/build/usr/share/julia/stdlib/v1.1/LinearAlgebra/src/bunchkaufman.jl:123\n",
       "[89] size(B::BunchKaufman, d::Integer) in LinearAlgebra at /Users/osx/buildbot/slave/package_osx64/build/usr/share/julia/stdlib/v1.1/LinearAlgebra/src/bunchkaufman.jl:124\n",
       "[90] size(S::LDLt) in LinearAlgebra at /Users/osx/buildbot/slave/package_osx64/build/usr/share/julia/stdlib/v1.1/LinearAlgebra/src/ldlt.jl:14\n",
       "[91] size(S::LDLt, i::Integer) in LinearAlgebra at /Users/osx/buildbot/slave/package_osx64/build/usr/share/julia/stdlib/v1.1/LinearAlgebra/src/ldlt.jl:15\n",
       "[92] size(F::SuiteSparse.UMFPACK.UmfpackLU) in SuiteSparse.UMFPACK at /Users/osx/buildbot/slave/package_osx64/build/usr/share/julia/stdlib/v1.1/SuiteSparse/src/umfpack.jl:177\n",
       "[93] size(F::SuiteSparse.UMFPACK.UmfpackLU, dim::Integer) in SuiteSparse.UMFPACK at /Users/osx/buildbot/slave/package_osx64/build/usr/share/julia/stdlib/v1.1/SuiteSparse/src/umfpack.jl:179\n",
       "[94] size(F::SuiteSparse.CHOLMOD.Factor) in SuiteSparse.CHOLMOD at /Users/osx/buildbot/slave/package_osx64/build/usr/share/julia/stdlib/v1.1/SuiteSparse/src/cholmod.jl:1144\n",
       "[95] size(F::SuiteSparse.CHOLMOD.Factor, i::Integer) in SuiteSparse.CHOLMOD at /Users/osx/buildbot/slave/package_osx64/build/usr/share/julia/stdlib/v1.1/SuiteSparse/src/cholmod.jl:1135\n",
       "[96] size(F::SuiteSparse.SPQR.QRSparse) in SuiteSparse.SPQR at /Users/osx/buildbot/slave/package_osx64/build/usr/share/julia/stdlib/v1.1/SuiteSparse/src/spqr.jl:116\n",
       "[97] size(F::SuiteSparse.SPQR.QRSparse, i::Integer) in SuiteSparse.SPQR at /Users/osx/buildbot/slave/package_osx64/build/usr/share/julia/stdlib/v1.1/SuiteSparse/src/spqr.jl:118\n",
       "[98] size(d::DataStructures.MultiDict) in DataStructures at /Users/fede/.julia/packages/DataStructures/6r6kb/src/multi_dict.jl:98\n",
       "[99] size(t::Node) in Main at In[35]:17\n",
       "[100] size(t::Leaf) in Main at In[35]:18\n",
       "[101] size(t::Empty) in Main at In[35]:19"
      ]
     },
     "execution_count": 36,
     "metadata": {},
     "output_type": "execute_result"
    }
   ],
   "source": [
    "methods(size)"
   ]
  },
  {
   "cell_type": "markdown",
   "metadata": {},
   "source": [
    "En una llamada a una función, Julia busca en tiempo de compilación por la definición mas específica, es decir aquella cuyos tipos son mas cercanos a los tipos de los argumentos con los que se invoca, y arrojará un error en caso de que no encuentre ninguna\n",
    "Multiple dispatch nos permite escribir código más conciso, y permite definir comportamiento para nuevos tipos de una forma más sencilla"
   ]
  },
  {
   "cell_type": "code",
   "execution_count": 37,
   "metadata": {},
   "outputs": [
    {
     "name": "stdout",
     "output_type": "stream",
     "text": [
      "AA\n",
      "AB\n",
      "BA\n",
      "BB\n"
     ]
    }
   ],
   "source": [
    "struct A end\n",
    "struct B end\n",
    "\n",
    "doSomething(x::A, y::A) = println(\"AA\")\n",
    "doSomething(x::A, y::B) = println(\"AB\")\n",
    "doSomething(x::B, y::A) = println(\"BA\")\n",
    "doSomething(x::B, y::B) = println(\"BB\")\n",
    "\n",
    "xs = [A(), B()]\n",
    "for x in xs\n",
    "    for y in xs\n",
    "        doSomething(x,y)\n",
    "    end\n",
    "end"
   ]
  },
  {
   "cell_type": "markdown",
   "metadata": {},
   "source": [
    "## DataFrames"
   ]
  },
  {
   "cell_type": "code",
   "execution_count": 38,
   "metadata": {},
   "outputs": [
    {
     "name": "stderr",
     "output_type": "stream",
     "text": [
      "┌ Info: Recompiling stale cache file /Users/fede/.julia/compiled/v1.1/DataFrames/AR9oZ.ji for DataFrames [a93c6f00-e57d-5684-b7b6-d8193f3e46c0]\n",
      "└ @ Base loading.jl:1184\n",
      "WARNING: using DataFrames.show in module Main conflicts with an existing identifier.\n"
     ]
    }
   ],
   "source": [
    "using Pkg\n",
    "using DataFrames"
   ]
  },
  {
   "cell_type": "code",
   "execution_count": null,
   "metadata": {},
   "outputs": [
    {
     "name": "stderr",
     "output_type": "stream",
     "text": [
      "┌ Info: Precompiling RDatasets [ce6b1742-4840-55fa-b093-852dadbb1d8b]\n",
      "└ @ Base loading.jl:1186\n"
     ]
    }
   ],
   "source": [
    "using RDatasets;\n",
    "df = dataset(\"datasets\", \"iris\")"
   ]
  },
  {
   "cell_type": "code",
   "execution_count": null,
   "metadata": {},
   "outputs": [],
   "source": [
    "size(df)"
   ]
  },
  {
   "cell_type": "code",
   "execution_count": null,
   "metadata": {},
   "outputs": [],
   "source": [
    "first(df, 5)"
   ]
  },
  {
   "cell_type": "code",
   "execution_count": null,
   "metadata": {},
   "outputs": [],
   "source": [
    "last(df, 5)"
   ]
  },
  {
   "cell_type": "code",
   "execution_count": null,
   "metadata": {},
   "outputs": [],
   "source": [
    "names(df)"
   ]
  },
  {
   "cell_type": "code",
   "execution_count": null,
   "metadata": {},
   "outputs": [],
   "source": [
    "df[:Species] # or df.Species"
   ]
  },
  {
   "cell_type": "code",
   "execution_count": null,
   "metadata": {},
   "outputs": [],
   "source": [
    "describe(df)"
   ]
  },
  {
   "cell_type": "markdown",
   "metadata": {},
   "source": [
    "Seleccionando columnas:"
   ]
  },
  {
   "cell_type": "code",
   "execution_count": null,
   "metadata": {},
   "outputs": [],
   "source": [
    "df[:, 2]"
   ]
  },
  {
   "cell_type": "markdown",
   "metadata": {},
   "source": [
    "seleccionando filas:"
   ]
  },
  {
   "cell_type": "code",
   "execution_count": null,
   "metadata": {},
   "outputs": [],
   "source": [
    "df[1, :]"
   ]
  },
  {
   "cell_type": "markdown",
   "metadata": {},
   "source": [
    "Boolean indexing"
   ]
  },
  {
   "cell_type": "code",
   "execution_count": null,
   "metadata": {},
   "outputs": [],
   "source": [
    "df[:Species] .== \"setosa\""
   ]
  },
  {
   "cell_type": "code",
   "execution_count": null,
   "metadata": {},
   "outputs": [],
   "source": [
    "df[df[:Species] .== \"setosa\", :]"
   ]
  },
  {
   "cell_type": "code",
   "execution_count": null,
   "metadata": {},
   "outputs": [],
   "source": [
    "groupby(df, :Species)"
   ]
  },
  {
   "cell_type": "markdown",
   "metadata": {},
   "source": [
    "Split-apply-combine en una sola linea"
   ]
  },
  {
   "cell_type": "code",
   "execution_count": null,
   "metadata": {},
   "outputs": [],
   "source": [
    "using Statistics\n",
    "mean_petal_lengths = by(df, :Species, mean = :PetalLength => mean, count = :PetalLength => length)"
   ]
  },
  {
   "cell_type": "markdown",
   "metadata": {},
   "source": [
    "# Plotting"
   ]
  },
  {
   "cell_type": "code",
   "execution_count": null,
   "metadata": {},
   "outputs": [],
   "source": [
    "using Plots, StatsPlots"
   ]
  },
  {
   "cell_type": "code",
   "execution_count": null,
   "metadata": {},
   "outputs": [],
   "source": [
    "backends()"
   ]
  },
  {
   "cell_type": "code",
   "execution_count": null,
   "metadata": {},
   "outputs": [],
   "source": [
    "pyplot()"
   ]
  },
  {
   "cell_type": "code",
   "execution_count": null,
   "metadata": {},
   "outputs": [],
   "source": [
    "@df df scatter(:SepalLength, :SepalWidth, group=:Species,\n",
    "        title = \"My awesome plot\",\n",
    "        xlabel = \"Length\", ylabel = \"Width\",\n",
    "        m=(0.5, [:cross :hex :star7], 12),\n",
    "        bg=RGB(.2,.2,.2))"
   ]
  },
  {
   "cell_type": "code",
   "execution_count": null,
   "metadata": {},
   "outputs": [],
   "source": [
    "# define the Lorenz attractor\n",
    "mutable struct Lorenz\n",
    "    dt; σ; ρ; β; x; y; z\n",
    "end\n",
    "\n",
    "function step!(l::Lorenz)\n",
    "    dx = l.σ*(l.y - l.x)       ; l.x += l.dt * dx\n",
    "    dy = l.x*(l.ρ - l.z) - l.y ; l.y += l.dt * dy\n",
    "    dz = l.x*l.y - l.β*l.z     ; l.z += l.dt * dz\n",
    "end\n",
    "\n",
    "attractor = Lorenz((dt = 0.02, σ = 10., ρ = 28., β = 8//3, x = 1., y = 1., z = 1.)...)\n",
    "\n",
    "\n",
    "# initialize a 3D plot with 1 empty series\n",
    "plt = plot3d(1, xlim=(-25,25), ylim=(-25,25), zlim=(0,50),\n",
    "                title = \"Lorenz Attractor\", marker = 2)\n",
    "\n",
    "# build an animated gif by pushing new points to the plot, saving every 10th frame\n",
    "@gif for i=1:1500\n",
    "    step!(attractor)\n",
    "    push!(plt, attractor.x, attractor.y, attractor.z)\n",
    "end every 10"
   ]
  },
  {
   "cell_type": "markdown",
   "metadata": {},
   "source": [
    "# TLDR:"
   ]
  },
  {
   "cell_type": "markdown",
   "metadata": {},
   "source": [
    "- Lenguaje de alto nivel\n",
    "- Alta performance, comparable con C\n",
    "- Diseñado para el cálculo numérico y la comunidad científica\n",
    "- Interoperabilidad con Python, C\n",
    "- Static typing, Type inference\n",
    "- Multidimensional arrays \"numpy built-in\"\n",
    "- Multiple-dispatch\n",
    "- Muchos paquetes de Data Science creados por la comunidad científica"
   ]
  },
  {
   "cell_type": "markdown",
   "metadata": {},
   "source": [
    "# Repo"
   ]
  },
  {
   "cell_type": "markdown",
   "metadata": {},
   "source": [
    "https://github.com/marcosfede/julia_talk"
   ]
  },
  {
   "cell_type": "markdown",
   "metadata": {},
   "source": [
    "<img src=\"repo.png\" width=400 height=400/>"
   ]
  },
  {
   "cell_type": "markdown",
   "metadata": {},
   "source": [
    "## Links"
   ]
  },
  {
   "cell_type": "markdown",
   "metadata": {},
   "source": [
    "https://julialang.org/\n",
    "\n",
    "Tutorials:  \n",
    "http://ucidatascienceinitiative.github.io/IntroToJulia/  \n",
    "https://github.com/scidom/StatsLearningByExample.jl  \n",
    "http://www.breloff.com/JuliaML-and-Plots/  \n",
    "https://lectures.quantecon.org/jl/julia_plots.html#plotsjl-jl  \n",
    "https://en.wikibooks.org/wiki/Introducing_Julia/Plotting\n",
    "\n",
    "Articles:  \n",
    "http://ucidatascienceinitiative.github.io/IntroToJulia/Html/WhyJulia  \n",
    "http://www.stochasticlifestyle.com/7-julia-gotchas-handle/  \n",
    "https://arstechnica.com/science/2014/05/scientific-computings-future-can-any-coding-language-top-a-1950s-behemoth/  \n",
    "http://www.admin-magazine.com/HPC/Articles/Julia-A-New-Language-For-Technical-Computing  \n",
    "http://www.admin-magazine.com/HPC/Articles/Parallel-Julia-Jumping-Right-In  \n",
    "https://www.evanmiller.org/why-im-betting-on-julia.html  "
   ]
  },
  {
   "cell_type": "code",
   "execution_count": null,
   "metadata": {},
   "outputs": [],
   "source": []
  }
 ],
 "metadata": {
  "kernelspec": {
   "display_name": "Julia 1.1.0",
   "language": "julia",
   "name": "julia-1.1"
  },
  "language_info": {
   "file_extension": ".jl",
   "mimetype": "application/julia",
   "name": "julia",
   "version": "1.1.0"
  }
 },
 "nbformat": 4,
 "nbformat_minor": 2
}
