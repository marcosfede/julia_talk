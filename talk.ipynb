{
 "cells": [
  {
   "cell_type": "markdown",
   "metadata": {},
   "source": [
    "<img src=\"https://upload.wikimedia.org/wikipedia/commons/thumb/6/69/Julia_prog_language.svg/1200px-Julia_prog_language.svg.png\" width=400 height=400 style=\"padding-right: 100px\"/>"
   ]
  },
  {
   "cell_type": "markdown",
   "metadata": {},
   "source": [
    "# Introduction"
   ]
  },
  {
   "cell_type": "markdown",
   "metadata": {},
   "source": [
    "- Julia is a high-level, high-performance dynamic programming language designed for numerical computing\n",
    "- The goal is to have an expressive and easy-to-use language without sacrificing performance, and to be able to use the same language in prototyping and in production environments.\n",
    "- First release in 2012.\n",
    "- MIT License.\n",
    "- The current stable version is 1.1.0\n",
    "\n"
   ]
  },
  {
   "cell_type": "markdown",
   "metadata": {},
   "source": [
    "## Compiler"
   ]
  },
  {
   "cell_type": "markdown",
   "metadata": {},
   "source": [
    "- Julia has an LLVM-based JIT compiler\n",
    "- JIT description\n",
    "- Julia code is interpreted and compiled to native machine code.\n",
    "- bytecode\n",
    "- compare with JS, pypy"
   ]
  },
  {
   "cell_type": "code",
   "execution_count": 4,
   "metadata": {},
   "outputs": [
    {
     "data": {
      "text/plain": [
       "f (generic function with 1 method)"
      ]
     },
     "execution_count": 4,
     "metadata": {},
     "output_type": "execute_result"
    }
   ],
   "source": [
    "f(x) = x * x"
   ]
  },
  {
   "cell_type": "code",
   "execution_count": 5,
   "metadata": {},
   "outputs": [
    {
     "name": "stdout",
     "output_type": "stream",
     "text": [
      "\n",
      ";  @ In[4]:1 within `f'\n",
      "define double @julia_f_12592(double) {\n",
      "top:\n",
      "; ┌ @ float.jl:399 within `*'\n",
      "   %1 = fmul double %0, %0\n",
      "; └\n",
      "  ret double %1\n",
      "}\n"
     ]
    }
   ],
   "source": [
    "code_llvm(f, (Float64,))"
   ]
  },
  {
   "cell_type": "code",
   "execution_count": 6,
   "metadata": {},
   "outputs": [
    {
     "name": "stdout",
     "output_type": "stream",
     "text": [
      "\t.section\t__TEXT,__text,regular,pure_instructions\n",
      "; ┌ @ In[4]:1 within `f'\n",
      "; │┌ @ In[4]:1 within `*'\n",
      "\tvmulsd\t%xmm0, %xmm0, %xmm0\n",
      "; │└\n",
      "\tretl\n",
      "\tnopw\t%cs:(%eax,%eax)\n",
      "; └\n"
     ]
    }
   ],
   "source": [
    "code_native(f, (Float64,))"
   ]
  },
  {
   "cell_type": "markdown",
   "metadata": {},
   "source": [
    "# Features"
   ]
  },
  {
   "cell_type": "markdown",
   "metadata": {},
   "source": [
    "- Syntax is mostly MATLAB and Python based.\n",
    "- It combines features of procedural and functional languages, with some object-oriented features.\n",
    "- It integrates libraries for linear algebra, statistics, signal processing and more."
   ]
  },
  {
   "cell_type": "markdown",
   "metadata": {},
   "source": [
    "- Static typing\n",
    "- Type inference\n",
    "- Multiple-dispatch\n",
    "- Functions and types are values, and every value has a type. Functions and types are first class objects."
   ]
  },
  {
   "cell_type": "markdown",
   "metadata": {},
   "source": [
    "## Package manager"
   ]
  },
  {
   "cell_type": "code",
   "execution_count": 9,
   "metadata": {},
   "outputs": [
    {
     "name": "stdout",
     "output_type": "stream",
     "text": [
      "\u001b[32m\u001b[1m  Updating\u001b[22m\u001b[39m registry at `~/.julia/registries/General`\n",
      "\u001b[32m\u001b[1m  Updating\u001b[22m\u001b[39m git-repo `https://github.com/JuliaRegistries/General.git`\n",
      "\u001b[?25l\u001b[2K\u001b[?25h\u001b[32m\u001b[1m Resolving\u001b[22m\u001b[39m package versions...\n",
      "\u001b[32m\u001b[1m  Updating\u001b[22m\u001b[39m `~/.julia/environments/v1.1/Project.toml`\n",
      "\u001b[90m [no changes]\u001b[39m\n",
      "\u001b[32m\u001b[1m  Updating\u001b[22m\u001b[39m `~/.julia/environments/v1.1/Manifest.toml`\n",
      "\u001b[90m [no changes]\u001b[39m\n"
     ]
    }
   ],
   "source": [
    "using Pkg\n",
    "Pkg.add(\"DataFrames\")"
   ]
  },
  {
   "cell_type": "markdown",
   "metadata": {},
   "source": [
    "## Integration with other languages"
   ]
  },
  {
   "cell_type": "markdown",
   "metadata": {},
   "source": [
    "- C and Fortran code can be called via ccall.\n",
    "- JavaCall\n",
    "- PyCall\n",
    "- RCall"
   ]
  },
  {
   "cell_type": "markdown",
   "metadata": {},
   "source": [
    "### C"
   ]
  },
  {
   "cell_type": "code",
   "execution_count": 12,
   "metadata": {},
   "outputs": [
    {
     "data": {
      "text/plain": [
       "17482195"
      ]
     },
     "execution_count": 12,
     "metadata": {},
     "output_type": "execute_result"
    }
   ],
   "source": [
    "ccall((:clock, \"libc\"), Int32, ())"
   ]
  },
  {
   "cell_type": "markdown",
   "metadata": {},
   "source": [
    "### PyCall"
   ]
  },
  {
   "cell_type": "code",
   "execution_count": 1,
   "metadata": {},
   "outputs": [
    {
     "data": {
      "text/plain": [
       "0.0"
      ]
     },
     "execution_count": 1,
     "metadata": {},
     "output_type": "execute_result"
    }
   ],
   "source": [
    "using PyCall\n",
    "math = pyimport(\"math\")\n",
    "math.sin(math.pi / 4) - sin(pi / 4)"
   ]
  },
  {
   "cell_type": "code",
   "execution_count": 2,
   "metadata": {},
   "outputs": [
    {
     "data": {
      "text/plain": [
       "3×4 Array{Float64,2}:\n",
       " 0.585809  0.441067  0.626922  0.373546\n",
       " 0.106631  0.65142   0.818155  0.810889\n",
       " 0.982709  0.566733  0.708751  0.287664"
      ]
     },
     "execution_count": 2,
     "metadata": {},
     "output_type": "execute_result"
    }
   ],
   "source": [
    "nr = pyimport(\"numpy.random\")\n",
    "nr.rand(3,4)"
   ]
  },
  {
   "cell_type": "markdown",
   "metadata": {},
   "source": [
    "## Integration with the shell"
   ]
  },
  {
   "cell_type": "code",
   "execution_count": 22,
   "metadata": {},
   "outputs": [
    {
     "name": "stdout",
     "output_type": "stream",
     "text": [
      "/Users/fede/dev/tmp/juliatalk\n"
     ]
    },
    {
     "data": {
      "text/plain": [
       "Process(`\u001b[4mpwd\u001b[24m`, ProcessExited(0))"
      ]
     },
     "execution_count": 22,
     "metadata": {},
     "output_type": "execute_result"
    }
   ],
   "source": [
    "run(`pwd`)"
   ]
  },
  {
   "cell_type": "markdown",
   "metadata": {},
   "source": [
    "## Vectors and matrices"
   ]
  },
  {
   "cell_type": "code",
   "execution_count": 23,
   "metadata": {},
   "outputs": [
    {
     "data": {
      "text/plain": [
       "3×4 Array{Float64,2}:\n",
       " 0.837215  0.566919  0.327536  0.904054\n",
       " 0.254953  0.125858  0.89988   0.974484\n",
       " 0.957635  0.564369  0.340412  0.231007"
      ]
     },
     "execution_count": 23,
     "metadata": {},
     "output_type": "execute_result"
    }
   ],
   "source": [
    "x = rand(3,4)"
   ]
  },
  {
   "cell_type": "markdown",
   "metadata": {},
   "source": [
    "### Indexing"
   ]
  },
  {
   "cell_type": "code",
   "execution_count": 25,
   "metadata": {},
   "outputs": [
    {
     "data": {
      "text/plain": [
       "4-element Array{Float64,1}:\n",
       " 0.8372150747344709\n",
       " 0.5669190408456799\n",
       " 0.3275356795231106\n",
       " 0.90405390406413  "
      ]
     },
     "execution_count": 25,
     "metadata": {},
     "output_type": "execute_result"
    }
   ],
   "source": [
    "x[1,:]"
   ]
  },
  {
   "cell_type": "code",
   "execution_count": 26,
   "metadata": {},
   "outputs": [
    {
     "data": {
      "text/plain": [
       "3-element Array{Float64,1}:\n",
       " 0.8372150747344709\n",
       " 0.2549534577523471\n",
       " 0.957634512852906 "
      ]
     },
     "execution_count": 26,
     "metadata": {},
     "output_type": "execute_result"
    }
   ],
   "source": [
    "x[:,1]"
   ]
  },
  {
   "cell_type": "code",
   "execution_count": 27,
   "metadata": {},
   "outputs": [
    {
     "data": {
      "text/plain": [
       "0.8372150747344709"
      ]
     },
     "execution_count": 27,
     "metadata": {},
     "output_type": "execute_result"
    }
   ],
   "source": [
    "x[1,1]"
   ]
  },
  {
   "cell_type": "markdown",
   "metadata": {},
   "source": [
    "- Indexing (on the right side of an assignment ) makes a copy of the original array\n",
    "- Assignment **does not** make a copy"
   ]
  },
  {
   "cell_type": "markdown",
   "metadata": {},
   "source": [
    "### Linear algebra operations"
   ]
  },
  {
   "cell_type": "code",
   "execution_count": 37,
   "metadata": {},
   "outputs": [],
   "source": [
    "using LinearAlgebra"
   ]
  },
  {
   "cell_type": "code",
   "execution_count": 38,
   "metadata": {},
   "outputs": [
    {
     "data": {
      "text/plain": [
       "4×3 Adjoint{Float64,Array{Float64,2}}:\n",
       " 0.0  0.254953  0.957635\n",
       " 0.0  0.125858  0.564369\n",
       " 0.0  0.89988   0.340412\n",
       " 0.0  0.974484  0.231007"
      ]
     },
     "execution_count": 38,
     "metadata": {},
     "output_type": "execute_result"
    }
   ],
   "source": [
    "x'"
   ]
  },
  {
   "cell_type": "code",
   "execution_count": 39,
   "metadata": {},
   "outputs": [
    {
     "data": {
      "text/plain": [
       "3×3 Array{Float64,2}:\n",
       " 0.0  0.0       0.0     \n",
       " 0.0  1.84025   0.846626\n",
       " 0.0  0.846626  1.40482 "
      ]
     },
     "execution_count": 39,
     "metadata": {},
     "output_type": "execute_result"
    }
   ],
   "source": [
    "x2 = x * x'"
   ]
  },
  {
   "cell_type": "code",
   "execution_count": 40,
   "metadata": {},
   "outputs": [
    {
     "data": {
      "text/plain": [
       "0.0"
      ]
     },
     "execution_count": 40,
     "metadata": {},
     "output_type": "execute_result"
    }
   ],
   "source": [
    "det(x2)"
   ]
  },
  {
   "cell_type": "code",
   "execution_count": 41,
   "metadata": {},
   "outputs": [
    {
     "data": {
      "text/plain": [
       "3×3 Array{Float64,2}:\n",
       " 0.0   0.0        0.0     \n",
       " 0.0   0.751868  -0.453119\n",
       " 0.0  -0.453119   0.98491 "
      ]
     },
     "execution_count": 41,
     "metadata": {},
     "output_type": "execute_result"
    }
   ],
   "source": [
    "pinv(x2)"
   ]
  },
  {
   "cell_type": "code",
   "execution_count": 42,
   "metadata": {},
   "outputs": [
    {
     "data": {
      "text/plain": [
       "4-element Array{Float64,1}:\n",
       " 0.7928669809982976 \n",
       " 0.5013071929381108 \n",
       " 0.90397729754608   \n",
       " 0.32458177472078265"
      ]
     },
     "execution_count": 42,
     "metadata": {},
     "output_type": "execute_result"
    }
   ],
   "source": [
    "row = rand(4)"
   ]
  },
  {
   "cell_type": "code",
   "execution_count": 43,
   "metadata": {},
   "outputs": [
    {
     "data": {
      "text/plain": [
       "1×4 Adjoint{Float64,Array{Float64,1}}:\n",
       " 0.792867  0.501307  0.903977  0.324582"
      ]
     },
     "execution_count": 43,
     "metadata": {},
     "output_type": "execute_result"
    }
   ],
   "source": [
    "row'"
   ]
  },
  {
   "cell_type": "code",
   "execution_count": 44,
   "metadata": {},
   "outputs": [
    {
     "data": {
      "text/plain": [
       "1.80247523420845"
      ]
     },
     "execution_count": 44,
     "metadata": {},
     "output_type": "execute_result"
    }
   ],
   "source": [
    "row' * row"
   ]
  },
  {
   "cell_type": "markdown",
   "metadata": {},
   "source": [
    "### Horizontal and vertical concatenation"
   ]
  },
  {
   "cell_type": "code",
   "execution_count": 45,
   "metadata": {},
   "outputs": [
    {
     "data": {
      "text/plain": [
       "1×4 Array{Int64,2}:\n",
       " 1  2  3  4"
      ]
     },
     "execution_count": 45,
     "metadata": {},
     "output_type": "execute_result"
    }
   ],
   "source": [
    "[1 2 3 4]"
   ]
  },
  {
   "cell_type": "code",
   "execution_count": 46,
   "metadata": {},
   "outputs": [
    {
     "data": {
      "text/plain": [
       "4-element Array{Int64,1}:\n",
       " 1\n",
       " 2\n",
       " 3\n",
       " 4"
      ]
     },
     "execution_count": 46,
     "metadata": {},
     "output_type": "execute_result"
    }
   ],
   "source": [
    "[1 ; 2 ; 3 ; 4]"
   ]
  },
  {
   "cell_type": "code",
   "execution_count": 47,
   "metadata": {},
   "outputs": [
    {
     "data": {
      "text/plain": [
       "2×2 Array{Int64,2}:\n",
       " 1  2\n",
       " 3  4"
      ]
     },
     "execution_count": 47,
     "metadata": {},
     "output_type": "execute_result"
    }
   ],
   "source": [
    "[1 2 ; 3 4]"
   ]
  },
  {
   "cell_type": "code",
   "execution_count": 48,
   "metadata": {},
   "outputs": [
    {
     "data": {
      "text/plain": [
       "4-element Array{Int64,1}:\n",
       " 1\n",
       " 2\n",
       " 3\n",
       " 4"
      ]
     },
     "execution_count": 48,
     "metadata": {},
     "output_type": "execute_result"
    }
   ],
   "source": [
    "[1, 2, 3, 4]"
   ]
  },
  {
   "cell_type": "markdown",
   "metadata": {},
   "source": [
    "### Vectorized operations"
   ]
  },
  {
   "cell_type": "code",
   "execution_count": 12,
   "metadata": {},
   "outputs": [
    {
     "data": {
      "text/plain": [
       "4×3 Array{Float64,2}:\n",
       " 0.140892   0.825189  0.661715\n",
       " 0.892022   0.827471  0.346717\n",
       " 0.0380451  0.642899  0.762483\n",
       " 0.729994   0.130551  0.638223"
      ]
     },
     "execution_count": 12,
     "metadata": {},
     "output_type": "execute_result"
    }
   ],
   "source": [
    "x = rand(4,3)"
   ]
  },
  {
   "cell_type": "code",
   "execution_count": 13,
   "metadata": {},
   "outputs": [
    {
     "data": {
      "text/plain": [
       "6.6362017990407"
      ]
     },
     "execution_count": 13,
     "metadata": {},
     "output_type": "execute_result"
    }
   ],
   "source": [
    "sum(x)"
   ]
  },
  {
   "cell_type": "code",
   "execution_count": 15,
   "metadata": {},
   "outputs": [
    {
     "ename": "DimensionMismatch",
     "evalue": "DimensionMismatch(\"A has dimensions (4,3) but B has dimensions (4,3)\")",
     "output_type": "error",
     "traceback": [
      "DimensionMismatch(\"A has dimensions (4,3) but B has dimensions (4,3)\")",
      "",
      "Stacktrace:",
      " [1] gemm_wrapper!(::Array{Float64,2}, ::Char, ::Char, ::Array{Float64,2}, ::Array{Float64,2}) at /Users/osx/buildbot/slave/package_osx64/build/usr/share/julia/stdlib/v1.1/LinearAlgebra/src/matmul.jl:439",
      " [2] mul! at /Users/osx/buildbot/slave/package_osx64/build/usr/share/julia/stdlib/v1.1/LinearAlgebra/src/matmul.jl:144 [inlined]",
      " [3] * at /Users/osx/buildbot/slave/package_osx64/build/usr/share/julia/stdlib/v1.1/LinearAlgebra/src/matmul.jl:142 [inlined]",
      " [4] power_by_squaring(::Array{Float64,2}, ::Int64) at ./intfuncs.jl:192",
      " [5] ^ at /Users/osx/buildbot/slave/package_osx64/build/usr/share/julia/stdlib/v1.1/LinearAlgebra/src/dense.jl:366 [inlined]",
      " [6] macro expansion at ./none:0 [inlined]",
      " [7] literal_pow(::typeof(^), ::Array{Float64,2}, ::Val{2}) at ./none:0",
      " [8] top-level scope at In[15]:1"
     ]
    }
   ],
   "source": [
    "x^2"
   ]
  },
  {
   "cell_type": "code",
   "execution_count": 16,
   "metadata": {},
   "outputs": [
    {
     "data": {
      "text/plain": [
       "4×3 Array{Float64,2}:\n",
       " 0.0198505   0.680937   0.437867\n",
       " 0.795703    0.684708   0.120213\n",
       " 0.00144743  0.41332    0.581381\n",
       " 0.532891    0.0170436  0.407329"
      ]
     },
     "execution_count": 16,
     "metadata": {},
     "output_type": "execute_result"
    }
   ],
   "source": [
    "x.^2"
   ]
  },
  {
   "cell_type": "code",
   "execution_count": 17,
   "metadata": {},
   "outputs": [
    {
     "data": {
      "text/plain": [
       "4×3 BitArray{2}:\n",
       " false   true   true\n",
       "  true   true  false\n",
       " false   true   true\n",
       "  true  false   true"
      ]
     },
     "execution_count": 17,
     "metadata": {},
     "output_type": "execute_result"
    }
   ],
   "source": [
    "x .> 0.5"
   ]
  },
  {
   "cell_type": "code",
   "execution_count": 18,
   "metadata": {},
   "outputs": [
    {
     "data": {
      "text/plain": [
       "8-element Array{Float64,1}:\n",
       " 0.8920221253363747\n",
       " 0.7299937464754969\n",
       " 0.8251889806773989\n",
       " 0.8274706261047564\n",
       " 0.6428994989463608\n",
       " 0.6617150212903624\n",
       " 0.7624831973976698\n",
       " 0.6382232522204752"
      ]
     },
     "execution_count": 18,
     "metadata": {},
     "output_type": "execute_result"
    }
   ],
   "source": [
    "x[x .> 0.5]"
   ]
  },
  {
   "cell_type": "markdown",
   "metadata": {},
   "source": [
    "# Type system\n"
   ]
  },
  {
   "cell_type": "markdown",
   "metadata": {},
   "source": [
    "Julia has different kinds of types:\n",
    "- Primitive types, like Int32, Int64, Bool, String Float64 and so on.\n",
    "- Abstract types\n",
    "- Composite types, both mutable and immutable\n",
    "- Tuple types\n",
    "- Union types"
   ]
  },
  {
   "cell_type": "markdown",
   "metadata": {},
   "source": [
    "## Types and Inheritance"
   ]
  },
  {
   "cell_type": "markdown",
   "metadata": {},
   "source": [
    "- Composite types are like records or classes in other languages, and they can hold values of different types. Immutable types are declared with the \"struct\" keyword and mutable types with the \"mutable struct\" keyword.\n",
    "- In Julia, types form a hierarchy in which only the leaf nodes represent concrete types. There is no field inheritance as in object-oriented languages.\n",
    "- \"Interfaces\" are defined by collections of functions that can be implemented for a certain type to make it work in a certain way. For example, it a type implements functions \"start\", \"next\" and \"done\" it can be used as in iterator, for a example in a for-each construct.\n",
    "- \"Any\" is the root of the type hierarchy\n",
    "- Types can be parameterized, to enable generic programming.\n"
   ]
  },
  {
   "cell_type": "markdown",
   "metadata": {},
   "source": [
    "## Functions"
   ]
  },
  {
   "cell_type": "markdown",
   "metadata": {},
   "source": [
    "- Operators are just functions with special syntax.\n",
    "- Given a function call, Julia looks at compile-time for the most specific function definition available for the given argument types (More about this in section about Multiple dispatch).\n",
    "- mutable structures like arrays are passed-by-sharing, which means they are not copied and changes in the callee affect the caller. Immutable values like integers cannot be modified, so they are passed-by-copy."
   ]
  },
  {
   "cell_type": "markdown",
   "metadata": {},
   "source": [
    "## Higher-order functions and anonymous functions"
   ]
  },
  {
   "cell_type": "code",
   "execution_count": 19,
   "metadata": {},
   "outputs": [
    {
     "data": {
      "text/plain": [
       "10-element Array{Int64,1}:\n",
       "  1\n",
       "  2\n",
       "  3\n",
       "  4\n",
       "  5\n",
       "  6\n",
       "  7\n",
       "  8\n",
       "  9\n",
       " 10"
      ]
     },
     "execution_count": 19,
     "metadata": {},
     "output_type": "execute_result"
    }
   ],
   "source": [
    "x = collect(1:10)"
   ]
  },
  {
   "cell_type": "code",
   "execution_count": 20,
   "metadata": {},
   "outputs": [
    {
     "data": {
      "text/plain": [
       "10-element Array{Int64,1}:\n",
       "   1\n",
       "   4\n",
       "   9\n",
       "  16\n",
       "  25\n",
       "  36\n",
       "  49\n",
       "  64\n",
       "  81\n",
       " 100"
      ]
     },
     "execution_count": 20,
     "metadata": {},
     "output_type": "execute_result"
    }
   ],
   "source": [
    "map(e -> e ^ 2, x)"
   ]
  },
  {
   "cell_type": "code",
   "execution_count": 21,
   "metadata": {},
   "outputs": [
    {
     "data": {
      "text/plain": [
       "5-element Array{Int64,1}:\n",
       "  2\n",
       "  4\n",
       "  6\n",
       "  8\n",
       " 10"
      ]
     },
     "execution_count": 21,
     "metadata": {},
     "output_type": "execute_result"
    }
   ],
   "source": [
    "filter(e -> e % 2 == 0, x)"
   ]
  },
  {
   "cell_type": "code",
   "execution_count": 29,
   "metadata": {},
   "outputs": [
    {
     "data": {
      "text/plain": [
       "55"
      ]
     },
     "execution_count": 29,
     "metadata": {},
     "output_type": "execute_result"
    }
   ],
   "source": [
    "foldl(+, x)"
   ]
  },
  {
   "cell_type": "markdown",
   "metadata": {},
   "source": [
    "## Union types and UnionAll types"
   ]
  },
  {
   "cell_type": "code",
   "execution_count": 30,
   "metadata": {},
   "outputs": [
    {
     "name": "stdout",
     "output_type": "stream",
     "text": [
      "3\n",
      "a\n"
     ]
    },
    {
     "ename": "MethodError",
     "evalue": "MethodError: no method matching intOrString(::Bool)\nClosest candidates are:\n  intOrString(!Matched::Union{Int64, String}) at In[30]:1",
     "output_type": "error",
     "traceback": [
      "MethodError: no method matching intOrString(::Bool)\nClosest candidates are:\n  intOrString(!Matched::Union{Int64, String}) at In[30]:1",
      "",
      "Stacktrace:",
      " [1] top-level scope at In[30]:5"
     ]
    }
   ],
   "source": [
    "intOrString(x::Union{Int, String}) = println(x)\n",
    "\n",
    "intOrString(3) # this works\n",
    "intOrString(\"a\") # this works\n",
    "intOrString(true) # this fails"
   ]
  },
  {
   "cell_type": "markdown",
   "metadata": {},
   "source": [
    "## Tuples, Sets and Dicts"
   ]
  },
  {
   "cell_type": "code",
   "execution_count": 31,
   "metadata": {},
   "outputs": [
    {
     "name": "stdout",
     "output_type": "stream",
     "text": [
      "Tuple{Int64,Bool}\n",
      "2\n",
      "true\n"
     ]
    }
   ],
   "source": [
    "t = (2,true)\n",
    "println(typeof(t))\n",
    "(a,b) = t\n",
    "println(a)\n",
    "println(b)"
   ]
  },
  {
   "cell_type": "code",
   "execution_count": 32,
   "metadata": {},
   "outputs": [
    {
     "data": {
      "text/plain": [
       "false"
      ]
     },
     "execution_count": 32,
     "metadata": {},
     "output_type": "execute_result"
    }
   ],
   "source": [
    "s = Set([1,2,3])\n",
    "6 in s"
   ]
  },
  {
   "cell_type": "code",
   "execution_count": 33,
   "metadata": {},
   "outputs": [
    {
     "name": "stdout",
     "output_type": "stream",
     "text": [
      "Dict{Int64,String}\n",
      "true\n"
     ]
    },
    {
     "data": {
      "text/plain": [
       "\"not found\""
      ]
     },
     "execution_count": 33,
     "metadata": {},
     "output_type": "execute_result"
    }
   ],
   "source": [
    "d = Dict(2 => \"a\", 3 => \"b\", 4 => \"c\")\n",
    "println(typeof(d))\n",
    "println((2 => \"a\") in d)\n",
    "haskey(d, 1)\n",
    "get(d, 9, \"not found\")"
   ]
  },
  {
   "cell_type": "markdown",
   "metadata": {},
   "source": [
    "## Example"
   ]
  },
  {
   "cell_type": "markdown",
   "metadata": {},
   "source": [
    "- Type definitions\n",
    "- Function declarations\n",
    "- Parametric types\n",
    "- Multiple dispatch (explained later)\n",
    "- Method extension\n",
    "- String interpolation"
   ]
  },
  {
   "cell_type": "code",
   "execution_count": 35,
   "metadata": {},
   "outputs": [
    {
     "name": "stdout",
     "output_type": "stream",
     "text": [
      "Node{Int64}\n",
      "height = 2\n",
      "size = 7\n",
      "Node\n",
      "    Node\n",
      "        Leaf(1)\n",
      "        Leaf(2)\n",
      "    Node\n",
      "        Leaf(3)\n",
      "        Leaf(4)\n"
     ]
    }
   ],
   "source": [
    "abstract type Tree{T} end\n",
    "struct Node{T} <: Tree{T} \n",
    "    left::Tree{T}\n",
    "    right::Tree{T}\n",
    "end\n",
    "struct Leaf{T} <: Tree{T}\n",
    "    value::T\n",
    "end\n",
    "struct Empty{T} <: Tree{T} end\n",
    "\n",
    "#Type parameter can be omitted if it is not necessary\n",
    "height(t::Node) = max(height(t.left), height(t.right)) + 1\n",
    "height(t::Leaf) = 0\n",
    "height(t::Empty) = -1\n",
    "\n",
    "#Method size from Base has to be explicitly imported in order to be extended.\n",
    "Base.size(t::Node) = size(t.left) + size(t.right) + 1\n",
    "Base.size(t::Leaf) = 1\n",
    "Base.size(t::Empty) = 0\n",
    "\n",
    "# Note that functions can be declared either in short-form for one-line expressions or in long-form.\n",
    "show(t::Tree) = show(t, 0)\n",
    "show(t::Leaf, margin::Int) = println(\"$(repeat(\" \", margin))Leaf($(t.value))\")\n",
    "show(t::Empty, margin::Int) = println(\"$(repeat(\" \", margin))-\")\n",
    "function show(t::Node, margin::Int)\n",
    "    println(\"$(repeat(\" \", margin))Node\")\n",
    "    show(t.left, margin + 4)\n",
    "    show(t.right, margin + 4)\n",
    "end\n",
    "\n",
    "\n",
    "tree = Node(Node(Leaf(1), Leaf(2)), Node(Leaf(3), Leaf(4)))\n",
    "println(typeof(tree))\n",
    "println(\"height = $(height(tree))\")\n",
    "println(\"size = $(size(tree))\")\n",
    "show(tree)"
   ]
  },
  {
   "cell_type": "markdown",
   "metadata": {},
   "source": [
    "## Immutability"
   ]
  },
  {
   "cell_type": "markdown",
   "metadata": {},
   "source": [
    "Structs are immutable by default\n",
    "If you want mutable structs you can get them by using `mutable struct`"
   ]
  },
  {
   "cell_type": "markdown",
   "metadata": {},
   "source": [
    "An object with an immutable type is passed around (both in assignment statements and in function calls) by copying, whereas a mutable type is passed around by reference."
   ]
  },
  {
   "cell_type": "markdown",
   "metadata": {},
   "source": [
    "As a rule of thumb, if two objects of the same type with the same values on the same fields should be considered identical, then the type should be defined as immutable. Otherwise, if the values should be considered different objects because they can change independently, then the type should be defined as mutable."
   ]
  },
  {
   "cell_type": "markdown",
   "metadata": {},
   "source": [
    "## Multiple dispatch"
   ]
  },
  {
   "cell_type": "markdown",
   "metadata": {},
   "source": [
    "- In single-dispatch languages, which method is invoked depends on the runtime type of the object that owns the method. \n"
   ]
  },
  {
   "cell_type": "markdown",
   "metadata": {},
   "source": [
    "```python\n",
    "class Dog:\n",
    "    def shout(self):\n",
    "        print(\"GUAU\")\n",
    "\n",
    "class Cat:\n",
    "    def shout(self):\n",
    "        print(\"MIAU\")\n",
    "\n",
    "animals = [Dog(), Cat()]\n",
    "for animal in animals:\n",
    "    animal.shout()\n",
    "```"
   ]
  },
  {
   "cell_type": "markdown",
   "metadata": {},
   "source": [
    "- Double-dispatch (resolving the method based on two objects' types) is simulated by using several method calls "
   ]
  },
  {
   "cell_type": "markdown",
   "metadata": {},
   "source": [
    "```python\n",
    "class A:\n",
    "    def f(self):\n",
    "        print(\"A\")\n",
    "\n",
    "    def doSomething(self, other):\n",
    "        other.doSomethingWithA(self)\n",
    "\n",
    "    def doSomethingWithA(self, other):\n",
    "        print(\"AA\")\n",
    "\n",
    "    def doSomethingWithB(self, other):\n",
    "        print(\"AB\")\n",
    "\n",
    "class B:\n",
    "    def f(self):\n",
    "        print(\"B\")\n",
    "\n",
    "    def doSomething(self, other):\n",
    "        other.doSomethingWithB(self)\n",
    "\n",
    "    def doSomethingWithA(self, other):\n",
    "        print(\"BA\")\n",
    "\n",
    "    def doSomethingWithB(self, other):\n",
    "        print(\"BB\")\n",
    "\n",
    "xs = [A(), B()]\n",
    "for x in xs:\n",
    "    for y in xs:\n",
    "        x.doSomething(y)\n",
    "```"
   ]
  },
  {
   "cell_type": "code",
   "execution_count": null,
   "metadata": {},
   "outputs": [],
   "source": []
  }
 ],
 "metadata": {
  "kernelspec": {
   "display_name": "Julia 1.1.0",
   "language": "julia",
   "name": "julia-1.1"
  },
  "language_info": {
   "file_extension": ".jl",
   "mimetype": "application/julia",
   "name": "julia",
   "version": "1.1.0"
  }
 },
 "nbformat": 4,
 "nbformat_minor": 2
}
