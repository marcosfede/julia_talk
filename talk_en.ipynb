{
 "cells": [
  {
   "cell_type": "markdown",
   "metadata": {},
   "source": [
    "<img src=\"https://upload.wikimedia.org/wikipedia/commons/thumb/6/69/Julia_prog_language.svg/1200px-Julia_prog_language.svg.png\" width=400 height=400 style=\"padding-right: 100px\"/>"
   ]
  },
  {
   "cell_type": "markdown",
   "metadata": {},
   "source": [
    "# Introduction"
   ]
  },
  {
   "cell_type": "markdown",
   "metadata": {},
   "source": [
    "- Julia is a high-level, high-performance dynamic programming language designed for numerical computing\n",
    "- The goal is to have an expressive and easy-to-use language without sacrificing performance, and to be able to use the same language in prototyping and in production environments.\n",
    "- First release in 2012.\n",
    "- MIT License.\n",
    "- The current stable version is 1.1.0"
   ]
  },
  {
   "cell_type": "markdown",
   "metadata": {},
   "source": [
    "## Compiler"
   ]
  },
  {
   "cell_type": "markdown",
   "metadata": {},
   "source": [
    "- Julia has an LLVM-based JIT compiler\n",
    "- JIT description\n",
    "- Julia code is interpreted and compiled to native machine code.\n",
    "- bytecode\n",
    "- compare with JS, pypy"
   ]
  },
  {
   "cell_type": "code",
   "execution_count": 1,
   "metadata": {},
   "outputs": [
    {
     "data": {
      "text/plain": [
       "f (generic function with 1 method)"
      ]
     },
     "execution_count": 1,
     "metadata": {},
     "output_type": "execute_result"
    }
   ],
   "source": [
    "f(x) = x * x"
   ]
  },
  {
   "cell_type": "code",
   "execution_count": 2,
   "metadata": {},
   "outputs": [
    {
     "name": "stdout",
     "output_type": "stream",
     "text": [
      "\n",
      ";  @ In[1]:1 within `f'\n",
      "define double @julia_f_12561(double) {\n",
      "top:\n",
      "; ┌ @ float.jl:399 within `*'\n",
      "   %1 = fmul double %0, %0\n",
      "; └\n",
      "  ret double %1\n",
      "}\n"
     ]
    }
   ],
   "source": [
    "code_llvm(f, (Float64,))"
   ]
  },
  {
   "cell_type": "code",
   "execution_count": 3,
   "metadata": {},
   "outputs": [
    {
     "name": "stdout",
     "output_type": "stream",
     "text": [
      "\t.section\t__TEXT,__text,regular,pure_instructions\n",
      "; ┌ @ In[1]:1 within `f'\n",
      "; │┌ @ In[1]:1 within `*'\n",
      "\tvmulsd\t%xmm0, %xmm0, %xmm0\n",
      "; │└\n",
      "\tretl\n",
      "\tnopw\t%cs:(%eax,%eax)\n",
      "; └\n"
     ]
    }
   ],
   "source": [
    "code_native(f, (Float64,))"
   ]
  },
  {
   "cell_type": "markdown",
   "metadata": {},
   "source": [
    "# Features"
   ]
  },
  {
   "cell_type": "markdown",
   "metadata": {},
   "source": [
    "- Syntax is mostly MATLAB and Python based.\n",
    "- It combines features of procedural and functional languages, with some object-oriented features.\n",
    "- It integrates libraries for linear algebra, statistics, signal processing and more."
   ]
  },
  {
   "cell_type": "markdown",
   "metadata": {},
   "source": [
    "- Static typing\n",
    "- Type inference\n",
    "- Multiple-dispatch\n",
    "- Functions and types are values, and every value has a type. Functions and types are first class objects."
   ]
  },
  {
   "cell_type": "markdown",
   "metadata": {},
   "source": [
    "## Package manager"
   ]
  },
  {
   "cell_type": "code",
   "execution_count": 4,
   "metadata": {},
   "outputs": [
    {
     "name": "stdout",
     "output_type": "stream",
     "text": [
      "\u001b[32m\u001b[1m  Updating\u001b[22m\u001b[39m registry at `~/.julia/registries/General`\n",
      "\u001b[32m\u001b[1m  Updating\u001b[22m\u001b[39m git-repo `https://github.com/JuliaRegistries/General.git`\n",
      "\u001b[?25l\u001b[2K\u001b[?25h\u001b[32m\u001b[1m Resolving\u001b[22m\u001b[39m package versions...\n",
      "\u001b[32m\u001b[1m  Updating\u001b[22m\u001b[39m `~/dev/tmp/juliatalk/Project.toml`\n",
      "\u001b[90m [no changes]\u001b[39m\n",
      "\u001b[32m\u001b[1m  Updating\u001b[22m\u001b[39m `~/dev/tmp/juliatalk/Manifest.toml`\n",
      "\u001b[90m [no changes]\u001b[39m\n",
      "\u001b[32m\u001b[1m Resolving\u001b[22m\u001b[39m package versions...\n",
      "\u001b[32m\u001b[1m  Updating\u001b[22m\u001b[39m `~/dev/tmp/juliatalk/Project.toml`\n",
      "\u001b[90m [no changes]\u001b[39m\n",
      "\u001b[32m\u001b[1m  Updating\u001b[22m\u001b[39m `~/dev/tmp/juliatalk/Manifest.toml`\n",
      "\u001b[90m [no changes]\u001b[39m\n",
      "\u001b[32m\u001b[1m Resolving\u001b[22m\u001b[39m package versions...\n",
      "\u001b[32m\u001b[1m  Updating\u001b[22m\u001b[39m `~/dev/tmp/juliatalk/Project.toml`\n",
      "\u001b[90m [no changes]\u001b[39m\n",
      "\u001b[32m\u001b[1m  Updating\u001b[22m\u001b[39m `~/dev/tmp/juliatalk/Manifest.toml`\n",
      "\u001b[90m [no changes]\u001b[39m\n",
      "\u001b[32m\u001b[1m Resolving\u001b[22m\u001b[39m package versions...\n",
      "\u001b[32m\u001b[1m  Updating\u001b[22m\u001b[39m `~/dev/tmp/juliatalk/Project.toml`\n",
      "\u001b[90m [no changes]\u001b[39m\n",
      "\u001b[32m\u001b[1m  Updating\u001b[22m\u001b[39m `~/dev/tmp/juliatalk/Manifest.toml`\n",
      "\u001b[90m [no changes]\u001b[39m\n",
      "\u001b[32m\u001b[1m Resolving\u001b[22m\u001b[39m package versions...\n",
      "\u001b[32m\u001b[1m  Updating\u001b[22m\u001b[39m `~/dev/tmp/juliatalk/Project.toml`\n",
      "\u001b[90m [no changes]\u001b[39m\n",
      "\u001b[32m\u001b[1m  Updating\u001b[22m\u001b[39m `~/dev/tmp/juliatalk/Manifest.toml`\n",
      "\u001b[90m [no changes]\u001b[39m\n",
      "\u001b[32m\u001b[1m Resolving\u001b[22m\u001b[39m package versions...\n",
      "\u001b[32m\u001b[1m  Updating\u001b[22m\u001b[39m `~/dev/tmp/juliatalk/Project.toml`\n",
      "\u001b[90m [no changes]\u001b[39m\n",
      "\u001b[32m\u001b[1m  Updating\u001b[22m\u001b[39m `~/dev/tmp/juliatalk/Manifest.toml`\n",
      "\u001b[90m [no changes]\u001b[39m\n",
      "\u001b[32m\u001b[1m Resolving\u001b[22m\u001b[39m package versions...\n",
      "\u001b[32m\u001b[1m  Updating\u001b[22m\u001b[39m `~/dev/tmp/juliatalk/Project.toml`\n",
      "\u001b[90m [no changes]\u001b[39m\n",
      "\u001b[32m\u001b[1m  Updating\u001b[22m\u001b[39m `~/dev/tmp/juliatalk/Manifest.toml`\n",
      "\u001b[90m [no changes]\u001b[39m\n"
     ]
    }
   ],
   "source": [
    "using Pkg\n",
    "Pkg.add(\"DataFrames\")\n",
    "Pkg.add(\"PyCall\")\n",
    "Pkg.add(\"RDatasets\")\n",
    "Pkg.add(\"DataFrames\")\n",
    "Pkg.add(\"Plots\")\n",
    "Pkg.add(\"PyPlot\")\n",
    "Pkg.add(\"StatsPlots\")"
   ]
  },
  {
   "cell_type": "markdown",
   "metadata": {},
   "source": [
    "## Integration with other languages"
   ]
  },
  {
   "cell_type": "markdown",
   "metadata": {},
   "source": [
    "- C and Fortran code can be called via ccall.\n",
    "- JavaCall\n",
    "- PyCall\n",
    "- RCall"
   ]
  },
  {
   "cell_type": "markdown",
   "metadata": {},
   "source": [
    "### C"
   ]
  },
  {
   "cell_type": "code",
   "execution_count": 5,
   "metadata": {},
   "outputs": [
    {
     "data": {
      "text/plain": [
       "16712152"
      ]
     },
     "execution_count": 5,
     "metadata": {},
     "output_type": "execute_result"
    }
   ],
   "source": [
    "ccall((:clock, \"libc\"), Int32, ())"
   ]
  },
  {
   "cell_type": "markdown",
   "metadata": {},
   "source": [
    "### PyCall"
   ]
  },
  {
   "cell_type": "code",
   "execution_count": 6,
   "metadata": {},
   "outputs": [
    {
     "data": {
      "text/plain": [
       "0.0"
      ]
     },
     "execution_count": 6,
     "metadata": {},
     "output_type": "execute_result"
    }
   ],
   "source": [
    "using PyCall\n",
    "math = pyimport(\"math\")\n",
    "math.sin(math.pi / 4) - sin(pi / 4)"
   ]
  },
  {
   "cell_type": "code",
   "execution_count": 7,
   "metadata": {},
   "outputs": [
    {
     "data": {
      "text/plain": [
       "3×4 Array{Float64,2}:\n",
       " 0.313863  0.664296  0.214447  0.233818\n",
       " 0.697617  0.85155   0.318914  0.439609\n",
       " 0.196488  0.733596  0.595428  0.850499"
      ]
     },
     "execution_count": 7,
     "metadata": {},
     "output_type": "execute_result"
    }
   ],
   "source": [
    "nr = pyimport(\"numpy.random\")\n",
    "nr.rand(3,4)"
   ]
  },
  {
   "cell_type": "markdown",
   "metadata": {},
   "source": [
    "## Integration with the shell"
   ]
  },
  {
   "cell_type": "code",
   "execution_count": 8,
   "metadata": {},
   "outputs": [
    {
     "name": "stdout",
     "output_type": "stream",
     "text": [
      "/Users/fede/dev/tmp/juliatalk\n"
     ]
    },
    {
     "data": {
      "text/plain": [
       "Process(`\u001b[4mpwd\u001b[24m`, ProcessExited(0))"
      ]
     },
     "execution_count": 8,
     "metadata": {},
     "output_type": "execute_result"
    }
   ],
   "source": [
    "run(`pwd`)"
   ]
  },
  {
   "cell_type": "markdown",
   "metadata": {},
   "source": [
    "## Vectors and matrices"
   ]
  },
  {
   "cell_type": "code",
   "execution_count": 9,
   "metadata": {},
   "outputs": [
    {
     "data": {
      "text/plain": [
       "3×4 Array{Float64,2}:\n",
       " 0.879435  0.724004   0.0629187  0.595093\n",
       " 0.46036   0.300761   0.504062   0.171858\n",
       " 0.931749  0.0459905  0.232345   0.960193"
      ]
     },
     "execution_count": 9,
     "metadata": {},
     "output_type": "execute_result"
    }
   ],
   "source": [
    "x = rand(3,4)"
   ]
  },
  {
   "cell_type": "markdown",
   "metadata": {},
   "source": [
    "### Indexing"
   ]
  },
  {
   "cell_type": "code",
   "execution_count": 10,
   "metadata": {},
   "outputs": [
    {
     "data": {
      "text/plain": [
       "4-element Array{Float64,1}:\n",
       " 0.879434573541696  \n",
       " 0.7240035191572629 \n",
       " 0.06291869001653239\n",
       " 0.595092763176871  "
      ]
     },
     "execution_count": 10,
     "metadata": {},
     "output_type": "execute_result"
    }
   ],
   "source": [
    "x[1,:]"
   ]
  },
  {
   "cell_type": "code",
   "execution_count": 11,
   "metadata": {},
   "outputs": [
    {
     "data": {
      "text/plain": [
       "3-element Array{Float64,1}:\n",
       " 0.879434573541696 \n",
       " 0.4603601372488144\n",
       " 0.9317492258017519"
      ]
     },
     "execution_count": 11,
     "metadata": {},
     "output_type": "execute_result"
    }
   ],
   "source": [
    "x[:,1]"
   ]
  },
  {
   "cell_type": "code",
   "execution_count": 12,
   "metadata": {},
   "outputs": [
    {
     "data": {
      "text/plain": [
       "0.879434573541696"
      ]
     },
     "execution_count": 12,
     "metadata": {},
     "output_type": "execute_result"
    }
   ],
   "source": [
    "x[1,1]"
   ]
  },
  {
   "cell_type": "markdown",
   "metadata": {},
   "source": [
    "- Indexing (on the right side of an assignment ) makes a copy of the original array\n",
    "- Assignment **does not** make a copy"
   ]
  },
  {
   "cell_type": "markdown",
   "metadata": {},
   "source": [
    "### Linear algebra operations"
   ]
  },
  {
   "cell_type": "code",
   "execution_count": 13,
   "metadata": {},
   "outputs": [],
   "source": [
    "using LinearAlgebra"
   ]
  },
  {
   "cell_type": "code",
   "execution_count": 14,
   "metadata": {},
   "outputs": [
    {
     "data": {
      "text/plain": [
       "4×3 Adjoint{Float64,Array{Float64,2}}:\n",
       " 0.879435   0.46036   0.931749 \n",
       " 0.724004   0.300761  0.0459905\n",
       " 0.0629187  0.504062  0.232345 \n",
       " 0.595093   0.171858  0.960193 "
      ]
     },
     "execution_count": 14,
     "metadata": {},
     "output_type": "execute_result"
    }
   ],
   "source": [
    "x'"
   ]
  },
  {
   "cell_type": "code",
   "execution_count": 15,
   "metadata": {},
   "outputs": [
    {
     "data": {
      "text/plain": [
       "3×3 Array{Float64,2}:\n",
       " 1.65568   0.756595  1.43873 \n",
       " 0.756595  0.586003  0.724905\n",
       " 1.43873   0.724905  1.84623 "
      ]
     },
     "execution_count": 15,
     "metadata": {},
     "output_type": "execute_result"
    }
   ],
   "source": [
    "x2 = x * x'"
   ]
  },
  {
   "cell_type": "code",
   "execution_count": 16,
   "metadata": {},
   "outputs": [
    {
     "data": {
      "text/plain": [
       "0.22956078144919856"
      ]
     },
     "execution_count": 16,
     "metadata": {},
     "output_type": "execute_result"
    }
   ],
   "source": [
    "det(x2)"
   ]
  },
  {
   "cell_type": "code",
   "execution_count": 17,
   "metadata": {},
   "outputs": [
    {
     "data": {
      "text/plain": [
       "3×3 Array{Float64,2}:\n",
       "  2.42378  -1.54164   -1.2835  \n",
       " -1.54164   4.29869   -0.486468\n",
       " -1.2835   -0.486468   1.73286 "
      ]
     },
     "execution_count": 17,
     "metadata": {},
     "output_type": "execute_result"
    }
   ],
   "source": [
    "pinv(x2)"
   ]
  },
  {
   "cell_type": "code",
   "execution_count": 18,
   "metadata": {},
   "outputs": [
    {
     "data": {
      "text/plain": [
       "4-element Array{Float64,1}:\n",
       " 0.18558447055772964\n",
       " 0.583352492454192  \n",
       " 0.7830115380175404 \n",
       " 0.4960911331677764 "
      ]
     },
     "execution_count": 18,
     "metadata": {},
     "output_type": "execute_result"
    }
   ],
   "source": [
    "row = rand(4)"
   ]
  },
  {
   "cell_type": "code",
   "execution_count": 19,
   "metadata": {},
   "outputs": [
    {
     "data": {
      "text/plain": [
       "1×4 Adjoint{Float64,Array{Float64,1}}:\n",
       " 0.185584  0.583352  0.783012  0.496091"
      ]
     },
     "execution_count": 19,
     "metadata": {},
     "output_type": "execute_result"
    }
   ],
   "source": [
    "row'"
   ]
  },
  {
   "cell_type": "code",
   "execution_count": 20,
   "metadata": {},
   "outputs": [
    {
     "data": {
      "text/plain": [
       "1.2339552072409936"
      ]
     },
     "execution_count": 20,
     "metadata": {},
     "output_type": "execute_result"
    }
   ],
   "source": [
    "row' * row"
   ]
  },
  {
   "cell_type": "markdown",
   "metadata": {},
   "source": [
    "### Horizontal and vertical concatenation"
   ]
  },
  {
   "cell_type": "code",
   "execution_count": 21,
   "metadata": {},
   "outputs": [
    {
     "data": {
      "text/plain": [
       "1×4 Array{Int64,2}:\n",
       " 1  2  3  4"
      ]
     },
     "execution_count": 21,
     "metadata": {},
     "output_type": "execute_result"
    }
   ],
   "source": [
    "[1 2 3 4]"
   ]
  },
  {
   "cell_type": "code",
   "execution_count": 22,
   "metadata": {},
   "outputs": [
    {
     "data": {
      "text/plain": [
       "4-element Array{Int64,1}:\n",
       " 1\n",
       " 2\n",
       " 3\n",
       " 4"
      ]
     },
     "execution_count": 22,
     "metadata": {},
     "output_type": "execute_result"
    }
   ],
   "source": [
    "[1 ; 2 ; 3 ; 4]"
   ]
  },
  {
   "cell_type": "code",
   "execution_count": 23,
   "metadata": {},
   "outputs": [
    {
     "data": {
      "text/plain": [
       "2×2 Array{Int64,2}:\n",
       " 1  2\n",
       " 3  4"
      ]
     },
     "execution_count": 23,
     "metadata": {},
     "output_type": "execute_result"
    }
   ],
   "source": [
    "[1 2 ; 3 4]"
   ]
  },
  {
   "cell_type": "code",
   "execution_count": 24,
   "metadata": {},
   "outputs": [
    {
     "data": {
      "text/plain": [
       "4-element Array{Int64,1}:\n",
       " 1\n",
       " 2\n",
       " 3\n",
       " 4"
      ]
     },
     "execution_count": 24,
     "metadata": {},
     "output_type": "execute_result"
    }
   ],
   "source": [
    "[1, 2, 3, 4]"
   ]
  },
  {
   "cell_type": "markdown",
   "metadata": {},
   "source": [
    "### Vectorized operations"
   ]
  },
  {
   "cell_type": "code",
   "execution_count": 25,
   "metadata": {},
   "outputs": [
    {
     "data": {
      "text/plain": [
       "4×3 Array{Float64,2}:\n",
       " 0.519509  0.487485  0.754825\n",
       " 0.607496  0.33845   0.317985\n",
       " 0.29534   0.153198  0.756347\n",
       " 0.950014  0.129762  0.367151"
      ]
     },
     "execution_count": 25,
     "metadata": {},
     "output_type": "execute_result"
    }
   ],
   "source": [
    "x = rand(4,3)"
   ]
  },
  {
   "cell_type": "code",
   "execution_count": 26,
   "metadata": {},
   "outputs": [
    {
     "data": {
      "text/plain": [
       "5.67756125453279"
      ]
     },
     "execution_count": 26,
     "metadata": {},
     "output_type": "execute_result"
    }
   ],
   "source": [
    "sum(x)"
   ]
  },
  {
   "cell_type": "code",
   "execution_count": 27,
   "metadata": {},
   "outputs": [
    {
     "ename": "DimensionMismatch",
     "evalue": "DimensionMismatch(\"A has dimensions (4,3) but B has dimensions (4,3)\")",
     "output_type": "error",
     "traceback": [
      "DimensionMismatch(\"A has dimensions (4,3) but B has dimensions (4,3)\")",
      "",
      "Stacktrace:",
      " [1] gemm_wrapper!(::Array{Float64,2}, ::Char, ::Char, ::Array{Float64,2}, ::Array{Float64,2}) at /Users/osx/buildbot/slave/package_osx64/build/usr/share/julia/stdlib/v1.1/LinearAlgebra/src/matmul.jl:439",
      " [2] mul! at /Users/osx/buildbot/slave/package_osx64/build/usr/share/julia/stdlib/v1.1/LinearAlgebra/src/matmul.jl:144 [inlined]",
      " [3] * at /Users/osx/buildbot/slave/package_osx64/build/usr/share/julia/stdlib/v1.1/LinearAlgebra/src/matmul.jl:142 [inlined]",
      " [4] power_by_squaring(::Array{Float64,2}, ::Int64) at ./intfuncs.jl:192",
      " [5] ^ at /Users/osx/buildbot/slave/package_osx64/build/usr/share/julia/stdlib/v1.1/LinearAlgebra/src/dense.jl:366 [inlined]",
      " [6] macro expansion at ./none:0 [inlined]",
      " [7] literal_pow(::typeof(^), ::Array{Float64,2}, ::Val{2}) at ./none:0",
      " [8] top-level scope at In[27]:1"
     ]
    }
   ],
   "source": [
    "x^2"
   ]
  },
  {
   "cell_type": "code",
   "execution_count": 28,
   "metadata": {},
   "outputs": [
    {
     "data": {
      "text/plain": [
       "4×3 Array{Float64,2}:\n",
       " 0.26989    0.237641   0.569761\n",
       " 0.369051   0.114548   0.101115\n",
       " 0.0872256  0.0234696  0.572061\n",
       " 0.902526   0.0168382  0.134799"
      ]
     },
     "execution_count": 28,
     "metadata": {},
     "output_type": "execute_result"
    }
   ],
   "source": [
    "x.^2"
   ]
  },
  {
   "cell_type": "code",
   "execution_count": 29,
   "metadata": {},
   "outputs": [
    {
     "data": {
      "text/plain": [
       "4×3 BitArray{2}:\n",
       "  true  false   true\n",
       "  true  false  false\n",
       " false  false   true\n",
       "  true  false  false"
      ]
     },
     "execution_count": 29,
     "metadata": {},
     "output_type": "execute_result"
    }
   ],
   "source": [
    "x .> 0.5"
   ]
  },
  {
   "cell_type": "code",
   "execution_count": 30,
   "metadata": {},
   "outputs": [
    {
     "data": {
      "text/plain": [
       "5-element Array{Float64,1}:\n",
       " 0.5195090963511697\n",
       " 0.6074960837652059\n",
       " 0.9500136360532265\n",
       " 0.7548253250801489\n",
       " 0.7563469907696847"
      ]
     },
     "execution_count": 30,
     "metadata": {},
     "output_type": "execute_result"
    }
   ],
   "source": [
    "x[x .> 0.5]"
   ]
  },
  {
   "cell_type": "markdown",
   "metadata": {},
   "source": [
    "# Type system\n"
   ]
  },
  {
   "cell_type": "markdown",
   "metadata": {},
   "source": [
    "Julia has different kinds of types:\n",
    "- Primitive types, like Int32, Int64, Bool, String Float64 and so on.\n",
    "- Abstract types\n",
    "- Composite types, both mutable and immutable\n",
    "- Tuple types\n",
    "- Union types"
   ]
  },
  {
   "cell_type": "markdown",
   "metadata": {},
   "source": [
    "## Types and Inheritance"
   ]
  },
  {
   "cell_type": "markdown",
   "metadata": {},
   "source": [
    "- Composite types are like records or classes in other languages, and they can hold values of different types. Immutable types are declared with the \"struct\" keyword and mutable types with the \"mutable struct\" keyword.\n",
    "- In Julia, types form a hierarchy in which only the leaf nodes represent concrete types. There is no field inheritance as in object-oriented languages.\n",
    "- \"Interfaces\" are defined by collections of functions that can be implemented for a certain type to make it work in a certain way. For example, it a type implements functions \"start\", \"next\" and \"done\" it can be used as in iterator, for a example in a for-each construct.\n",
    "- \"Any\" is the root of the type hierarchy\n",
    "- Types can be parameterized, to enable generic programming.\n"
   ]
  },
  {
   "cell_type": "markdown",
   "metadata": {},
   "source": [
    "## Functions"
   ]
  },
  {
   "cell_type": "markdown",
   "metadata": {},
   "source": [
    "- Operators are just functions with special syntax.\n",
    "- Given a function call, Julia looks at compile-time for the most specific function definition available for the given argument types (More about this in section about Multiple dispatch).\n",
    "- mutable structures like arrays are passed-by-sharing, which means they are not copied and changes in the callee affect the caller. Immutable values like integers cannot be modified, so they are passed-by-copy."
   ]
  },
  {
   "cell_type": "markdown",
   "metadata": {},
   "source": [
    "## Higher-order functions and anonymous functions"
   ]
  },
  {
   "cell_type": "code",
   "execution_count": 31,
   "metadata": {},
   "outputs": [
    {
     "data": {
      "text/plain": [
       "10-element Array{Int64,1}:\n",
       "  1\n",
       "  2\n",
       "  3\n",
       "  4\n",
       "  5\n",
       "  6\n",
       "  7\n",
       "  8\n",
       "  9\n",
       " 10"
      ]
     },
     "execution_count": 31,
     "metadata": {},
     "output_type": "execute_result"
    }
   ],
   "source": [
    "x = collect(1:10)"
   ]
  },
  {
   "cell_type": "code",
   "execution_count": 32,
   "metadata": {},
   "outputs": [
    {
     "data": {
      "text/plain": [
       "10-element Array{Int64,1}:\n",
       "   1\n",
       "   4\n",
       "   9\n",
       "  16\n",
       "  25\n",
       "  36\n",
       "  49\n",
       "  64\n",
       "  81\n",
       " 100"
      ]
     },
     "execution_count": 32,
     "metadata": {},
     "output_type": "execute_result"
    }
   ],
   "source": [
    "map(e -> e ^ 2, x)"
   ]
  },
  {
   "cell_type": "code",
   "execution_count": 33,
   "metadata": {},
   "outputs": [
    {
     "data": {
      "text/plain": [
       "5-element Array{Int64,1}:\n",
       "  2\n",
       "  4\n",
       "  6\n",
       "  8\n",
       " 10"
      ]
     },
     "execution_count": 33,
     "metadata": {},
     "output_type": "execute_result"
    }
   ],
   "source": [
    "filter(e -> e % 2 == 0, x)"
   ]
  },
  {
   "cell_type": "code",
   "execution_count": 34,
   "metadata": {},
   "outputs": [
    {
     "data": {
      "text/plain": [
       "55"
      ]
     },
     "execution_count": 34,
     "metadata": {},
     "output_type": "execute_result"
    }
   ],
   "source": [
    "foldl(+, x)"
   ]
  },
  {
   "cell_type": "markdown",
   "metadata": {},
   "source": [
    "## Example"
   ]
  },
  {
   "cell_type": "markdown",
   "metadata": {},
   "source": [
    "- Type definitions\n",
    "- Function declarations\n",
    "- Parametric types\n",
    "- Multiple dispatch (explained later)\n",
    "- Method extension\n",
    "- String interpolation"
   ]
  },
  {
   "cell_type": "code",
   "execution_count": 35,
   "metadata": {},
   "outputs": [
    {
     "name": "stdout",
     "output_type": "stream",
     "text": [
      "Node{Int64}\n",
      "height = 2\n",
      "size = 7\n",
      "Node\n",
      "    Node\n",
      "        Leaf(1)\n",
      "        Leaf(2)\n",
      "    Node\n",
      "        Leaf(3)\n",
      "        Leaf(4)\n"
     ]
    }
   ],
   "source": [
    "abstract type Tree{T} end\n",
    "struct Node{T} <: Tree{T} \n",
    "    left::Tree{T}\n",
    "    right::Tree{T}\n",
    "end\n",
    "struct Leaf{T} <: Tree{T}\n",
    "    value::T\n",
    "end\n",
    "struct Empty{T} <: Tree{T} end\n",
    "\n",
    "#Type parameter can be omitted if it is not necessary\n",
    "height(t::Node) = max(height(t.left), height(t.right)) + 1\n",
    "height(t::Leaf) = 0\n",
    "height(t::Empty) = -1\n",
    "\n",
    "#Method size from Base has to be explicitly imported in order to be extended.\n",
    "Base.size(t::Node) = size(t.left) + size(t.right) + 1\n",
    "Base.size(t::Leaf) = 1\n",
    "Base.size(t::Empty) = 0\n",
    "\n",
    "# Note that functions can be declared either in short-form for one-line expressions or in long-form.\n",
    "show(t::Tree) = show(t, 0)\n",
    "show(t::Leaf, margin::Int) = println(\"$(repeat(\" \", margin))Leaf($(t.value))\")\n",
    "show(t::Empty, margin::Int) = println(\"$(repeat(\" \", margin))-\")\n",
    "function show(t::Node, margin::Int)\n",
    "    println(\"$(repeat(\" \", margin))Node\")\n",
    "    show(t.left, margin + 4)\n",
    "    show(t.right, margin + 4)\n",
    "end\n",
    "\n",
    "\n",
    "tree = Node(Node(Leaf(1), Leaf(2)), Node(Leaf(3), Leaf(4)))\n",
    "println(typeof(tree))\n",
    "println(\"height = $(height(tree))\")\n",
    "println(\"size = $(size(tree))\")\n",
    "show(tree)"
   ]
  },
  {
   "cell_type": "markdown",
   "metadata": {},
   "source": [
    "## Immutability"
   ]
  },
  {
   "cell_type": "markdown",
   "metadata": {},
   "source": [
    "Structs are immutable by default\n",
    "If you want mutable structs you can get them by using `mutable struct`"
   ]
  },
  {
   "cell_type": "markdown",
   "metadata": {},
   "source": [
    "An object with an immutable type is passed around (both in assignment statements and in function calls) by copying, whereas a mutable type is passed around by reference."
   ]
  },
  {
   "cell_type": "markdown",
   "metadata": {},
   "source": [
    "As a rule of thumb, if two objects of the same type with the same values on the same fields should be considered identical, then the type should be defined as immutable. Otherwise, if the values should be considered different objects because they can change independently, then the type should be defined as mutable."
   ]
  },
  {
   "cell_type": "markdown",
   "metadata": {},
   "source": [
    "## Multiple dispatch"
   ]
  },
  {
   "cell_type": "markdown",
   "metadata": {},
   "source": [
    "- In single-dispatch languages, which method is invoked depends on the runtime type of the object that owns the method. \n"
   ]
  },
  {
   "cell_type": "markdown",
   "metadata": {},
   "source": [
    "```python\n",
    "class Dog:\n",
    "    def shout(self):\n",
    "        print(\"GUAU\")\n",
    "\n",
    "class Cat:\n",
    "    def shout(self):\n",
    "        print(\"MIAU\")\n",
    "\n",
    "animals = [Dog(), Cat()]\n",
    "for animal in animals:\n",
    "    animal.shout()\n",
    "```"
   ]
  },
  {
   "cell_type": "markdown",
   "metadata": {},
   "source": [
    "- Double-dispatch (resolving the method based on two objects' types) is simulated by using several method calls (visitor pattern)"
   ]
  },
  {
   "cell_type": "markdown",
   "metadata": {},
   "source": [
    "```python\n",
    "class A:\n",
    "    def f(self):\n",
    "        print(\"A\")\n",
    "\n",
    "    def doSomething(self, other):\n",
    "        other.doSomethingWithA(self)\n",
    "\n",
    "    def doSomethingWithA(self, other):\n",
    "        print(\"AA\")\n",
    "\n",
    "    def doSomethingWithB(self, other):\n",
    "        print(\"AB\")\n",
    "\n",
    "class B:\n",
    "    def f(self):\n",
    "        print(\"B\")\n",
    "\n",
    "    def doSomething(self, other):\n",
    "        other.doSomethingWithB(self)\n",
    "\n",
    "    def doSomethingWithA(self, other):\n",
    "        print(\"BA\")\n",
    "\n",
    "    def doSomethingWithB(self, other):\n",
    "        print(\"BB\")\n",
    "\n",
    "xs = [A(), B()]\n",
    "for x in xs:\n",
    "    for y in xs:\n",
    "        x.doSomething(y)\n",
    "```"
   ]
  },
  {
   "cell_type": "markdown",
   "metadata": {},
   "source": [
    "- Multiple dispatch consists in determining the correct method to invoked based on the types of all the arguments involved, not just the first one.\n",
    "- In Julia, objects (values), **do not** own the methods (values) that operate on them.\n",
    "- Instead, several functions with the same name provide different behaviors for different types. These different implementations are called \"methods\" of the same \"function\". This is analogous to the object-oriented concept of messages (a request for an operation) and methods (a concrete implementation of such request).\n",
    "- Different methods for the same function can be examined by using the \"methods\" function "
   ]
  },
  {
   "cell_type": "code",
   "execution_count": 36,
   "metadata": {},
   "outputs": [
    {
     "data": {
      "text/html": [
       "101 methods for generic function <b>size</b>:<ul><li> size(B::<b>BitArray{1}</b>) in Base at <a href=\"https://github.com/JuliaLang/julia/tree/80516ca20297a67b996caa08c38786332379b6a5/base/bitarray.jl#L77\" target=\"_blank\">bitarray.jl:77</a></li> <li> size(B::<b>BitArray{1}</b>, d) in Base at <a href=\"https://github.com/JuliaLang/julia/tree/80516ca20297a67b996caa08c38786332379b6a5/base/bitarray.jl#L81\" target=\"_blank\">bitarray.jl:81</a></li> <li> size(r::<b>Core.Compiler.StmtRange</b>) in Base.IRShow at <a href=\"https://github.com/JuliaLang/julia/tree/80516ca20297a67b996caa08c38786332379b6a5/base/show.jl#L1561\" target=\"_blank\">show.jl:1561</a></li> <li> size(itr::<b>Base.AsyncGenerator</b>) in Base at <a href=\"https://github.com/JuliaLang/julia/tree/80516ca20297a67b996caa08c38786332379b6a5/base/asyncmap.jl#L409\" target=\"_blank\">asyncmap.jl:409</a></li> <li> size(zmsg::<b>ZMQ.Message</b>) in ZMQ at <a href=\"file:///Users/fede/.julia/packages/ZMQ/ABGOx/src/message.jl\" target=\"_blank\">/Users/fede/.julia/packages/ZMQ/ABGOx/src/message.jl:95</a></li> <li> size(b::<b>PyBuffer</b>) in PyCall at <a href=\"file:///Users/fede/.julia/packages/PyCall/ttONZ/src/pybuffer.jl\" target=\"_blank\">/Users/fede/.julia/packages/PyCall/ttONZ/src/pybuffer.jl:68</a></li> <li> size(b::<b>PyBuffer</b>, d::<b>Integer</b>) in PyCall at <a href=\"file:///Users/fede/.julia/packages/PyCall/ttONZ/src/pybuffer.jl\" target=\"_blank\">/Users/fede/.julia/packages/PyCall/ttONZ/src/pybuffer.jl:74</a></li> <li> size(o::<b>PyObject</b>) in PyCall at <a href=\"file:///Users/fede/.julia/packages/PyCall/ttONZ/src/PyCall.jl\" target=\"_blank\">/Users/fede/.julia/packages/PyCall/ttONZ/src/PyCall.jl:806</a></li> <li> size(g::<b>Base.Generator</b>) in Base at <a href=\"https://github.com/JuliaLang/julia/tree/80516ca20297a67b996caa08c38786332379b6a5/base/generator.jl#L51\" target=\"_blank\">generator.jl:51</a></li> <li> size(t::<b>Tuple</b>, d) in Base at <a href=\"https://github.com/JuliaLang/julia/tree/80516ca20297a67b996caa08c38786332379b6a5/base/tuple.jl#L22\" target=\"_blank\">tuple.jl:22</a></li> <li> size(S::<b>Base.Slice</b>) in Base at <a href=\"https://github.com/JuliaLang/julia/tree/80516ca20297a67b996caa08c38786332379b6a5/base/indices.jl#L328\" target=\"_blank\">indices.jl:328</a></li> <li> size(S::<b>Base.IdentityUnitRange</b>) in Base at <a href=\"https://github.com/JuliaLang/julia/tree/80516ca20297a67b996caa08c38786332379b6a5/base/indices.jl#L360\" target=\"_blank\">indices.jl:360</a></li> <li> size(r::<b>AbstractRange</b>) in Base at <a href=\"https://github.com/JuliaLang/julia/tree/80516ca20297a67b996caa08c38786332379b6a5/base/range.jl#L470\" target=\"_blank\">range.jl:470</a></li> <li> size(x::<b>Number</b>) in Base at <a href=\"https://github.com/JuliaLang/julia/tree/80516ca20297a67b996caa08c38786332379b6a5/base/number.jl#L62\" target=\"_blank\">number.jl:62</a></li> <li> size(x::<b>Number</b>, d) in Base at <a href=\"https://github.com/JuliaLang/julia/tree/80516ca20297a67b996caa08c38786332379b6a5/base/number.jl#L63\" target=\"_blank\">number.jl:63</a></li> <li> size(x::<b>Ref</b>) in Base at <a href=\"https://github.com/JuliaLang/julia/tree/80516ca20297a67b996caa08c38786332379b6a5/base/refpointer.jl#L38\" target=\"_blank\">refpointer.jl:38</a></li> <li> size(iter::<b>LinearIndices</b>) in Base at <a href=\"https://github.com/JuliaLang/julia/tree/80516ca20297a67b996caa08c38786332379b6a5/base/indices.jl#L442\" target=\"_blank\">indices.jl:442</a></li> <li> size(a::<b>Array{T,1} where T</b>) in Base at <a href=\"https://github.com/JuliaLang/julia/tree/80516ca20297a67b996caa08c38786332379b6a5/base/array.jl#L155\" target=\"_blank\">array.jl:155</a></li> <li> size(a::<b>Array{T,2} where T</b>) in Base at <a href=\"https://github.com/JuliaLang/julia/tree/80516ca20297a67b996caa08c38786332379b6a5/base/array.jl#L156\" target=\"_blank\">array.jl:156</a></li> <li> size<i>{N}</i>(a::<b>Array{#s72,N} where #s72</b>) in Base at <a href=\"https://github.com/JuliaLang/julia/tree/80516ca20297a67b996caa08c38786332379b6a5/base/array.jl#L157\" target=\"_blank\">array.jl:157</a></li> <li> size(a::<b>Array</b>, d) in Base at <a href=\"https://github.com/JuliaLang/julia/tree/80516ca20297a67b996caa08c38786332379b6a5/base/array.jl#L154\" target=\"_blank\">array.jl:154</a></li> <li> size(V::<b>SubArray</b>) in Base at <a href=\"https://github.com/JuliaLang/julia/tree/80516ca20297a67b996caa08c38786332379b6a5/base/subarray.jl#L65\" target=\"_blank\">subarray.jl:65</a></li> <li> size(A::<b>Base.ReshapedArray</b>) in Base at <a href=\"https://github.com/JuliaLang/julia/tree/80516ca20297a67b996caa08c38786332379b6a5/base/reshapedarray.jl#L205\" target=\"_blank\">reshapedarray.jl:205</a></li> <li> size<i>{T}</i>(a::<b>Base.ReinterpretArray{T,0,S,A} where A<:AbstractArray{S,0} where S</b>) in Base at <a href=\"https://github.com/JuliaLang/julia/tree/80516ca20297a67b996caa08c38786332379b6a5/base/reinterpretarray.jl#L77\" target=\"_blank\">reinterpretarray.jl:77</a></li> <li> size<i>{T, S}</i>(a::<b>Base.ReinterpretArray{T,N,S,A} where A<:AbstractArray{S,N} where N</b>) in Base at <a href=\"https://github.com/JuliaLang/julia/tree/80516ca20297a67b996caa08c38786332379b6a5/base/reinterpretarray.jl#L73\" target=\"_blank\">reinterpretarray.jl:73</a></li> <li> size(B::<b>BitArray</b>) in Base at <a href=\"https://github.com/JuliaLang/julia/tree/80516ca20297a67b996caa08c38786332379b6a5/base/bitarray.jl#L78\" target=\"_blank\">bitarray.jl:78</a></li> <li> size(s::<b>Base.CodeUnits</b>) in Base at <a href=\"https://github.com/JuliaLang/julia/tree/80516ca20297a67b996caa08c38786332379b6a5/base/strings/basic.jl#L695\" target=\"_blank\">strings/basic.jl:695</a></li> <li> size(iter::<b>CartesianIndices</b>) in Base.IteratorsMD at <a href=\"https://github.com/JuliaLang/julia/tree/80516ca20297a67b996caa08c38786332379b6a5/base/multidimensional.jl#L356\" target=\"_blank\">multidimensional.jl:356</a></li> <li> size(L::<b>Base.LogicalIndex</b>) in Base at <a href=\"https://github.com/JuliaLang/julia/tree/80516ca20297a67b996caa08c38786332379b6a5/base/multidimensional.jl#L541\" target=\"_blank\">multidimensional.jl:541</a></li> <li> size<i>{T, N, perm}</i>(A::<b>PermutedDimsArray{T,N,perm,iperm,AA} where AA<:AbstractArray where iperm</b>) in Base.PermutedDimsArrays at <a href=\"https://github.com/JuliaLang/julia/tree/80516ca20297a67b996caa08c38786332379b6a5/base/permuteddimsarray.jl#L49\" target=\"_blank\">permuteddimsarray.jl:49</a></li> <li> size(a::<b>Random.UnsafeView</b>) in Random at <a href=\"file:///Users/osx/buildbot/slave/package_osx64/build/usr/share/julia/stdlib/v1.1/Random/src/RNGs.jl\" target=\"_blank\">/Users/osx/buildbot/slave/package_osx64/build/usr/share/julia/stdlib/v1.1/Random/src/RNGs.jl:382</a></li> <li> size(v::<b>Union{Adjoint{T,#s623}, Transpose{T,#s623}} where #s623<:(AbstractArray{T,1} where T) where T</b>) in LinearAlgebra at <a href=\"file:///Users/osx/buildbot/slave/package_osx64/build/usr/share/julia/stdlib/v1.1/LinearAlgebra/src/adjtrans.jl\" target=\"_blank\">/Users/osx/buildbot/slave/package_osx64/build/usr/share/julia/stdlib/v1.1/LinearAlgebra/src/adjtrans.jl:123</a></li> <li> size(A::<b>Union{Adjoint{T,#s623}, Transpose{T,#s623}} where #s623<:(AbstractArray{T,2} where T) where T</b>) in LinearAlgebra at <a href=\"file:///Users/osx/buildbot/slave/package_osx64/build/usr/share/julia/stdlib/v1.1/LinearAlgebra/src/adjtrans.jl\" target=\"_blank\">/Users/osx/buildbot/slave/package_osx64/build/usr/share/julia/stdlib/v1.1/LinearAlgebra/src/adjtrans.jl:124</a></li> <li> size(A::<b>SymTridiagonal</b>) in LinearAlgebra at <a href=\"file:///Users/osx/buildbot/slave/package_osx64/build/usr/share/julia/stdlib/v1.1/LinearAlgebra/src/tridiag.jl\" target=\"_blank\">/Users/osx/buildbot/slave/package_osx64/build/usr/share/julia/stdlib/v1.1/LinearAlgebra/src/tridiag.jl:113</a></li> <li> size(A::<b>SymTridiagonal</b>, d::<b>Integer</b>) in LinearAlgebra at <a href=\"file:///Users/osx/buildbot/slave/package_osx64/build/usr/share/julia/stdlib/v1.1/LinearAlgebra/src/tridiag.jl\" target=\"_blank\">/Users/osx/buildbot/slave/package_osx64/build/usr/share/julia/stdlib/v1.1/LinearAlgebra/src/tridiag.jl:115</a></li> <li> size(M::<b>Tridiagonal</b>) in LinearAlgebra at <a href=\"file:///Users/osx/buildbot/slave/package_osx64/build/usr/share/julia/stdlib/v1.1/LinearAlgebra/src/tridiag.jl\" target=\"_blank\">/Users/osx/buildbot/slave/package_osx64/build/usr/share/julia/stdlib/v1.1/LinearAlgebra/src/tridiag.jl:466</a></li> <li> size(M::<b>Tridiagonal</b>, d::<b>Integer</b>) in LinearAlgebra at <a href=\"file:///Users/osx/buildbot/slave/package_osx64/build/usr/share/julia/stdlib/v1.1/LinearAlgebra/src/tridiag.jl\" target=\"_blank\">/Users/osx/buildbot/slave/package_osx64/build/usr/share/julia/stdlib/v1.1/LinearAlgebra/src/tridiag.jl:468</a></li> <li> size(A::<b>LowerTriangular</b>) in LinearAlgebra at <a href=\"file:///Users/osx/buildbot/slave/package_osx64/build/usr/share/julia/stdlib/v1.1/LinearAlgebra/src/triangular.jl\" target=\"_blank\">/Users/osx/buildbot/slave/package_osx64/build/usr/share/julia/stdlib/v1.1/LinearAlgebra/src/triangular.jl:37</a></li> <li> size(A::<b>LowerTriangular</b>, d) in LinearAlgebra at <a href=\"file:///Users/osx/buildbot/slave/package_osx64/build/usr/share/julia/stdlib/v1.1/LinearAlgebra/src/triangular.jl\" target=\"_blank\">/Users/osx/buildbot/slave/package_osx64/build/usr/share/julia/stdlib/v1.1/LinearAlgebra/src/triangular.jl:36</a></li> <li> size(A::<b>UnitLowerTriangular</b>) in LinearAlgebra at <a href=\"file:///Users/osx/buildbot/slave/package_osx64/build/usr/share/julia/stdlib/v1.1/LinearAlgebra/src/triangular.jl\" target=\"_blank\">/Users/osx/buildbot/slave/package_osx64/build/usr/share/julia/stdlib/v1.1/LinearAlgebra/src/triangular.jl:37</a></li> <li> size(A::<b>UnitLowerTriangular</b>, d) in LinearAlgebra at <a href=\"file:///Users/osx/buildbot/slave/package_osx64/build/usr/share/julia/stdlib/v1.1/LinearAlgebra/src/triangular.jl\" target=\"_blank\">/Users/osx/buildbot/slave/package_osx64/build/usr/share/julia/stdlib/v1.1/LinearAlgebra/src/triangular.jl:36</a></li> <li> size(A::<b>UpperTriangular</b>) in LinearAlgebra at <a href=\"file:///Users/osx/buildbot/slave/package_osx64/build/usr/share/julia/stdlib/v1.1/LinearAlgebra/src/triangular.jl\" target=\"_blank\">/Users/osx/buildbot/slave/package_osx64/build/usr/share/julia/stdlib/v1.1/LinearAlgebra/src/triangular.jl:37</a></li> <li> size(A::<b>UpperTriangular</b>, d) in LinearAlgebra at <a href=\"file:///Users/osx/buildbot/slave/package_osx64/build/usr/share/julia/stdlib/v1.1/LinearAlgebra/src/triangular.jl\" target=\"_blank\">/Users/osx/buildbot/slave/package_osx64/build/usr/share/julia/stdlib/v1.1/LinearAlgebra/src/triangular.jl:36</a></li> <li> size(A::<b>UnitUpperTriangular</b>) in LinearAlgebra at <a href=\"file:///Users/osx/buildbot/slave/package_osx64/build/usr/share/julia/stdlib/v1.1/LinearAlgebra/src/triangular.jl\" target=\"_blank\">/Users/osx/buildbot/slave/package_osx64/build/usr/share/julia/stdlib/v1.1/LinearAlgebra/src/triangular.jl:37</a></li> <li> size(A::<b>UnitUpperTriangular</b>, d) in LinearAlgebra at <a href=\"file:///Users/osx/buildbot/slave/package_osx64/build/usr/share/julia/stdlib/v1.1/LinearAlgebra/src/triangular.jl\" target=\"_blank\">/Users/osx/buildbot/slave/package_osx64/build/usr/share/julia/stdlib/v1.1/LinearAlgebra/src/triangular.jl:36</a></li> <li> size(F::<b>Adjoint{#s623,#s622} where #s622<:Factorization where #s623</b>) in LinearAlgebra at <a href=\"file:///Users/osx/buildbot/slave/package_osx64/build/usr/share/julia/stdlib/v1.1/LinearAlgebra/src/factorization.jl\" target=\"_blank\">/Users/osx/buildbot/slave/package_osx64/build/usr/share/julia/stdlib/v1.1/LinearAlgebra/src/factorization.jl:8</a></li> <li> size(F::<b>Transpose{#s623,#s622} where #s622<:Factorization where #s623</b>) in LinearAlgebra at <a href=\"file:///Users/osx/buildbot/slave/package_osx64/build/usr/share/julia/stdlib/v1.1/LinearAlgebra/src/factorization.jl\" target=\"_blank\">/Users/osx/buildbot/slave/package_osx64/build/usr/share/julia/stdlib/v1.1/LinearAlgebra/src/factorization.jl:9</a></li> <li> size(Q::<b>SuiteSparse.SPQR.QRSparseQ</b>) in SuiteSparse.SPQR at <a href=\"file:///Users/osx/buildbot/slave/package_osx64/build/usr/share/julia/stdlib/v1.1/SuiteSparse/src/spqr.jl\" target=\"_blank\">/Users/osx/buildbot/slave/package_osx64/build/usr/share/julia/stdlib/v1.1/SuiteSparse/src/spqr.jl:136</a></li> <li> size(Q::<b>LinearAlgebra.AbstractQ</b>) in LinearAlgebra at <a href=\"file:///Users/osx/buildbot/slave/package_osx64/build/usr/share/julia/stdlib/v1.1/LinearAlgebra/src/qr.jl\" target=\"_blank\">/Users/osx/buildbot/slave/package_osx64/build/usr/share/julia/stdlib/v1.1/LinearAlgebra/src/qr.jl:513</a></li> <li> size(Q::<b>LinearAlgebra.AbstractQ</b>, dim::<b>Integer</b>) in LinearAlgebra at <a href=\"file:///Users/osx/buildbot/slave/package_osx64/build/usr/share/julia/stdlib/v1.1/LinearAlgebra/src/qr.jl\" target=\"_blank\">/Users/osx/buildbot/slave/package_osx64/build/usr/share/julia/stdlib/v1.1/LinearAlgebra/src/qr.jl:512</a></li> <li> size(Q::<b>LinearAlgebra.LQPackedQ</b>) in LinearAlgebra at <a href=\"file:///Users/osx/buildbot/slave/package_osx64/build/usr/share/julia/stdlib/v1.1/LinearAlgebra/src/lq.jl\" target=\"_blank\">/Users/osx/buildbot/slave/package_osx64/build/usr/share/julia/stdlib/v1.1/LinearAlgebra/src/lq.jl:126</a></li> <li> size(Q::<b>LinearAlgebra.LQPackedQ</b>, dim::<b>Integer</b>) in LinearAlgebra at <a href=\"file:///Users/osx/buildbot/slave/package_osx64/build/usr/share/julia/stdlib/v1.1/LinearAlgebra/src/lq.jl\" target=\"_blank\">/Users/osx/buildbot/slave/package_osx64/build/usr/share/julia/stdlib/v1.1/LinearAlgebra/src/lq.jl:130</a></li> <li> size(A::<b>Union{Hermitian{T,S}, Symmetric{T,S}} where S where T</b>) in LinearAlgebra at <a href=\"file:///Users/osx/buildbot/slave/package_osx64/build/usr/share/julia/stdlib/v1.1/LinearAlgebra/src/symmetric.jl\" target=\"_blank\">/Users/osx/buildbot/slave/package_osx64/build/usr/share/julia/stdlib/v1.1/LinearAlgebra/src/symmetric.jl:185</a></li> <li> size(A::<b>Union{Hermitian{T,S}, Symmetric{T,S}} where S where T</b>, d) in LinearAlgebra at <a href=\"file:///Users/osx/buildbot/slave/package_osx64/build/usr/share/julia/stdlib/v1.1/LinearAlgebra/src/symmetric.jl\" target=\"_blank\">/Users/osx/buildbot/slave/package_osx64/build/usr/share/julia/stdlib/v1.1/LinearAlgebra/src/symmetric.jl:184</a></li> <li> size(D::<b>Diagonal</b>) in LinearAlgebra at <a href=\"file:///Users/osx/buildbot/slave/package_osx64/build/usr/share/julia/stdlib/v1.1/LinearAlgebra/src/diagonal.jl\" target=\"_blank\">/Users/osx/buildbot/slave/package_osx64/build/usr/share/julia/stdlib/v1.1/LinearAlgebra/src/diagonal.jl:75</a></li> <li> size(D::<b>Diagonal</b>, d::<b>Integer</b>) in LinearAlgebra at <a href=\"file:///Users/osx/buildbot/slave/package_osx64/build/usr/share/julia/stdlib/v1.1/LinearAlgebra/src/diagonal.jl\" target=\"_blank\">/Users/osx/buildbot/slave/package_osx64/build/usr/share/julia/stdlib/v1.1/LinearAlgebra/src/diagonal.jl:78</a></li> <li> size(M::<b>Bidiagonal</b>) in LinearAlgebra at <a href=\"file:///Users/osx/buildbot/slave/package_osx64/build/usr/share/julia/stdlib/v1.1/LinearAlgebra/src/bidiag.jl\" target=\"_blank\">/Users/osx/buildbot/slave/package_osx64/build/usr/share/julia/stdlib/v1.1/LinearAlgebra/src/bidiag.jl:218</a></li> <li> size(M::<b>Bidiagonal</b>, d::<b>Integer</b>) in LinearAlgebra at <a href=\"file:///Users/osx/buildbot/slave/package_osx64/build/usr/share/julia/stdlib/v1.1/LinearAlgebra/src/bidiag.jl\" target=\"_blank\">/Users/osx/buildbot/slave/package_osx64/build/usr/share/julia/stdlib/v1.1/LinearAlgebra/src/bidiag.jl:220</a></li> <li> size(S::<b>SparseArrays.SparseMatrixCSC</b>) in SparseArrays at <a href=\"file:///Users/osx/buildbot/slave/package_osx64/build/usr/share/julia/stdlib/v1.1/SparseArrays/src/sparsematrix.jl\" target=\"_blank\">/Users/osx/buildbot/slave/package_osx64/build/usr/share/julia/stdlib/v1.1/SparseArrays/src/sparsematrix.jl:36</a></li> <li> size(x::<b>SparseArrays.SparseVector</b>) in SparseArrays at <a href=\"file:///Users/osx/buildbot/slave/package_osx64/build/usr/share/julia/stdlib/v1.1/SparseArrays/src/sparsevector.jl\" target=\"_blank\">/Users/osx/buildbot/slave/package_osx64/build/usr/share/julia/stdlib/v1.1/SparseArrays/src/sparsevector.jl:41</a></li> <li> size(A::<b>Union{Dense, Sparse}</b>) in SuiteSparse.CHOLMOD at <a href=\"file:///Users/osx/buildbot/slave/package_osx64/build/usr/share/julia/stdlib/v1.1/SuiteSparse/src/cholmod.jl\" target=\"_blank\">/Users/osx/buildbot/slave/package_osx64/build/usr/share/julia/stdlib/v1.1/SuiteSparse/src/cholmod.jl:1131</a></li> <li> size(FC::<b>SuiteSparse.CHOLMOD.FactorComponent</b>) in SuiteSparse.CHOLMOD at <a href=\"file:///Users/osx/buildbot/slave/package_osx64/build/usr/share/julia/stdlib/v1.1/SuiteSparse/src/cholmod.jl\" target=\"_blank\">/Users/osx/buildbot/slave/package_osx64/build/usr/share/julia/stdlib/v1.1/SuiteSparse/src/cholmod.jl:1150</a></li> <li> size(FC::<b>SuiteSparse.CHOLMOD.FactorComponent</b>, i::<b>Integer</b>) in SuiteSparse.CHOLMOD at <a href=\"file:///Users/osx/buildbot/slave/package_osx64/build/usr/share/julia/stdlib/v1.1/SuiteSparse/src/cholmod.jl\" target=\"_blank\">/Users/osx/buildbot/slave/package_osx64/build/usr/share/julia/stdlib/v1.1/SuiteSparse/src/cholmod.jl:1149</a></li> <li> size(S::<b>SharedArrays.SharedArray</b>) in SharedArrays at <a href=\"file:///Users/osx/buildbot/slave/package_osx64/build/usr/share/julia/stdlib/v1.1/SharedArrays/src/SharedArrays.jl\" target=\"_blank\">/Users/osx/buildbot/slave/package_osx64/build/usr/share/julia/stdlib/v1.1/SharedArrays/src/SharedArrays.jl:283</a></li> <li> size(a::<b>Test.GenericArray</b>) in Test at <a href=\"file:///Users/osx/buildbot/slave/package_osx64/build/usr/share/julia/stdlib/v1.1/Test/src/Test.jl\" target=\"_blank\">/Users/osx/buildbot/slave/package_osx64/build/usr/share/julia/stdlib/v1.1/Test/src/Test.jl:1552</a></li> <li> size(v::<b>JSON.Parser.PushVector</b>) in JSON.Parser at <a href=\"file:///Users/fede/.julia/packages/JSON/ebvl3/src/pushvector.jl\" target=\"_blank\">/Users/fede/.julia/packages/JSON/ebvl3/src/pushvector.jl:14</a></li> <li> size(cb::<b>DataStructures.CircularBuffer</b>) in DataStructures at <a href=\"file:///Users/fede/.julia/packages/DataStructures/6r6kb/src/circular_buffer.jl\" target=\"_blank\">/Users/fede/.julia/packages/DataStructures/6r6kb/src/circular_buffer.jl:168</a></li> <li> size(a::<b>PyArray</b>) in PyCall at <a href=\"file:///Users/fede/.julia/packages/PyCall/ttONZ/src/pyarray.jl\" target=\"_blank\">/Users/fede/.julia/packages/PyCall/ttONZ/src/pyarray.jl:128</a></li> <li> size(a::<b>PyVector</b>) in PyCall at <a href=\"file:///Users/fede/.julia/packages/PyCall/ttONZ/src/conversions.jl\" target=\"_blank\">/Users/fede/.julia/packages/PyCall/ttONZ/src/conversions.jl:268</a></li> <li> size<i>{T, N}</i>(t::<b>AbstractArray{T,N}</b>, d) in Base at <a href=\"https://github.com/JuliaLang/julia/tree/80516ca20297a67b996caa08c38786332379b6a5/base/abstractarray.jl#L38\" target=\"_blank\">abstractarray.jl:38</a></li> <li> size(r::<b>Base.Iterators.Reverse</b>) in Base.Iterators at <a href=\"https://github.com/JuliaLang/julia/tree/80516ca20297a67b996caa08c38786332379b6a5/base/iterators.jl#L82\" target=\"_blank\">iterators.jl:82</a></li> <li> size(e::<b>Base.Iterators.Enumerate</b>) in Base.Iterators at <a href=\"https://github.com/JuliaLang/julia/tree/80516ca20297a67b996caa08c38786332379b6a5/base/iterators.jl#L136\" target=\"_blank\">iterators.jl:136</a></li> <li> size(v::<b>Base.Iterators.Pairs</b>) in Base.Iterators at <a href=\"https://github.com/JuliaLang/julia/tree/80516ca20297a67b996caa08c38786332379b6a5/base/iterators.jl#L232\" target=\"_blank\">iterators.jl:232</a></li> <li> size(z::<b>Base.Iterators.Zip</b>) in Base.Iterators at <a href=\"https://github.com/JuliaLang/julia/tree/80516ca20297a67b996caa08c38786332379b6a5/base/iterators.jl#L315\" target=\"_blank\">iterators.jl:315</a></li> <li> size(P::<b>Base.Iterators.ProductIterator</b>) in Base.Iterators at <a href=\"https://github.com/JuliaLang/julia/tree/80516ca20297a67b996caa08c38786332379b6a5/base/iterators.jl#L761\" target=\"_blank\">iterators.jl:761</a></li> <li> size(c::<b>AbstractChar</b>) in Base at <a href=\"https://github.com/JuliaLang/julia/tree/80516ca20297a67b996caa08c38786332379b6a5/base/char.jl#L189\" target=\"_blank\">char.jl:189</a></li> <li> size(c::<b>AbstractChar</b>, d) in Base at <a href=\"https://github.com/JuliaLang/julia/tree/80516ca20297a67b996caa08c38786332379b6a5/base/char.jl#L190\" target=\"_blank\">char.jl:190</a></li> <li> size(F::<b>Union{QR, QRCompactWY, QRPivoted}</b>) in LinearAlgebra at <a href=\"file:///Users/osx/buildbot/slave/package_osx64/build/usr/share/julia/stdlib/v1.1/LinearAlgebra/src/qr.jl\" target=\"_blank\">/Users/osx/buildbot/slave/package_osx64/build/usr/share/julia/stdlib/v1.1/LinearAlgebra/src/qr.jl:511</a></li> <li> size(F::<b>Union{QR, QRCompactWY, QRPivoted}</b>, dim::<b>Integer</b>) in LinearAlgebra at <a href=\"file:///Users/osx/buildbot/slave/package_osx64/build/usr/share/julia/stdlib/v1.1/LinearAlgebra/src/qr.jl\" target=\"_blank\">/Users/osx/buildbot/slave/package_osx64/build/usr/share/julia/stdlib/v1.1/LinearAlgebra/src/qr.jl:510</a></li> <li> size(F::<b>LQ</b>) in LinearAlgebra at <a href=\"file:///Users/osx/buildbot/slave/package_osx64/build/usr/share/julia/stdlib/v1.1/LinearAlgebra/src/lq.jl\" target=\"_blank\">/Users/osx/buildbot/slave/package_osx64/build/usr/share/julia/stdlib/v1.1/LinearAlgebra/src/lq.jl:122</a></li> <li> size(F::<b>LQ</b>, dim::<b>Integer</b>) in LinearAlgebra at <a href=\"file:///Users/osx/buildbot/slave/package_osx64/build/usr/share/julia/stdlib/v1.1/LinearAlgebra/src/lq.jl\" target=\"_blank\">/Users/osx/buildbot/slave/package_osx64/build/usr/share/julia/stdlib/v1.1/LinearAlgebra/src/lq.jl:121</a></li> <li> size(A::<b>SVD</b>) in LinearAlgebra at <a href=\"file:///Users/osx/buildbot/slave/package_osx64/build/usr/share/julia/stdlib/v1.1/LinearAlgebra/src/svd.jl\" target=\"_blank\">/Users/osx/buildbot/slave/package_osx64/build/usr/share/julia/stdlib/v1.1/LinearAlgebra/src/svd.jl:200</a></li> <li> size(A::<b>SVD</b>, dim::<b>Integer</b>) in LinearAlgebra at <a href=\"file:///Users/osx/buildbot/slave/package_osx64/build/usr/share/julia/stdlib/v1.1/LinearAlgebra/src/svd.jl\" target=\"_blank\">/Users/osx/buildbot/slave/package_osx64/build/usr/share/julia/stdlib/v1.1/LinearAlgebra/src/svd.jl:199</a></li> <li> size(C::<b>Union{Cholesky, CholeskyPivoted}</b>) in LinearAlgebra at <a href=\"file:///Users/osx/buildbot/slave/package_osx64/build/usr/share/julia/stdlib/v1.1/LinearAlgebra/src/cholesky.jl\" target=\"_blank\">/Users/osx/buildbot/slave/package_osx64/build/usr/share/julia/stdlib/v1.1/LinearAlgebra/src/cholesky.jl:335</a></li> <li> size(C::<b>Union{Cholesky, CholeskyPivoted}</b>, d::<b>Integer</b>) in LinearAlgebra at <a href=\"file:///Users/osx/buildbot/slave/package_osx64/build/usr/share/julia/stdlib/v1.1/LinearAlgebra/src/cholesky.jl\" target=\"_blank\">/Users/osx/buildbot/slave/package_osx64/build/usr/share/julia/stdlib/v1.1/LinearAlgebra/src/cholesky.jl:336</a></li> <li> size(A::<b>LU</b>) in LinearAlgebra at <a href=\"file:///Users/osx/buildbot/slave/package_osx64/build/usr/share/julia/stdlib/v1.1/LinearAlgebra/src/lu.jl\" target=\"_blank\">/Users/osx/buildbot/slave/package_osx64/build/usr/share/julia/stdlib/v1.1/LinearAlgebra/src/lu.jl:272</a></li> <li> size(A::<b>LU</b>, i) in LinearAlgebra at <a href=\"file:///Users/osx/buildbot/slave/package_osx64/build/usr/share/julia/stdlib/v1.1/LinearAlgebra/src/lu.jl\" target=\"_blank\">/Users/osx/buildbot/slave/package_osx64/build/usr/share/julia/stdlib/v1.1/LinearAlgebra/src/lu.jl:273</a></li> <li> size(B::<b>BunchKaufman</b>) in LinearAlgebra at <a href=\"file:///Users/osx/buildbot/slave/package_osx64/build/usr/share/julia/stdlib/v1.1/LinearAlgebra/src/bunchkaufman.jl\" target=\"_blank\">/Users/osx/buildbot/slave/package_osx64/build/usr/share/julia/stdlib/v1.1/LinearAlgebra/src/bunchkaufman.jl:123</a></li> <li> size(B::<b>BunchKaufman</b>, d::<b>Integer</b>) in LinearAlgebra at <a href=\"file:///Users/osx/buildbot/slave/package_osx64/build/usr/share/julia/stdlib/v1.1/LinearAlgebra/src/bunchkaufman.jl\" target=\"_blank\">/Users/osx/buildbot/slave/package_osx64/build/usr/share/julia/stdlib/v1.1/LinearAlgebra/src/bunchkaufman.jl:124</a></li> <li> size(S::<b>LDLt</b>) in LinearAlgebra at <a href=\"file:///Users/osx/buildbot/slave/package_osx64/build/usr/share/julia/stdlib/v1.1/LinearAlgebra/src/ldlt.jl\" target=\"_blank\">/Users/osx/buildbot/slave/package_osx64/build/usr/share/julia/stdlib/v1.1/LinearAlgebra/src/ldlt.jl:14</a></li> <li> size(S::<b>LDLt</b>, i::<b>Integer</b>) in LinearAlgebra at <a href=\"file:///Users/osx/buildbot/slave/package_osx64/build/usr/share/julia/stdlib/v1.1/LinearAlgebra/src/ldlt.jl\" target=\"_blank\">/Users/osx/buildbot/slave/package_osx64/build/usr/share/julia/stdlib/v1.1/LinearAlgebra/src/ldlt.jl:15</a></li> <li> size(F::<b>SuiteSparse.UMFPACK.UmfpackLU</b>) in SuiteSparse.UMFPACK at <a href=\"file:///Users/osx/buildbot/slave/package_osx64/build/usr/share/julia/stdlib/v1.1/SuiteSparse/src/umfpack.jl\" target=\"_blank\">/Users/osx/buildbot/slave/package_osx64/build/usr/share/julia/stdlib/v1.1/SuiteSparse/src/umfpack.jl:177</a></li> <li> size(F::<b>SuiteSparse.UMFPACK.UmfpackLU</b>, dim::<b>Integer</b>) in SuiteSparse.UMFPACK at <a href=\"file:///Users/osx/buildbot/slave/package_osx64/build/usr/share/julia/stdlib/v1.1/SuiteSparse/src/umfpack.jl\" target=\"_blank\">/Users/osx/buildbot/slave/package_osx64/build/usr/share/julia/stdlib/v1.1/SuiteSparse/src/umfpack.jl:179</a></li> <li> size(F::<b>SuiteSparse.CHOLMOD.Factor</b>) in SuiteSparse.CHOLMOD at <a href=\"file:///Users/osx/buildbot/slave/package_osx64/build/usr/share/julia/stdlib/v1.1/SuiteSparse/src/cholmod.jl\" target=\"_blank\">/Users/osx/buildbot/slave/package_osx64/build/usr/share/julia/stdlib/v1.1/SuiteSparse/src/cholmod.jl:1144</a></li> <li> size(F::<b>SuiteSparse.CHOLMOD.Factor</b>, i::<b>Integer</b>) in SuiteSparse.CHOLMOD at <a href=\"file:///Users/osx/buildbot/slave/package_osx64/build/usr/share/julia/stdlib/v1.1/SuiteSparse/src/cholmod.jl\" target=\"_blank\">/Users/osx/buildbot/slave/package_osx64/build/usr/share/julia/stdlib/v1.1/SuiteSparse/src/cholmod.jl:1135</a></li> <li> size(F::<b>SuiteSparse.SPQR.QRSparse</b>) in SuiteSparse.SPQR at <a href=\"file:///Users/osx/buildbot/slave/package_osx64/build/usr/share/julia/stdlib/v1.1/SuiteSparse/src/spqr.jl\" target=\"_blank\">/Users/osx/buildbot/slave/package_osx64/build/usr/share/julia/stdlib/v1.1/SuiteSparse/src/spqr.jl:116</a></li> <li> size(F::<b>SuiteSparse.SPQR.QRSparse</b>, i::<b>Integer</b>) in SuiteSparse.SPQR at <a href=\"file:///Users/osx/buildbot/slave/package_osx64/build/usr/share/julia/stdlib/v1.1/SuiteSparse/src/spqr.jl\" target=\"_blank\">/Users/osx/buildbot/slave/package_osx64/build/usr/share/julia/stdlib/v1.1/SuiteSparse/src/spqr.jl:118</a></li> <li> size(d::<b>DataStructures.MultiDict</b>) in DataStructures at <a href=\"file:///Users/fede/.julia/packages/DataStructures/6r6kb/src/multi_dict.jl\" target=\"_blank\">/Users/fede/.julia/packages/DataStructures/6r6kb/src/multi_dict.jl:98</a></li> <li> size(t::<b>Node</b>) in Main at In[35]:17</li> <li> size(t::<b>Leaf</b>) in Main at In[35]:18</li> <li> size(t::<b>Empty</b>) in Main at In[35]:19</li> </ul>"
      ],
      "text/plain": [
       "# 101 methods for generic function \"size\":\n",
       "[1] size(B::BitArray{1}) in Base at bitarray.jl:77\n",
       "[2] size(B::BitArray{1}, d) in Base at bitarray.jl:81\n",
       "[3] size(r::Core.Compiler.StmtRange) in Base.IRShow at show.jl:1561\n",
       "[4] size(itr::Base.AsyncGenerator) in Base at asyncmap.jl:409\n",
       "[5] size(zmsg::ZMQ.Message) in ZMQ at /Users/fede/.julia/packages/ZMQ/ABGOx/src/message.jl:95\n",
       "[6] size(b::PyBuffer) in PyCall at /Users/fede/.julia/packages/PyCall/ttONZ/src/pybuffer.jl:68\n",
       "[7] size(b::PyBuffer, d::Integer) in PyCall at /Users/fede/.julia/packages/PyCall/ttONZ/src/pybuffer.jl:74\n",
       "[8] size(o::PyObject) in PyCall at /Users/fede/.julia/packages/PyCall/ttONZ/src/PyCall.jl:806\n",
       "[9] size(g::Base.Generator) in Base at generator.jl:51\n",
       "[10] size(t::Tuple, d) in Base at tuple.jl:22\n",
       "[11] size(S::Base.Slice) in Base at indices.jl:328\n",
       "[12] size(S::Base.IdentityUnitRange) in Base at indices.jl:360\n",
       "[13] size(r::AbstractRange) in Base at range.jl:470\n",
       "[14] size(x::Number) in Base at number.jl:62\n",
       "[15] size(x::Number, d) in Base at number.jl:63\n",
       "[16] size(x::Ref) in Base at refpointer.jl:38\n",
       "[17] size(iter::LinearIndices) in Base at indices.jl:442\n",
       "[18] size(a::Array{T,1} where T) in Base at array.jl:155\n",
       "[19] size(a::Array{T,2} where T) in Base at array.jl:156\n",
       "[20] size(a::Array{#s72,N} where #s72) where N in Base at array.jl:157\n",
       "[21] size(a::Array, d) in Base at array.jl:154\n",
       "[22] size(V::SubArray) in Base at subarray.jl:65\n",
       "[23] size(A::Base.ReshapedArray) in Base at reshapedarray.jl:205\n",
       "[24] size(a::Base.ReinterpretArray{T,0,S,A} where A<:AbstractArray{S,0} where S) where T in Base at reinterpretarray.jl:77\n",
       "[25] size(a::Base.ReinterpretArray{T,N,S,A} where A<:AbstractArray{S,N} where N) where {T, S} in Base at reinterpretarray.jl:73\n",
       "[26] size(B::BitArray) in Base at bitarray.jl:78\n",
       "[27] size(s::Base.CodeUnits) in Base at strings/basic.jl:695\n",
       "[28] size(iter::CartesianIndices) in Base.IteratorsMD at multidimensional.jl:356\n",
       "[29] size(L::Base.LogicalIndex) in Base at multidimensional.jl:541\n",
       "[30] size(A::PermutedDimsArray{T,N,perm,iperm,AA} where AA<:AbstractArray where iperm) where {T, N, perm} in Base.PermutedDimsArrays at permuteddimsarray.jl:49\n",
       "[31] size(a::Random.UnsafeView) in Random at /Users/osx/buildbot/slave/package_osx64/build/usr/share/julia/stdlib/v1.1/Random/src/RNGs.jl:382\n",
       "[32] size(v::Union{Adjoint{T,#s623}, Transpose{T,#s623}} where #s623<:(AbstractArray{T,1} where T) where T) in LinearAlgebra at /Users/osx/buildbot/slave/package_osx64/build/usr/share/julia/stdlib/v1.1/LinearAlgebra/src/adjtrans.jl:123\n",
       "[33] size(A::Union{Adjoint{T,#s623}, Transpose{T,#s623}} where #s623<:(AbstractArray{T,2} where T) where T) in LinearAlgebra at /Users/osx/buildbot/slave/package_osx64/build/usr/share/julia/stdlib/v1.1/LinearAlgebra/src/adjtrans.jl:124\n",
       "[34] size(A::SymTridiagonal) in LinearAlgebra at /Users/osx/buildbot/slave/package_osx64/build/usr/share/julia/stdlib/v1.1/LinearAlgebra/src/tridiag.jl:113\n",
       "[35] size(A::SymTridiagonal, d::Integer) in LinearAlgebra at /Users/osx/buildbot/slave/package_osx64/build/usr/share/julia/stdlib/v1.1/LinearAlgebra/src/tridiag.jl:115\n",
       "[36] size(M::Tridiagonal) in LinearAlgebra at /Users/osx/buildbot/slave/package_osx64/build/usr/share/julia/stdlib/v1.1/LinearAlgebra/src/tridiag.jl:466\n",
       "[37] size(M::Tridiagonal, d::Integer) in LinearAlgebra at /Users/osx/buildbot/slave/package_osx64/build/usr/share/julia/stdlib/v1.1/LinearAlgebra/src/tridiag.jl:468\n",
       "[38] size(A::LowerTriangular) in LinearAlgebra at /Users/osx/buildbot/slave/package_osx64/build/usr/share/julia/stdlib/v1.1/LinearAlgebra/src/triangular.jl:37\n",
       "[39] size(A::LowerTriangular, d) in LinearAlgebra at /Users/osx/buildbot/slave/package_osx64/build/usr/share/julia/stdlib/v1.1/LinearAlgebra/src/triangular.jl:36\n",
       "[40] size(A::UnitLowerTriangular) in LinearAlgebra at /Users/osx/buildbot/slave/package_osx64/build/usr/share/julia/stdlib/v1.1/LinearAlgebra/src/triangular.jl:37\n",
       "[41] size(A::UnitLowerTriangular, d) in LinearAlgebra at /Users/osx/buildbot/slave/package_osx64/build/usr/share/julia/stdlib/v1.1/LinearAlgebra/src/triangular.jl:36\n",
       "[42] size(A::UpperTriangular) in LinearAlgebra at /Users/osx/buildbot/slave/package_osx64/build/usr/share/julia/stdlib/v1.1/LinearAlgebra/src/triangular.jl:37\n",
       "[43] size(A::UpperTriangular, d) in LinearAlgebra at /Users/osx/buildbot/slave/package_osx64/build/usr/share/julia/stdlib/v1.1/LinearAlgebra/src/triangular.jl:36\n",
       "[44] size(A::UnitUpperTriangular) in LinearAlgebra at /Users/osx/buildbot/slave/package_osx64/build/usr/share/julia/stdlib/v1.1/LinearAlgebra/src/triangular.jl:37\n",
       "[45] size(A::UnitUpperTriangular, d) in LinearAlgebra at /Users/osx/buildbot/slave/package_osx64/build/usr/share/julia/stdlib/v1.1/LinearAlgebra/src/triangular.jl:36\n",
       "[46] size(F::Adjoint{#s623,#s622} where #s622<:Factorization where #s623) in LinearAlgebra at /Users/osx/buildbot/slave/package_osx64/build/usr/share/julia/stdlib/v1.1/LinearAlgebra/src/factorization.jl:8\n",
       "[47] size(F::Transpose{#s623,#s622} where #s622<:Factorization where #s623) in LinearAlgebra at /Users/osx/buildbot/slave/package_osx64/build/usr/share/julia/stdlib/v1.1/LinearAlgebra/src/factorization.jl:9\n",
       "[48] size(Q::SuiteSparse.SPQR.QRSparseQ) in SuiteSparse.SPQR at /Users/osx/buildbot/slave/package_osx64/build/usr/share/julia/stdlib/v1.1/SuiteSparse/src/spqr.jl:136\n",
       "[49] size(Q::LinearAlgebra.AbstractQ) in LinearAlgebra at /Users/osx/buildbot/slave/package_osx64/build/usr/share/julia/stdlib/v1.1/LinearAlgebra/src/qr.jl:513\n",
       "[50] size(Q::LinearAlgebra.AbstractQ, dim::Integer) in LinearAlgebra at /Users/osx/buildbot/slave/package_osx64/build/usr/share/julia/stdlib/v1.1/LinearAlgebra/src/qr.jl:512\n",
       "[51] size(Q::LinearAlgebra.LQPackedQ) in LinearAlgebra at /Users/osx/buildbot/slave/package_osx64/build/usr/share/julia/stdlib/v1.1/LinearAlgebra/src/lq.jl:126\n",
       "[52] size(Q::LinearAlgebra.LQPackedQ, dim::Integer) in LinearAlgebra at /Users/osx/buildbot/slave/package_osx64/build/usr/share/julia/stdlib/v1.1/LinearAlgebra/src/lq.jl:130\n",
       "[53] size(A::Union{Hermitian{T,S}, Symmetric{T,S}} where S where T) in LinearAlgebra at /Users/osx/buildbot/slave/package_osx64/build/usr/share/julia/stdlib/v1.1/LinearAlgebra/src/symmetric.jl:185\n",
       "[54] size(A::Union{Hermitian{T,S}, Symmetric{T,S}} where S where T, d) in LinearAlgebra at /Users/osx/buildbot/slave/package_osx64/build/usr/share/julia/stdlib/v1.1/LinearAlgebra/src/symmetric.jl:184\n",
       "[55] size(D::Diagonal) in LinearAlgebra at /Users/osx/buildbot/slave/package_osx64/build/usr/share/julia/stdlib/v1.1/LinearAlgebra/src/diagonal.jl:75\n",
       "[56] size(D::Diagonal, d::Integer) in LinearAlgebra at /Users/osx/buildbot/slave/package_osx64/build/usr/share/julia/stdlib/v1.1/LinearAlgebra/src/diagonal.jl:78\n",
       "[57] size(M::Bidiagonal) in LinearAlgebra at /Users/osx/buildbot/slave/package_osx64/build/usr/share/julia/stdlib/v1.1/LinearAlgebra/src/bidiag.jl:218\n",
       "[58] size(M::Bidiagonal, d::Integer) in LinearAlgebra at /Users/osx/buildbot/slave/package_osx64/build/usr/share/julia/stdlib/v1.1/LinearAlgebra/src/bidiag.jl:220\n",
       "[59] size(S::SparseArrays.SparseMatrixCSC) in SparseArrays at /Users/osx/buildbot/slave/package_osx64/build/usr/share/julia/stdlib/v1.1/SparseArrays/src/sparsematrix.jl:36\n",
       "[60] size(x::SparseArrays.SparseVector) in SparseArrays at /Users/osx/buildbot/slave/package_osx64/build/usr/share/julia/stdlib/v1.1/SparseArrays/src/sparsevector.jl:41\n",
       "[61] size(A::Union{Dense, Sparse}) in SuiteSparse.CHOLMOD at /Users/osx/buildbot/slave/package_osx64/build/usr/share/julia/stdlib/v1.1/SuiteSparse/src/cholmod.jl:1131\n",
       "[62] size(FC::SuiteSparse.CHOLMOD.FactorComponent) in SuiteSparse.CHOLMOD at /Users/osx/buildbot/slave/package_osx64/build/usr/share/julia/stdlib/v1.1/SuiteSparse/src/cholmod.jl:1150\n",
       "[63] size(FC::SuiteSparse.CHOLMOD.FactorComponent, i::Integer) in SuiteSparse.CHOLMOD at /Users/osx/buildbot/slave/package_osx64/build/usr/share/julia/stdlib/v1.1/SuiteSparse/src/cholmod.jl:1149\n",
       "[64] size(S::SharedArrays.SharedArray) in SharedArrays at /Users/osx/buildbot/slave/package_osx64/build/usr/share/julia/stdlib/v1.1/SharedArrays/src/SharedArrays.jl:283\n",
       "[65] size(a::Test.GenericArray) in Test at /Users/osx/buildbot/slave/package_osx64/build/usr/share/julia/stdlib/v1.1/Test/src/Test.jl:1552\n",
       "[66] size(v::JSON.Parser.PushVector) in JSON.Parser at /Users/fede/.julia/packages/JSON/ebvl3/src/pushvector.jl:14\n",
       "[67] size(cb::DataStructures.CircularBuffer) in DataStructures at /Users/fede/.julia/packages/DataStructures/6r6kb/src/circular_buffer.jl:168\n",
       "[68] size(a::PyArray) in PyCall at /Users/fede/.julia/packages/PyCall/ttONZ/src/pyarray.jl:128\n",
       "[69] size(a::PyVector) in PyCall at /Users/fede/.julia/packages/PyCall/ttONZ/src/conversions.jl:268\n",
       "[70] size(t::AbstractArray{T,N}, d) where {T, N} in Base at abstractarray.jl:38\n",
       "[71] size(r::Base.Iterators.Reverse) in Base.Iterators at iterators.jl:82\n",
       "[72] size(e::Base.Iterators.Enumerate) in Base.Iterators at iterators.jl:136\n",
       "[73] size(v::Base.Iterators.Pairs) in Base.Iterators at iterators.jl:232\n",
       "[74] size(z::Base.Iterators.Zip) in Base.Iterators at iterators.jl:315\n",
       "[75] size(P::Base.Iterators.ProductIterator) in Base.Iterators at iterators.jl:761\n",
       "[76] size(c::AbstractChar) in Base at char.jl:189\n",
       "[77] size(c::AbstractChar, d) in Base at char.jl:190\n",
       "[78] size(F::Union{QR, QRCompactWY, QRPivoted}) in LinearAlgebra at /Users/osx/buildbot/slave/package_osx64/build/usr/share/julia/stdlib/v1.1/LinearAlgebra/src/qr.jl:511\n",
       "[79] size(F::Union{QR, QRCompactWY, QRPivoted}, dim::Integer) in LinearAlgebra at /Users/osx/buildbot/slave/package_osx64/build/usr/share/julia/stdlib/v1.1/LinearAlgebra/src/qr.jl:510\n",
       "[80] size(F::LQ) in LinearAlgebra at /Users/osx/buildbot/slave/package_osx64/build/usr/share/julia/stdlib/v1.1/LinearAlgebra/src/lq.jl:122\n",
       "[81] size(F::LQ, dim::Integer) in LinearAlgebra at /Users/osx/buildbot/slave/package_osx64/build/usr/share/julia/stdlib/v1.1/LinearAlgebra/src/lq.jl:121\n",
       "[82] size(A::SVD) in LinearAlgebra at /Users/osx/buildbot/slave/package_osx64/build/usr/share/julia/stdlib/v1.1/LinearAlgebra/src/svd.jl:200\n",
       "[83] size(A::SVD, dim::Integer) in LinearAlgebra at /Users/osx/buildbot/slave/package_osx64/build/usr/share/julia/stdlib/v1.1/LinearAlgebra/src/svd.jl:199\n",
       "[84] size(C::Union{Cholesky, CholeskyPivoted}) in LinearAlgebra at /Users/osx/buildbot/slave/package_osx64/build/usr/share/julia/stdlib/v1.1/LinearAlgebra/src/cholesky.jl:335\n",
       "[85] size(C::Union{Cholesky, CholeskyPivoted}, d::Integer) in LinearAlgebra at /Users/osx/buildbot/slave/package_osx64/build/usr/share/julia/stdlib/v1.1/LinearAlgebra/src/cholesky.jl:336\n",
       "[86] size(A::LU) in LinearAlgebra at /Users/osx/buildbot/slave/package_osx64/build/usr/share/julia/stdlib/v1.1/LinearAlgebra/src/lu.jl:272\n",
       "[87] size(A::LU, i) in LinearAlgebra at /Users/osx/buildbot/slave/package_osx64/build/usr/share/julia/stdlib/v1.1/LinearAlgebra/src/lu.jl:273\n",
       "[88] size(B::BunchKaufman) in LinearAlgebra at /Users/osx/buildbot/slave/package_osx64/build/usr/share/julia/stdlib/v1.1/LinearAlgebra/src/bunchkaufman.jl:123\n",
       "[89] size(B::BunchKaufman, d::Integer) in LinearAlgebra at /Users/osx/buildbot/slave/package_osx64/build/usr/share/julia/stdlib/v1.1/LinearAlgebra/src/bunchkaufman.jl:124\n",
       "[90] size(S::LDLt) in LinearAlgebra at /Users/osx/buildbot/slave/package_osx64/build/usr/share/julia/stdlib/v1.1/LinearAlgebra/src/ldlt.jl:14\n",
       "[91] size(S::LDLt, i::Integer) in LinearAlgebra at /Users/osx/buildbot/slave/package_osx64/build/usr/share/julia/stdlib/v1.1/LinearAlgebra/src/ldlt.jl:15\n",
       "[92] size(F::SuiteSparse.UMFPACK.UmfpackLU) in SuiteSparse.UMFPACK at /Users/osx/buildbot/slave/package_osx64/build/usr/share/julia/stdlib/v1.1/SuiteSparse/src/umfpack.jl:177\n",
       "[93] size(F::SuiteSparse.UMFPACK.UmfpackLU, dim::Integer) in SuiteSparse.UMFPACK at /Users/osx/buildbot/slave/package_osx64/build/usr/share/julia/stdlib/v1.1/SuiteSparse/src/umfpack.jl:179\n",
       "[94] size(F::SuiteSparse.CHOLMOD.Factor) in SuiteSparse.CHOLMOD at /Users/osx/buildbot/slave/package_osx64/build/usr/share/julia/stdlib/v1.1/SuiteSparse/src/cholmod.jl:1144\n",
       "[95] size(F::SuiteSparse.CHOLMOD.Factor, i::Integer) in SuiteSparse.CHOLMOD at /Users/osx/buildbot/slave/package_osx64/build/usr/share/julia/stdlib/v1.1/SuiteSparse/src/cholmod.jl:1135\n",
       "[96] size(F::SuiteSparse.SPQR.QRSparse) in SuiteSparse.SPQR at /Users/osx/buildbot/slave/package_osx64/build/usr/share/julia/stdlib/v1.1/SuiteSparse/src/spqr.jl:116\n",
       "[97] size(F::SuiteSparse.SPQR.QRSparse, i::Integer) in SuiteSparse.SPQR at /Users/osx/buildbot/slave/package_osx64/build/usr/share/julia/stdlib/v1.1/SuiteSparse/src/spqr.jl:118\n",
       "[98] size(d::DataStructures.MultiDict) in DataStructures at /Users/fede/.julia/packages/DataStructures/6r6kb/src/multi_dict.jl:98\n",
       "[99] size(t::Node) in Main at In[35]:17\n",
       "[100] size(t::Leaf) in Main at In[35]:18\n",
       "[101] size(t::Empty) in Main at In[35]:19"
      ]
     },
     "execution_count": 36,
     "metadata": {},
     "output_type": "execute_result"
    }
   ],
   "source": [
    "methods(size)"
   ]
  },
  {
   "cell_type": "markdown",
   "metadata": {},
   "source": [
    "In a function call, Julia looks at compile-time for the most specific definition of a function, i.e. the one whose types are the closest to the types of the arguments, and it will issue an error in case none is found.\n",
    "Multiple dispatch allows to write more concise code, and it enables to define behavior for new types in a more simple way."
   ]
  },
  {
   "cell_type": "code",
   "execution_count": 37,
   "metadata": {},
   "outputs": [
    {
     "name": "stdout",
     "output_type": "stream",
     "text": [
      "AA\n",
      "AB\n",
      "BA\n",
      "BB\n"
     ]
    }
   ],
   "source": [
    "struct A end\n",
    "struct B end\n",
    "\n",
    "doSomething(x::A, y::A) = println(\"AA\")\n",
    "doSomething(x::A, y::B) = println(\"AB\")\n",
    "doSomething(x::B, y::A) = println(\"BA\")\n",
    "doSomething(x::B, y::B) = println(\"BB\")\n",
    "\n",
    "xs = [A(), B()]\n",
    "for x in xs\n",
    "    for y in xs\n",
    "        doSomething(x,y)\n",
    "    end\n",
    "end"
   ]
  },
  {
   "cell_type": "markdown",
   "metadata": {},
   "source": [
    "## DataFrames"
   ]
  },
  {
   "cell_type": "code",
   "execution_count": 38,
   "metadata": {},
   "outputs": [
    {
     "name": "stderr",
     "output_type": "stream",
     "text": [
      "┌ Info: Recompiling stale cache file /Users/fede/.julia/compiled/v1.1/DataFrames/AR9oZ.ji for DataFrames [a93c6f00-e57d-5684-b7b6-d8193f3e46c0]\n",
      "└ @ Base loading.jl:1184\n",
      "WARNING: using DataFrames.show in module Main conflicts with an existing identifier.\n"
     ]
    }
   ],
   "source": [
    "using Pkg\n",
    "using DataFrames"
   ]
  },
  {
   "cell_type": "code",
   "execution_count": 39,
   "metadata": {},
   "outputs": [
    {
     "name": "stderr",
     "output_type": "stream",
     "text": [
      "┌ Info: Precompiling RDatasets [ce6b1742-4840-55fa-b093-852dadbb1d8b]\n",
      "└ @ Base loading.jl:1186\n"
     ]
    },
    {
     "data": {
      "text/html": [
       "<table class=\"data-frame\"><thead><tr><th></th><th>SepalLength</th><th>SepalWidth</th><th>PetalLength</th><th>PetalWidth</th><th>Species</th></tr><tr><th></th><th>Float64</th><th>Float64</th><th>Float64</th><th>Float64</th><th>Categorical…</th></tr></thead><tbody><p>150 rows × 5 columns</p><tr><th>1</th><td>5.1</td><td>3.5</td><td>1.4</td><td>0.2</td><td>setosa</td></tr><tr><th>2</th><td>4.9</td><td>3.0</td><td>1.4</td><td>0.2</td><td>setosa</td></tr><tr><th>3</th><td>4.7</td><td>3.2</td><td>1.3</td><td>0.2</td><td>setosa</td></tr><tr><th>4</th><td>4.6</td><td>3.1</td><td>1.5</td><td>0.2</td><td>setosa</td></tr><tr><th>5</th><td>5.0</td><td>3.6</td><td>1.4</td><td>0.2</td><td>setosa</td></tr><tr><th>6</th><td>5.4</td><td>3.9</td><td>1.7</td><td>0.4</td><td>setosa</td></tr><tr><th>7</th><td>4.6</td><td>3.4</td><td>1.4</td><td>0.3</td><td>setosa</td></tr><tr><th>8</th><td>5.0</td><td>3.4</td><td>1.5</td><td>0.2</td><td>setosa</td></tr><tr><th>9</th><td>4.4</td><td>2.9</td><td>1.4</td><td>0.2</td><td>setosa</td></tr><tr><th>10</th><td>4.9</td><td>3.1</td><td>1.5</td><td>0.1</td><td>setosa</td></tr><tr><th>11</th><td>5.4</td><td>3.7</td><td>1.5</td><td>0.2</td><td>setosa</td></tr><tr><th>12</th><td>4.8</td><td>3.4</td><td>1.6</td><td>0.2</td><td>setosa</td></tr><tr><th>13</th><td>4.8</td><td>3.0</td><td>1.4</td><td>0.1</td><td>setosa</td></tr><tr><th>14</th><td>4.3</td><td>3.0</td><td>1.1</td><td>0.1</td><td>setosa</td></tr><tr><th>15</th><td>5.8</td><td>4.0</td><td>1.2</td><td>0.2</td><td>setosa</td></tr><tr><th>16</th><td>5.7</td><td>4.4</td><td>1.5</td><td>0.4</td><td>setosa</td></tr><tr><th>17</th><td>5.4</td><td>3.9</td><td>1.3</td><td>0.4</td><td>setosa</td></tr><tr><th>18</th><td>5.1</td><td>3.5</td><td>1.4</td><td>0.3</td><td>setosa</td></tr><tr><th>19</th><td>5.7</td><td>3.8</td><td>1.7</td><td>0.3</td><td>setosa</td></tr><tr><th>20</th><td>5.1</td><td>3.8</td><td>1.5</td><td>0.3</td><td>setosa</td></tr><tr><th>21</th><td>5.4</td><td>3.4</td><td>1.7</td><td>0.2</td><td>setosa</td></tr><tr><th>22</th><td>5.1</td><td>3.7</td><td>1.5</td><td>0.4</td><td>setosa</td></tr><tr><th>23</th><td>4.6</td><td>3.6</td><td>1.0</td><td>0.2</td><td>setosa</td></tr><tr><th>24</th><td>5.1</td><td>3.3</td><td>1.7</td><td>0.5</td><td>setosa</td></tr><tr><th>25</th><td>4.8</td><td>3.4</td><td>1.9</td><td>0.2</td><td>setosa</td></tr><tr><th>26</th><td>5.0</td><td>3.0</td><td>1.6</td><td>0.2</td><td>setosa</td></tr><tr><th>27</th><td>5.0</td><td>3.4</td><td>1.6</td><td>0.4</td><td>setosa</td></tr><tr><th>28</th><td>5.2</td><td>3.5</td><td>1.5</td><td>0.2</td><td>setosa</td></tr><tr><th>29</th><td>5.2</td><td>3.4</td><td>1.4</td><td>0.2</td><td>setosa</td></tr><tr><th>30</th><td>4.7</td><td>3.2</td><td>1.6</td><td>0.2</td><td>setosa</td></tr><tr><th>&vellip;</th><td>&vellip;</td><td>&vellip;</td><td>&vellip;</td><td>&vellip;</td><td>&vellip;</td></tr></tbody></table>"
      ],
      "text/latex": [
       "\\begin{tabular}{r|ccccc}\n",
       "\t& SepalLength & SepalWidth & PetalLength & PetalWidth & Species\\\\\n",
       "\t\\hline\n",
       "\t& Float64 & Float64 & Float64 & Float64 & Categorical…\\\\\n",
       "\t\\hline\n",
       "\t1 & 5.1 & 3.5 & 1.4 & 0.2 & setosa \\\\\n",
       "\t2 & 4.9 & 3.0 & 1.4 & 0.2 & setosa \\\\\n",
       "\t3 & 4.7 & 3.2 & 1.3 & 0.2 & setosa \\\\\n",
       "\t4 & 4.6 & 3.1 & 1.5 & 0.2 & setosa \\\\\n",
       "\t5 & 5.0 & 3.6 & 1.4 & 0.2 & setosa \\\\\n",
       "\t6 & 5.4 & 3.9 & 1.7 & 0.4 & setosa \\\\\n",
       "\t7 & 4.6 & 3.4 & 1.4 & 0.3 & setosa \\\\\n",
       "\t8 & 5.0 & 3.4 & 1.5 & 0.2 & setosa \\\\\n",
       "\t9 & 4.4 & 2.9 & 1.4 & 0.2 & setosa \\\\\n",
       "\t10 & 4.9 & 3.1 & 1.5 & 0.1 & setosa \\\\\n",
       "\t11 & 5.4 & 3.7 & 1.5 & 0.2 & setosa \\\\\n",
       "\t12 & 4.8 & 3.4 & 1.6 & 0.2 & setosa \\\\\n",
       "\t13 & 4.8 & 3.0 & 1.4 & 0.1 & setosa \\\\\n",
       "\t14 & 4.3 & 3.0 & 1.1 & 0.1 & setosa \\\\\n",
       "\t15 & 5.8 & 4.0 & 1.2 & 0.2 & setosa \\\\\n",
       "\t16 & 5.7 & 4.4 & 1.5 & 0.4 & setosa \\\\\n",
       "\t17 & 5.4 & 3.9 & 1.3 & 0.4 & setosa \\\\\n",
       "\t18 & 5.1 & 3.5 & 1.4 & 0.3 & setosa \\\\\n",
       "\t19 & 5.7 & 3.8 & 1.7 & 0.3 & setosa \\\\\n",
       "\t20 & 5.1 & 3.8 & 1.5 & 0.3 & setosa \\\\\n",
       "\t21 & 5.4 & 3.4 & 1.7 & 0.2 & setosa \\\\\n",
       "\t22 & 5.1 & 3.7 & 1.5 & 0.4 & setosa \\\\\n",
       "\t23 & 4.6 & 3.6 & 1.0 & 0.2 & setosa \\\\\n",
       "\t24 & 5.1 & 3.3 & 1.7 & 0.5 & setosa \\\\\n",
       "\t25 & 4.8 & 3.4 & 1.9 & 0.2 & setosa \\\\\n",
       "\t26 & 5.0 & 3.0 & 1.6 & 0.2 & setosa \\\\\n",
       "\t27 & 5.0 & 3.4 & 1.6 & 0.4 & setosa \\\\\n",
       "\t28 & 5.2 & 3.5 & 1.5 & 0.2 & setosa \\\\\n",
       "\t29 & 5.2 & 3.4 & 1.4 & 0.2 & setosa \\\\\n",
       "\t30 & 4.7 & 3.2 & 1.6 & 0.2 & setosa \\\\\n",
       "\t$\\dots$ & $\\dots$ & $\\dots$ & $\\dots$ & $\\dots$ & $\\dots$ \\\\\n",
       "\\end{tabular}\n"
      ],
      "text/plain": [
       "150×5 DataFrame\n",
       "│ Row │ SepalLength │ SepalWidth │ PetalLength │ PetalWidth │ Species      │\n",
       "│     │ \u001b[90mFloat64\u001b[39m     │ \u001b[90mFloat64\u001b[39m    │ \u001b[90mFloat64\u001b[39m     │ \u001b[90mFloat64\u001b[39m    │ \u001b[90mCategorical…\u001b[39m │\n",
       "├─────┼─────────────┼────────────┼─────────────┼────────────┼──────────────┤\n",
       "│ 1   │ 5.1         │ 3.5        │ 1.4         │ 0.2        │ setosa       │\n",
       "│ 2   │ 4.9         │ 3.0        │ 1.4         │ 0.2        │ setosa       │\n",
       "│ 3   │ 4.7         │ 3.2        │ 1.3         │ 0.2        │ setosa       │\n",
       "│ 4   │ 4.6         │ 3.1        │ 1.5         │ 0.2        │ setosa       │\n",
       "│ 5   │ 5.0         │ 3.6        │ 1.4         │ 0.2        │ setosa       │\n",
       "│ 6   │ 5.4         │ 3.9        │ 1.7         │ 0.4        │ setosa       │\n",
       "│ 7   │ 4.6         │ 3.4        │ 1.4         │ 0.3        │ setosa       │\n",
       "│ 8   │ 5.0         │ 3.4        │ 1.5         │ 0.2        │ setosa       │\n",
       "│ 9   │ 4.4         │ 2.9        │ 1.4         │ 0.2        │ setosa       │\n",
       "│ 10  │ 4.9         │ 3.1        │ 1.5         │ 0.1        │ setosa       │\n",
       "⋮\n",
       "│ 140 │ 6.9         │ 3.1        │ 5.4         │ 2.1        │ virginica    │\n",
       "│ 141 │ 6.7         │ 3.1        │ 5.6         │ 2.4        │ virginica    │\n",
       "│ 142 │ 6.9         │ 3.1        │ 5.1         │ 2.3        │ virginica    │\n",
       "│ 143 │ 5.8         │ 2.7        │ 5.1         │ 1.9        │ virginica    │\n",
       "│ 144 │ 6.8         │ 3.2        │ 5.9         │ 2.3        │ virginica    │\n",
       "│ 145 │ 6.7         │ 3.3        │ 5.7         │ 2.5        │ virginica    │\n",
       "│ 146 │ 6.7         │ 3.0        │ 5.2         │ 2.3        │ virginica    │\n",
       "│ 147 │ 6.3         │ 2.5        │ 5.0         │ 1.9        │ virginica    │\n",
       "│ 148 │ 6.5         │ 3.0        │ 5.2         │ 2.0        │ virginica    │\n",
       "│ 149 │ 6.2         │ 3.4        │ 5.4         │ 2.3        │ virginica    │\n",
       "│ 150 │ 5.9         │ 3.0        │ 5.1         │ 1.8        │ virginica    │"
      ]
     },
     "execution_count": 39,
     "metadata": {},
     "output_type": "execute_result"
    }
   ],
   "source": [
    "using RDatasets;\n",
    "df = dataset(\"datasets\", \"iris\")"
   ]
  },
  {
   "cell_type": "code",
   "execution_count": 40,
   "metadata": {},
   "outputs": [
    {
     "data": {
      "text/plain": [
       "(150, 5)"
      ]
     },
     "execution_count": 40,
     "metadata": {},
     "output_type": "execute_result"
    }
   ],
   "source": [
    "size(df)"
   ]
  },
  {
   "cell_type": "code",
   "execution_count": 41,
   "metadata": {},
   "outputs": [
    {
     "data": {
      "text/html": [
       "<table class=\"data-frame\"><thead><tr><th></th><th>SepalLength</th><th>SepalWidth</th><th>PetalLength</th><th>PetalWidth</th><th>Species</th></tr><tr><th></th><th>Float64</th><th>Float64</th><th>Float64</th><th>Float64</th><th>Categorical…</th></tr></thead><tbody><p>5 rows × 5 columns</p><tr><th>1</th><td>5.1</td><td>3.5</td><td>1.4</td><td>0.2</td><td>setosa</td></tr><tr><th>2</th><td>4.9</td><td>3.0</td><td>1.4</td><td>0.2</td><td>setosa</td></tr><tr><th>3</th><td>4.7</td><td>3.2</td><td>1.3</td><td>0.2</td><td>setosa</td></tr><tr><th>4</th><td>4.6</td><td>3.1</td><td>1.5</td><td>0.2</td><td>setosa</td></tr><tr><th>5</th><td>5.0</td><td>3.6</td><td>1.4</td><td>0.2</td><td>setosa</td></tr></tbody></table>"
      ],
      "text/latex": [
       "\\begin{tabular}{r|ccccc}\n",
       "\t& SepalLength & SepalWidth & PetalLength & PetalWidth & Species\\\\\n",
       "\t\\hline\n",
       "\t& Float64 & Float64 & Float64 & Float64 & Categorical…\\\\\n",
       "\t\\hline\n",
       "\t1 & 5.1 & 3.5 & 1.4 & 0.2 & setosa \\\\\n",
       "\t2 & 4.9 & 3.0 & 1.4 & 0.2 & setosa \\\\\n",
       "\t3 & 4.7 & 3.2 & 1.3 & 0.2 & setosa \\\\\n",
       "\t4 & 4.6 & 3.1 & 1.5 & 0.2 & setosa \\\\\n",
       "\t5 & 5.0 & 3.6 & 1.4 & 0.2 & setosa \\\\\n",
       "\\end{tabular}\n"
      ],
      "text/plain": [
       "5×5 DataFrame\n",
       "│ Row │ SepalLength │ SepalWidth │ PetalLength │ PetalWidth │ Species      │\n",
       "│     │ \u001b[90mFloat64\u001b[39m     │ \u001b[90mFloat64\u001b[39m    │ \u001b[90mFloat64\u001b[39m     │ \u001b[90mFloat64\u001b[39m    │ \u001b[90mCategorical…\u001b[39m │\n",
       "├─────┼─────────────┼────────────┼─────────────┼────────────┼──────────────┤\n",
       "│ 1   │ 5.1         │ 3.5        │ 1.4         │ 0.2        │ setosa       │\n",
       "│ 2   │ 4.9         │ 3.0        │ 1.4         │ 0.2        │ setosa       │\n",
       "│ 3   │ 4.7         │ 3.2        │ 1.3         │ 0.2        │ setosa       │\n",
       "│ 4   │ 4.6         │ 3.1        │ 1.5         │ 0.2        │ setosa       │\n",
       "│ 5   │ 5.0         │ 3.6        │ 1.4         │ 0.2        │ setosa       │"
      ]
     },
     "execution_count": 41,
     "metadata": {},
     "output_type": "execute_result"
    }
   ],
   "source": [
    "first(df, 5)"
   ]
  },
  {
   "cell_type": "code",
   "execution_count": 42,
   "metadata": {},
   "outputs": [
    {
     "data": {
      "text/html": [
       "<table class=\"data-frame\"><thead><tr><th></th><th>SepalLength</th><th>SepalWidth</th><th>PetalLength</th><th>PetalWidth</th><th>Species</th></tr><tr><th></th><th>Float64</th><th>Float64</th><th>Float64</th><th>Float64</th><th>Categorical…</th></tr></thead><tbody><p>5 rows × 5 columns</p><tr><th>1</th><td>6.7</td><td>3.0</td><td>5.2</td><td>2.3</td><td>virginica</td></tr><tr><th>2</th><td>6.3</td><td>2.5</td><td>5.0</td><td>1.9</td><td>virginica</td></tr><tr><th>3</th><td>6.5</td><td>3.0</td><td>5.2</td><td>2.0</td><td>virginica</td></tr><tr><th>4</th><td>6.2</td><td>3.4</td><td>5.4</td><td>2.3</td><td>virginica</td></tr><tr><th>5</th><td>5.9</td><td>3.0</td><td>5.1</td><td>1.8</td><td>virginica</td></tr></tbody></table>"
      ],
      "text/latex": [
       "\\begin{tabular}{r|ccccc}\n",
       "\t& SepalLength & SepalWidth & PetalLength & PetalWidth & Species\\\\\n",
       "\t\\hline\n",
       "\t& Float64 & Float64 & Float64 & Float64 & Categorical…\\\\\n",
       "\t\\hline\n",
       "\t1 & 6.7 & 3.0 & 5.2 & 2.3 & virginica \\\\\n",
       "\t2 & 6.3 & 2.5 & 5.0 & 1.9 & virginica \\\\\n",
       "\t3 & 6.5 & 3.0 & 5.2 & 2.0 & virginica \\\\\n",
       "\t4 & 6.2 & 3.4 & 5.4 & 2.3 & virginica \\\\\n",
       "\t5 & 5.9 & 3.0 & 5.1 & 1.8 & virginica \\\\\n",
       "\\end{tabular}\n"
      ],
      "text/plain": [
       "5×5 DataFrame\n",
       "│ Row │ SepalLength │ SepalWidth │ PetalLength │ PetalWidth │ Species      │\n",
       "│     │ \u001b[90mFloat64\u001b[39m     │ \u001b[90mFloat64\u001b[39m    │ \u001b[90mFloat64\u001b[39m     │ \u001b[90mFloat64\u001b[39m    │ \u001b[90mCategorical…\u001b[39m │\n",
       "├─────┼─────────────┼────────────┼─────────────┼────────────┼──────────────┤\n",
       "│ 1   │ 6.7         │ 3.0        │ 5.2         │ 2.3        │ virginica    │\n",
       "│ 2   │ 6.3         │ 2.5        │ 5.0         │ 1.9        │ virginica    │\n",
       "│ 3   │ 6.5         │ 3.0        │ 5.2         │ 2.0        │ virginica    │\n",
       "│ 4   │ 6.2         │ 3.4        │ 5.4         │ 2.3        │ virginica    │\n",
       "│ 5   │ 5.9         │ 3.0        │ 5.1         │ 1.8        │ virginica    │"
      ]
     },
     "execution_count": 42,
     "metadata": {},
     "output_type": "execute_result"
    }
   ],
   "source": [
    "last(df, 5)"
   ]
  },
  {
   "cell_type": "code",
   "execution_count": 43,
   "metadata": {},
   "outputs": [
    {
     "data": {
      "text/plain": [
       "5-element Array{Symbol,1}:\n",
       " :SepalLength\n",
       " :SepalWidth \n",
       " :PetalLength\n",
       " :PetalWidth \n",
       " :Species    "
      ]
     },
     "execution_count": 43,
     "metadata": {},
     "output_type": "execute_result"
    }
   ],
   "source": [
    "names(df)"
   ]
  },
  {
   "cell_type": "code",
   "execution_count": 44,
   "metadata": {},
   "outputs": [
    {
     "data": {
      "text/plain": [
       "150-element CategoricalArray{String,1,UInt8}:\n",
       " \"setosa\"   \n",
       " \"setosa\"   \n",
       " \"setosa\"   \n",
       " \"setosa\"   \n",
       " \"setosa\"   \n",
       " \"setosa\"   \n",
       " \"setosa\"   \n",
       " \"setosa\"   \n",
       " \"setosa\"   \n",
       " \"setosa\"   \n",
       " \"setosa\"   \n",
       " \"setosa\"   \n",
       " \"setosa\"   \n",
       " ⋮          \n",
       " \"virginica\"\n",
       " \"virginica\"\n",
       " \"virginica\"\n",
       " \"virginica\"\n",
       " \"virginica\"\n",
       " \"virginica\"\n",
       " \"virginica\"\n",
       " \"virginica\"\n",
       " \"virginica\"\n",
       " \"virginica\"\n",
       " \"virginica\"\n",
       " \"virginica\""
      ]
     },
     "execution_count": 44,
     "metadata": {},
     "output_type": "execute_result"
    }
   ],
   "source": [
    "df[:Species] # or df.Species"
   ]
  },
  {
   "cell_type": "code",
   "execution_count": 45,
   "metadata": {},
   "outputs": [
    {
     "data": {
      "text/html": [
       "<table class=\"data-frame\"><thead><tr><th></th><th>variable</th><th>mean</th><th>min</th><th>median</th><th>max</th><th>nunique</th><th>nmissing</th><th>eltype</th></tr><tr><th></th><th>Symbol</th><th>Union…</th><th>Any</th><th>Union…</th><th>Any</th><th>Union…</th><th>Nothing</th><th>DataType</th></tr></thead><tbody><p>5 rows × 8 columns</p><tr><th>1</th><td>SepalLength</td><td>5.84333</td><td>4.3</td><td>5.8</td><td>7.9</td><td></td><td></td><td>Float64</td></tr><tr><th>2</th><td>SepalWidth</td><td>3.05733</td><td>2.0</td><td>3.0</td><td>4.4</td><td></td><td></td><td>Float64</td></tr><tr><th>3</th><td>PetalLength</td><td>3.758</td><td>1.0</td><td>4.35</td><td>6.9</td><td></td><td></td><td>Float64</td></tr><tr><th>4</th><td>PetalWidth</td><td>1.19933</td><td>0.1</td><td>1.3</td><td>2.5</td><td></td><td></td><td>Float64</td></tr><tr><th>5</th><td>Species</td><td></td><td>setosa</td><td></td><td>virginica</td><td>3</td><td></td><td>CategoricalString{UInt8}</td></tr></tbody></table>"
      ],
      "text/latex": [
       "\\begin{tabular}{r|cccccccc}\n",
       "\t& variable & mean & min & median & max & nunique & nmissing & eltype\\\\\n",
       "\t\\hline\n",
       "\t& Symbol & Union… & Any & Union… & Any & Union… & Nothing & DataType\\\\\n",
       "\t\\hline\n",
       "\t1 & SepalLength & 5.84333 & 4.3 & 5.8 & 7.9 &  &  & Float64 \\\\\n",
       "\t2 & SepalWidth & 3.05733 & 2.0 & 3.0 & 4.4 &  &  & Float64 \\\\\n",
       "\t3 & PetalLength & 3.758 & 1.0 & 4.35 & 6.9 &  &  & Float64 \\\\\n",
       "\t4 & PetalWidth & 1.19933 & 0.1 & 1.3 & 2.5 &  &  & Float64 \\\\\n",
       "\t5 & Species &  & setosa &  & virginica & 3 &  & CategoricalString\\{UInt8\\} \\\\\n",
       "\\end{tabular}\n"
      ],
      "text/plain": [
       "5×8 DataFrame. Omitted printing of 2 columns\n",
       "│ Row │ variable    │ mean    │ min    │ median │ max       │ nunique │\n",
       "│     │ \u001b[90mSymbol\u001b[39m      │ \u001b[90mUnion…\u001b[39m  │ \u001b[90mAny\u001b[39m    │ \u001b[90mUnion…\u001b[39m │ \u001b[90mAny\u001b[39m       │ \u001b[90mUnion…\u001b[39m  │\n",
       "├─────┼─────────────┼─────────┼────────┼────────┼───────────┼─────────┤\n",
       "│ 1   │ SepalLength │ 5.84333 │ 4.3    │ 5.8    │ 7.9       │         │\n",
       "│ 2   │ SepalWidth  │ 3.05733 │ 2.0    │ 3.0    │ 4.4       │         │\n",
       "│ 3   │ PetalLength │ 3.758   │ 1.0    │ 4.35   │ 6.9       │         │\n",
       "│ 4   │ PetalWidth  │ 1.19933 │ 0.1    │ 1.3    │ 2.5       │         │\n",
       "│ 5   │ Species     │         │ setosa │        │ virginica │ 3       │"
      ]
     },
     "execution_count": 45,
     "metadata": {},
     "output_type": "execute_result"
    }
   ],
   "source": [
    "describe(df)"
   ]
  },
  {
   "cell_type": "markdown",
   "metadata": {},
   "source": [
    "selecting columns:"
   ]
  },
  {
   "cell_type": "code",
   "execution_count": 46,
   "metadata": {},
   "outputs": [
    {
     "data": {
      "text/plain": [
       "150-element Array{Float64,1}:\n",
       " 3.5\n",
       " 3.0\n",
       " 3.2\n",
       " 3.1\n",
       " 3.6\n",
       " 3.9\n",
       " 3.4\n",
       " 3.4\n",
       " 2.9\n",
       " 3.1\n",
       " 3.7\n",
       " 3.4\n",
       " 3.0\n",
       " ⋮  \n",
       " 3.0\n",
       " 3.1\n",
       " 3.1\n",
       " 3.1\n",
       " 2.7\n",
       " 3.2\n",
       " 3.3\n",
       " 3.0\n",
       " 2.5\n",
       " 3.0\n",
       " 3.4\n",
       " 3.0"
      ]
     },
     "execution_count": 46,
     "metadata": {},
     "output_type": "execute_result"
    }
   ],
   "source": [
    "df[:, 2]"
   ]
  },
  {
   "cell_type": "markdown",
   "metadata": {},
   "source": [
    "selecting rows:"
   ]
  },
  {
   "cell_type": "code",
   "execution_count": 47,
   "metadata": {},
   "outputs": [
    {
     "data": {
      "text/html": [
       "<p>DataFrameRow</p><table class=\"data-frame\"><thead><tr><th></th><th>SepalLength</th><th>SepalWidth</th><th>PetalLength</th><th>PetalWidth</th><th>Species</th></tr><tr><th></th><th>Float64</th><th>Float64</th><th>Float64</th><th>Float64</th><th>Categorical…</th></tr></thead><tbody><p>1 rows × 5 columns</p><tr><th>1</th><td>5.1</td><td>3.5</td><td>1.4</td><td>0.2</td><td>setosa</td></tr></tbody></table>"
      ],
      "text/latex": [
       "\\begin{tabular}{r|ccccc}\n",
       "\t& SepalLength & SepalWidth & PetalLength & PetalWidth & Species\\\\\n",
       "\t\\hline\n",
       "\t& Float64 & Float64 & Float64 & Float64 & Categorical…\\\\\n",
       "\t\\hline\n",
       "\t1 & 5.1 & 3.5 & 1.4 & 0.2 & setosa \\\\\n",
       "\\end{tabular}\n"
      ],
      "text/plain": [
       "DataFrameRow\n",
       "│ Row │ SepalLength │ SepalWidth │ PetalLength │ PetalWidth │ Species      │\n",
       "│     │ \u001b[90mFloat64\u001b[39m     │ \u001b[90mFloat64\u001b[39m    │ \u001b[90mFloat64\u001b[39m     │ \u001b[90mFloat64\u001b[39m    │ \u001b[90mCategorical…\u001b[39m │\n",
       "├─────┼─────────────┼────────────┼─────────────┼────────────┼──────────────┤\n",
       "│ 1   │ 5.1         │ 3.5        │ 1.4         │ 0.2        │ setosa       │"
      ]
     },
     "execution_count": 47,
     "metadata": {},
     "output_type": "execute_result"
    }
   ],
   "source": [
    "df[1, :]"
   ]
  },
  {
   "cell_type": "markdown",
   "metadata": {},
   "source": [
    "Boolean indexing"
   ]
  },
  {
   "cell_type": "code",
   "execution_count": 48,
   "metadata": {},
   "outputs": [
    {
     "data": {
      "text/plain": [
       "150-element BitArray{1}:\n",
       "  true\n",
       "  true\n",
       "  true\n",
       "  true\n",
       "  true\n",
       "  true\n",
       "  true\n",
       "  true\n",
       "  true\n",
       "  true\n",
       "  true\n",
       "  true\n",
       "  true\n",
       "     ⋮\n",
       " false\n",
       " false\n",
       " false\n",
       " false\n",
       " false\n",
       " false\n",
       " false\n",
       " false\n",
       " false\n",
       " false\n",
       " false\n",
       " false"
      ]
     },
     "execution_count": 48,
     "metadata": {},
     "output_type": "execute_result"
    }
   ],
   "source": [
    "df[:Species] .== \"setosa\""
   ]
  },
  {
   "cell_type": "code",
   "execution_count": 49,
   "metadata": {},
   "outputs": [
    {
     "data": {
      "text/html": [
       "<table class=\"data-frame\"><thead><tr><th></th><th>SepalLength</th><th>SepalWidth</th><th>PetalLength</th><th>PetalWidth</th><th>Species</th></tr><tr><th></th><th>Float64</th><th>Float64</th><th>Float64</th><th>Float64</th><th>Categorical…</th></tr></thead><tbody><p>50 rows × 5 columns</p><tr><th>1</th><td>5.1</td><td>3.5</td><td>1.4</td><td>0.2</td><td>setosa</td></tr><tr><th>2</th><td>4.9</td><td>3.0</td><td>1.4</td><td>0.2</td><td>setosa</td></tr><tr><th>3</th><td>4.7</td><td>3.2</td><td>1.3</td><td>0.2</td><td>setosa</td></tr><tr><th>4</th><td>4.6</td><td>3.1</td><td>1.5</td><td>0.2</td><td>setosa</td></tr><tr><th>5</th><td>5.0</td><td>3.6</td><td>1.4</td><td>0.2</td><td>setosa</td></tr><tr><th>6</th><td>5.4</td><td>3.9</td><td>1.7</td><td>0.4</td><td>setosa</td></tr><tr><th>7</th><td>4.6</td><td>3.4</td><td>1.4</td><td>0.3</td><td>setosa</td></tr><tr><th>8</th><td>5.0</td><td>3.4</td><td>1.5</td><td>0.2</td><td>setosa</td></tr><tr><th>9</th><td>4.4</td><td>2.9</td><td>1.4</td><td>0.2</td><td>setosa</td></tr><tr><th>10</th><td>4.9</td><td>3.1</td><td>1.5</td><td>0.1</td><td>setosa</td></tr><tr><th>11</th><td>5.4</td><td>3.7</td><td>1.5</td><td>0.2</td><td>setosa</td></tr><tr><th>12</th><td>4.8</td><td>3.4</td><td>1.6</td><td>0.2</td><td>setosa</td></tr><tr><th>13</th><td>4.8</td><td>3.0</td><td>1.4</td><td>0.1</td><td>setosa</td></tr><tr><th>14</th><td>4.3</td><td>3.0</td><td>1.1</td><td>0.1</td><td>setosa</td></tr><tr><th>15</th><td>5.8</td><td>4.0</td><td>1.2</td><td>0.2</td><td>setosa</td></tr><tr><th>16</th><td>5.7</td><td>4.4</td><td>1.5</td><td>0.4</td><td>setosa</td></tr><tr><th>17</th><td>5.4</td><td>3.9</td><td>1.3</td><td>0.4</td><td>setosa</td></tr><tr><th>18</th><td>5.1</td><td>3.5</td><td>1.4</td><td>0.3</td><td>setosa</td></tr><tr><th>19</th><td>5.7</td><td>3.8</td><td>1.7</td><td>0.3</td><td>setosa</td></tr><tr><th>20</th><td>5.1</td><td>3.8</td><td>1.5</td><td>0.3</td><td>setosa</td></tr><tr><th>21</th><td>5.4</td><td>3.4</td><td>1.7</td><td>0.2</td><td>setosa</td></tr><tr><th>22</th><td>5.1</td><td>3.7</td><td>1.5</td><td>0.4</td><td>setosa</td></tr><tr><th>23</th><td>4.6</td><td>3.6</td><td>1.0</td><td>0.2</td><td>setosa</td></tr><tr><th>24</th><td>5.1</td><td>3.3</td><td>1.7</td><td>0.5</td><td>setosa</td></tr><tr><th>25</th><td>4.8</td><td>3.4</td><td>1.9</td><td>0.2</td><td>setosa</td></tr><tr><th>26</th><td>5.0</td><td>3.0</td><td>1.6</td><td>0.2</td><td>setosa</td></tr><tr><th>27</th><td>5.0</td><td>3.4</td><td>1.6</td><td>0.4</td><td>setosa</td></tr><tr><th>28</th><td>5.2</td><td>3.5</td><td>1.5</td><td>0.2</td><td>setosa</td></tr><tr><th>29</th><td>5.2</td><td>3.4</td><td>1.4</td><td>0.2</td><td>setosa</td></tr><tr><th>30</th><td>4.7</td><td>3.2</td><td>1.6</td><td>0.2</td><td>setosa</td></tr><tr><th>&vellip;</th><td>&vellip;</td><td>&vellip;</td><td>&vellip;</td><td>&vellip;</td><td>&vellip;</td></tr></tbody></table>"
      ],
      "text/latex": [
       "\\begin{tabular}{r|ccccc}\n",
       "\t& SepalLength & SepalWidth & PetalLength & PetalWidth & Species\\\\\n",
       "\t\\hline\n",
       "\t& Float64 & Float64 & Float64 & Float64 & Categorical…\\\\\n",
       "\t\\hline\n",
       "\t1 & 5.1 & 3.5 & 1.4 & 0.2 & setosa \\\\\n",
       "\t2 & 4.9 & 3.0 & 1.4 & 0.2 & setosa \\\\\n",
       "\t3 & 4.7 & 3.2 & 1.3 & 0.2 & setosa \\\\\n",
       "\t4 & 4.6 & 3.1 & 1.5 & 0.2 & setosa \\\\\n",
       "\t5 & 5.0 & 3.6 & 1.4 & 0.2 & setosa \\\\\n",
       "\t6 & 5.4 & 3.9 & 1.7 & 0.4 & setosa \\\\\n",
       "\t7 & 4.6 & 3.4 & 1.4 & 0.3 & setosa \\\\\n",
       "\t8 & 5.0 & 3.4 & 1.5 & 0.2 & setosa \\\\\n",
       "\t9 & 4.4 & 2.9 & 1.4 & 0.2 & setosa \\\\\n",
       "\t10 & 4.9 & 3.1 & 1.5 & 0.1 & setosa \\\\\n",
       "\t11 & 5.4 & 3.7 & 1.5 & 0.2 & setosa \\\\\n",
       "\t12 & 4.8 & 3.4 & 1.6 & 0.2 & setosa \\\\\n",
       "\t13 & 4.8 & 3.0 & 1.4 & 0.1 & setosa \\\\\n",
       "\t14 & 4.3 & 3.0 & 1.1 & 0.1 & setosa \\\\\n",
       "\t15 & 5.8 & 4.0 & 1.2 & 0.2 & setosa \\\\\n",
       "\t16 & 5.7 & 4.4 & 1.5 & 0.4 & setosa \\\\\n",
       "\t17 & 5.4 & 3.9 & 1.3 & 0.4 & setosa \\\\\n",
       "\t18 & 5.1 & 3.5 & 1.4 & 0.3 & setosa \\\\\n",
       "\t19 & 5.7 & 3.8 & 1.7 & 0.3 & setosa \\\\\n",
       "\t20 & 5.1 & 3.8 & 1.5 & 0.3 & setosa \\\\\n",
       "\t21 & 5.4 & 3.4 & 1.7 & 0.2 & setosa \\\\\n",
       "\t22 & 5.1 & 3.7 & 1.5 & 0.4 & setosa \\\\\n",
       "\t23 & 4.6 & 3.6 & 1.0 & 0.2 & setosa \\\\\n",
       "\t24 & 5.1 & 3.3 & 1.7 & 0.5 & setosa \\\\\n",
       "\t25 & 4.8 & 3.4 & 1.9 & 0.2 & setosa \\\\\n",
       "\t26 & 5.0 & 3.0 & 1.6 & 0.2 & setosa \\\\\n",
       "\t27 & 5.0 & 3.4 & 1.6 & 0.4 & setosa \\\\\n",
       "\t28 & 5.2 & 3.5 & 1.5 & 0.2 & setosa \\\\\n",
       "\t29 & 5.2 & 3.4 & 1.4 & 0.2 & setosa \\\\\n",
       "\t30 & 4.7 & 3.2 & 1.6 & 0.2 & setosa \\\\\n",
       "\t$\\dots$ & $\\dots$ & $\\dots$ & $\\dots$ & $\\dots$ & $\\dots$ \\\\\n",
       "\\end{tabular}\n"
      ],
      "text/plain": [
       "50×5 DataFrame\n",
       "│ Row │ SepalLength │ SepalWidth │ PetalLength │ PetalWidth │ Species      │\n",
       "│     │ \u001b[90mFloat64\u001b[39m     │ \u001b[90mFloat64\u001b[39m    │ \u001b[90mFloat64\u001b[39m     │ \u001b[90mFloat64\u001b[39m    │ \u001b[90mCategorical…\u001b[39m │\n",
       "├─────┼─────────────┼────────────┼─────────────┼────────────┼──────────────┤\n",
       "│ 1   │ 5.1         │ 3.5        │ 1.4         │ 0.2        │ setosa       │\n",
       "│ 2   │ 4.9         │ 3.0        │ 1.4         │ 0.2        │ setosa       │\n",
       "│ 3   │ 4.7         │ 3.2        │ 1.3         │ 0.2        │ setosa       │\n",
       "│ 4   │ 4.6         │ 3.1        │ 1.5         │ 0.2        │ setosa       │\n",
       "│ 5   │ 5.0         │ 3.6        │ 1.4         │ 0.2        │ setosa       │\n",
       "│ 6   │ 5.4         │ 3.9        │ 1.7         │ 0.4        │ setosa       │\n",
       "│ 7   │ 4.6         │ 3.4        │ 1.4         │ 0.3        │ setosa       │\n",
       "│ 8   │ 5.0         │ 3.4        │ 1.5         │ 0.2        │ setosa       │\n",
       "│ 9   │ 4.4         │ 2.9        │ 1.4         │ 0.2        │ setosa       │\n",
       "│ 10  │ 4.9         │ 3.1        │ 1.5         │ 0.1        │ setosa       │\n",
       "⋮\n",
       "│ 40  │ 5.1         │ 3.4        │ 1.5         │ 0.2        │ setosa       │\n",
       "│ 41  │ 5.0         │ 3.5        │ 1.3         │ 0.3        │ setosa       │\n",
       "│ 42  │ 4.5         │ 2.3        │ 1.3         │ 0.3        │ setosa       │\n",
       "│ 43  │ 4.4         │ 3.2        │ 1.3         │ 0.2        │ setosa       │\n",
       "│ 44  │ 5.0         │ 3.5        │ 1.6         │ 0.6        │ setosa       │\n",
       "│ 45  │ 5.1         │ 3.8        │ 1.9         │ 0.4        │ setosa       │\n",
       "│ 46  │ 4.8         │ 3.0        │ 1.4         │ 0.3        │ setosa       │\n",
       "│ 47  │ 5.1         │ 3.8        │ 1.6         │ 0.2        │ setosa       │\n",
       "│ 48  │ 4.6         │ 3.2        │ 1.4         │ 0.2        │ setosa       │\n",
       "│ 49  │ 5.3         │ 3.7        │ 1.5         │ 0.2        │ setosa       │\n",
       "│ 50  │ 5.0         │ 3.3        │ 1.4         │ 0.2        │ setosa       │"
      ]
     },
     "execution_count": 49,
     "metadata": {},
     "output_type": "execute_result"
    }
   ],
   "source": [
    "df[df[:Species] .== \"setosa\", :]"
   ]
  },
  {
   "cell_type": "code",
   "execution_count": 50,
   "metadata": {},
   "outputs": [
    {
     "data": {
      "text/html": [
       "<p><b>GroupedDataFrame with 3 groups based on key: Species</b></p><p><i>First Group (50 rows): Species = \"setosa\"</i></p><table class=\"data-frame\"><thead><tr><th></th><th>SepalLength</th><th>SepalWidth</th><th>PetalLength</th><th>PetalWidth</th><th>Species</th></tr><tr><th></th><th>Float64</th><th>Float64</th><th>Float64</th><th>Float64</th><th>Categorical…</th></tr></thead><tbody><tr><th>1</th><td>5.1</td><td>3.5</td><td>1.4</td><td>0.2</td><td>setosa</td></tr><tr><th>2</th><td>4.9</td><td>3.0</td><td>1.4</td><td>0.2</td><td>setosa</td></tr><tr><th>3</th><td>4.7</td><td>3.2</td><td>1.3</td><td>0.2</td><td>setosa</td></tr><tr><th>4</th><td>4.6</td><td>3.1</td><td>1.5</td><td>0.2</td><td>setosa</td></tr><tr><th>5</th><td>5.0</td><td>3.6</td><td>1.4</td><td>0.2</td><td>setosa</td></tr><tr><th>6</th><td>5.4</td><td>3.9</td><td>1.7</td><td>0.4</td><td>setosa</td></tr><tr><th>7</th><td>4.6</td><td>3.4</td><td>1.4</td><td>0.3</td><td>setosa</td></tr><tr><th>8</th><td>5.0</td><td>3.4</td><td>1.5</td><td>0.2</td><td>setosa</td></tr><tr><th>9</th><td>4.4</td><td>2.9</td><td>1.4</td><td>0.2</td><td>setosa</td></tr><tr><th>10</th><td>4.9</td><td>3.1</td><td>1.5</td><td>0.1</td><td>setosa</td></tr><tr><th>11</th><td>5.4</td><td>3.7</td><td>1.5</td><td>0.2</td><td>setosa</td></tr><tr><th>12</th><td>4.8</td><td>3.4</td><td>1.6</td><td>0.2</td><td>setosa</td></tr><tr><th>13</th><td>4.8</td><td>3.0</td><td>1.4</td><td>0.1</td><td>setosa</td></tr><tr><th>14</th><td>4.3</td><td>3.0</td><td>1.1</td><td>0.1</td><td>setosa</td></tr><tr><th>15</th><td>5.8</td><td>4.0</td><td>1.2</td><td>0.2</td><td>setosa</td></tr><tr><th>16</th><td>5.7</td><td>4.4</td><td>1.5</td><td>0.4</td><td>setosa</td></tr><tr><th>17</th><td>5.4</td><td>3.9</td><td>1.3</td><td>0.4</td><td>setosa</td></tr><tr><th>18</th><td>5.1</td><td>3.5</td><td>1.4</td><td>0.3</td><td>setosa</td></tr><tr><th>19</th><td>5.7</td><td>3.8</td><td>1.7</td><td>0.3</td><td>setosa</td></tr><tr><th>20</th><td>5.1</td><td>3.8</td><td>1.5</td><td>0.3</td><td>setosa</td></tr><tr><th>21</th><td>5.4</td><td>3.4</td><td>1.7</td><td>0.2</td><td>setosa</td></tr><tr><th>22</th><td>5.1</td><td>3.7</td><td>1.5</td><td>0.4</td><td>setosa</td></tr><tr><th>23</th><td>4.6</td><td>3.6</td><td>1.0</td><td>0.2</td><td>setosa</td></tr><tr><th>24</th><td>5.1</td><td>3.3</td><td>1.7</td><td>0.5</td><td>setosa</td></tr><tr><th>25</th><td>4.8</td><td>3.4</td><td>1.9</td><td>0.2</td><td>setosa</td></tr><tr><th>26</th><td>5.0</td><td>3.0</td><td>1.6</td><td>0.2</td><td>setosa</td></tr><tr><th>27</th><td>5.0</td><td>3.4</td><td>1.6</td><td>0.4</td><td>setosa</td></tr><tr><th>28</th><td>5.2</td><td>3.5</td><td>1.5</td><td>0.2</td><td>setosa</td></tr><tr><th>29</th><td>5.2</td><td>3.4</td><td>1.4</td><td>0.2</td><td>setosa</td></tr><tr><th>30</th><td>4.7</td><td>3.2</td><td>1.6</td><td>0.2</td><td>setosa</td></tr><tr><th>&vellip;</th><td>&vellip;</td><td>&vellip;</td><td>&vellip;</td><td>&vellip;</td><td>&vellip;</td></tr></tbody></table><p>&vellip;</p><p><i>Last Group (50 rows): Species = \"virginica\"</i></p><table class=\"data-frame\"><thead><tr><th></th><th>SepalLength</th><th>SepalWidth</th><th>PetalLength</th><th>PetalWidth</th><th>Species</th></tr><tr><th></th><th>Float64</th><th>Float64</th><th>Float64</th><th>Float64</th><th>Categorical…</th></tr></thead><tbody><tr><th>1</th><td>6.3</td><td>3.3</td><td>6.0</td><td>2.5</td><td>virginica</td></tr><tr><th>2</th><td>5.8</td><td>2.7</td><td>5.1</td><td>1.9</td><td>virginica</td></tr><tr><th>3</th><td>7.1</td><td>3.0</td><td>5.9</td><td>2.1</td><td>virginica</td></tr><tr><th>4</th><td>6.3</td><td>2.9</td><td>5.6</td><td>1.8</td><td>virginica</td></tr><tr><th>5</th><td>6.5</td><td>3.0</td><td>5.8</td><td>2.2</td><td>virginica</td></tr><tr><th>6</th><td>7.6</td><td>3.0</td><td>6.6</td><td>2.1</td><td>virginica</td></tr><tr><th>7</th><td>4.9</td><td>2.5</td><td>4.5</td><td>1.7</td><td>virginica</td></tr><tr><th>8</th><td>7.3</td><td>2.9</td><td>6.3</td><td>1.8</td><td>virginica</td></tr><tr><th>9</th><td>6.7</td><td>2.5</td><td>5.8</td><td>1.8</td><td>virginica</td></tr><tr><th>10</th><td>7.2</td><td>3.6</td><td>6.1</td><td>2.5</td><td>virginica</td></tr><tr><th>11</th><td>6.5</td><td>3.2</td><td>5.1</td><td>2.0</td><td>virginica</td></tr><tr><th>12</th><td>6.4</td><td>2.7</td><td>5.3</td><td>1.9</td><td>virginica</td></tr><tr><th>13</th><td>6.8</td><td>3.0</td><td>5.5</td><td>2.1</td><td>virginica</td></tr><tr><th>14</th><td>5.7</td><td>2.5</td><td>5.0</td><td>2.0</td><td>virginica</td></tr><tr><th>15</th><td>5.8</td><td>2.8</td><td>5.1</td><td>2.4</td><td>virginica</td></tr><tr><th>16</th><td>6.4</td><td>3.2</td><td>5.3</td><td>2.3</td><td>virginica</td></tr><tr><th>17</th><td>6.5</td><td>3.0</td><td>5.5</td><td>1.8</td><td>virginica</td></tr><tr><th>18</th><td>7.7</td><td>3.8</td><td>6.7</td><td>2.2</td><td>virginica</td></tr><tr><th>19</th><td>7.7</td><td>2.6</td><td>6.9</td><td>2.3</td><td>virginica</td></tr><tr><th>20</th><td>6.0</td><td>2.2</td><td>5.0</td><td>1.5</td><td>virginica</td></tr><tr><th>21</th><td>6.9</td><td>3.2</td><td>5.7</td><td>2.3</td><td>virginica</td></tr><tr><th>22</th><td>5.6</td><td>2.8</td><td>4.9</td><td>2.0</td><td>virginica</td></tr><tr><th>23</th><td>7.7</td><td>2.8</td><td>6.7</td><td>2.0</td><td>virginica</td></tr><tr><th>24</th><td>6.3</td><td>2.7</td><td>4.9</td><td>1.8</td><td>virginica</td></tr><tr><th>25</th><td>6.7</td><td>3.3</td><td>5.7</td><td>2.1</td><td>virginica</td></tr><tr><th>26</th><td>7.2</td><td>3.2</td><td>6.0</td><td>1.8</td><td>virginica</td></tr><tr><th>27</th><td>6.2</td><td>2.8</td><td>4.8</td><td>1.8</td><td>virginica</td></tr><tr><th>28</th><td>6.1</td><td>3.0</td><td>4.9</td><td>1.8</td><td>virginica</td></tr><tr><th>29</th><td>6.4</td><td>2.8</td><td>5.6</td><td>2.1</td><td>virginica</td></tr><tr><th>30</th><td>7.2</td><td>3.0</td><td>5.8</td><td>1.6</td><td>virginica</td></tr><tr><th>&vellip;</th><td>&vellip;</td><td>&vellip;</td><td>&vellip;</td><td>&vellip;</td><td>&vellip;</td></tr></tbody></table>"
      ],
      "text/latex": [
       "GroupedDataFrame with 3 groups based on key: Species\n",
       "\n",
       "First Group (50 rows): Species = \"setosa\"\n",
       "\n",
       "\\begin{tabular}{r|ccccc}\n",
       "\t& SepalLength & SepalWidth & PetalLength & PetalWidth & Species\\\\\n",
       "\t\\hline\n",
       "\t& Float64 & Float64 & Float64 & Float64 & Categorical…\\\\\n",
       "\t\\hline\n",
       "\t1 & 5.1 & 3.5 & 1.4 & 0.2 & setosa \\\\\n",
       "\t2 & 4.9 & 3.0 & 1.4 & 0.2 & setosa \\\\\n",
       "\t3 & 4.7 & 3.2 & 1.3 & 0.2 & setosa \\\\\n",
       "\t4 & 4.6 & 3.1 & 1.5 & 0.2 & setosa \\\\\n",
       "\t5 & 5.0 & 3.6 & 1.4 & 0.2 & setosa \\\\\n",
       "\t6 & 5.4 & 3.9 & 1.7 & 0.4 & setosa \\\\\n",
       "\t7 & 4.6 & 3.4 & 1.4 & 0.3 & setosa \\\\\n",
       "\t8 & 5.0 & 3.4 & 1.5 & 0.2 & setosa \\\\\n",
       "\t9 & 4.4 & 2.9 & 1.4 & 0.2 & setosa \\\\\n",
       "\t10 & 4.9 & 3.1 & 1.5 & 0.1 & setosa \\\\\n",
       "\t11 & 5.4 & 3.7 & 1.5 & 0.2 & setosa \\\\\n",
       "\t12 & 4.8 & 3.4 & 1.6 & 0.2 & setosa \\\\\n",
       "\t13 & 4.8 & 3.0 & 1.4 & 0.1 & setosa \\\\\n",
       "\t14 & 4.3 & 3.0 & 1.1 & 0.1 & setosa \\\\\n",
       "\t15 & 5.8 & 4.0 & 1.2 & 0.2 & setosa \\\\\n",
       "\t16 & 5.7 & 4.4 & 1.5 & 0.4 & setosa \\\\\n",
       "\t17 & 5.4 & 3.9 & 1.3 & 0.4 & setosa \\\\\n",
       "\t18 & 5.1 & 3.5 & 1.4 & 0.3 & setosa \\\\\n",
       "\t19 & 5.7 & 3.8 & 1.7 & 0.3 & setosa \\\\\n",
       "\t20 & 5.1 & 3.8 & 1.5 & 0.3 & setosa \\\\\n",
       "\t21 & 5.4 & 3.4 & 1.7 & 0.2 & setosa \\\\\n",
       "\t22 & 5.1 & 3.7 & 1.5 & 0.4 & setosa \\\\\n",
       "\t23 & 4.6 & 3.6 & 1.0 & 0.2 & setosa \\\\\n",
       "\t24 & 5.1 & 3.3 & 1.7 & 0.5 & setosa \\\\\n",
       "\t25 & 4.8 & 3.4 & 1.9 & 0.2 & setosa \\\\\n",
       "\t26 & 5.0 & 3.0 & 1.6 & 0.2 & setosa \\\\\n",
       "\t27 & 5.0 & 3.4 & 1.6 & 0.4 & setosa \\\\\n",
       "\t28 & 5.2 & 3.5 & 1.5 & 0.2 & setosa \\\\\n",
       "\t29 & 5.2 & 3.4 & 1.4 & 0.2 & setosa \\\\\n",
       "\t30 & 4.7 & 3.2 & 1.6 & 0.2 & setosa \\\\\n",
       "\t$\\dots$ & $\\dots$ & $\\dots$ & $\\dots$ & $\\dots$ & $\\dots$ \\\\\n",
       "\\end{tabular}\n",
       "\n",
       "$\\dots$\n",
       "\n",
       "Last Group (50 rows): Species = \"virginica\"\n",
       "\n",
       "\\begin{tabular}{r|ccccc}\n",
       "\t& SepalLength & SepalWidth & PetalLength & PetalWidth & Species\\\\\n",
       "\t\\hline\n",
       "\t& Float64 & Float64 & Float64 & Float64 & Categorical…\\\\\n",
       "\t\\hline\n",
       "\t1 & 6.3 & 3.3 & 6.0 & 2.5 & virginica \\\\\n",
       "\t2 & 5.8 & 2.7 & 5.1 & 1.9 & virginica \\\\\n",
       "\t3 & 7.1 & 3.0 & 5.9 & 2.1 & virginica \\\\\n",
       "\t4 & 6.3 & 2.9 & 5.6 & 1.8 & virginica \\\\\n",
       "\t5 & 6.5 & 3.0 & 5.8 & 2.2 & virginica \\\\\n",
       "\t6 & 7.6 & 3.0 & 6.6 & 2.1 & virginica \\\\\n",
       "\t7 & 4.9 & 2.5 & 4.5 & 1.7 & virginica \\\\\n",
       "\t8 & 7.3 & 2.9 & 6.3 & 1.8 & virginica \\\\\n",
       "\t9 & 6.7 & 2.5 & 5.8 & 1.8 & virginica \\\\\n",
       "\t10 & 7.2 & 3.6 & 6.1 & 2.5 & virginica \\\\\n",
       "\t11 & 6.5 & 3.2 & 5.1 & 2.0 & virginica \\\\\n",
       "\t12 & 6.4 & 2.7 & 5.3 & 1.9 & virginica \\\\\n",
       "\t13 & 6.8 & 3.0 & 5.5 & 2.1 & virginica \\\\\n",
       "\t14 & 5.7 & 2.5 & 5.0 & 2.0 & virginica \\\\\n",
       "\t15 & 5.8 & 2.8 & 5.1 & 2.4 & virginica \\\\\n",
       "\t16 & 6.4 & 3.2 & 5.3 & 2.3 & virginica \\\\\n",
       "\t17 & 6.5 & 3.0 & 5.5 & 1.8 & virginica \\\\\n",
       "\t18 & 7.7 & 3.8 & 6.7 & 2.2 & virginica \\\\\n",
       "\t19 & 7.7 & 2.6 & 6.9 & 2.3 & virginica \\\\\n",
       "\t20 & 6.0 & 2.2 & 5.0 & 1.5 & virginica \\\\\n",
       "\t21 & 6.9 & 3.2 & 5.7 & 2.3 & virginica \\\\\n",
       "\t22 & 5.6 & 2.8 & 4.9 & 2.0 & virginica \\\\\n",
       "\t23 & 7.7 & 2.8 & 6.7 & 2.0 & virginica \\\\\n",
       "\t24 & 6.3 & 2.7 & 4.9 & 1.8 & virginica \\\\\n",
       "\t25 & 6.7 & 3.3 & 5.7 & 2.1 & virginica \\\\\n",
       "\t26 & 7.2 & 3.2 & 6.0 & 1.8 & virginica \\\\\n",
       "\t27 & 6.2 & 2.8 & 4.8 & 1.8 & virginica \\\\\n",
       "\t28 & 6.1 & 3.0 & 4.9 & 1.8 & virginica \\\\\n",
       "\t29 & 6.4 & 2.8 & 5.6 & 2.1 & virginica \\\\\n",
       "\t30 & 7.2 & 3.0 & 5.8 & 1.6 & virginica \\\\\n",
       "\t$\\dots$ & $\\dots$ & $\\dots$ & $\\dots$ & $\\dots$ & $\\dots$ \\\\\n",
       "\\end{tabular}\n"
      ],
      "text/plain": [
       "GroupedDataFrame with 3 groups based on key: Species\n",
       "First Group (50 rows): Species = \"setosa\"\n",
       "│ Row │ SepalLength │ SepalWidth │ PetalLength │ PetalWidth │ Species      │\n",
       "│     │ \u001b[90mFloat64\u001b[39m     │ \u001b[90mFloat64\u001b[39m    │ \u001b[90mFloat64\u001b[39m     │ \u001b[90mFloat64\u001b[39m    │ \u001b[90mCategorical…\u001b[39m │\n",
       "├─────┼─────────────┼────────────┼─────────────┼────────────┼──────────────┤\n",
       "│ 1   │ 5.1         │ 3.5        │ 1.4         │ 0.2        │ setosa       │\n",
       "│ 2   │ 4.9         │ 3.0        │ 1.4         │ 0.2        │ setosa       │\n",
       "│ 3   │ 4.7         │ 3.2        │ 1.3         │ 0.2        │ setosa       │\n",
       "│ 4   │ 4.6         │ 3.1        │ 1.5         │ 0.2        │ setosa       │\n",
       "│ 5   │ 5.0         │ 3.6        │ 1.4         │ 0.2        │ setosa       │\n",
       "│ 6   │ 5.4         │ 3.9        │ 1.7         │ 0.4        │ setosa       │\n",
       "│ 7   │ 4.6         │ 3.4        │ 1.4         │ 0.3        │ setosa       │\n",
       "│ 8   │ 5.0         │ 3.4        │ 1.5         │ 0.2        │ setosa       │\n",
       "│ 9   │ 4.4         │ 2.9        │ 1.4         │ 0.2        │ setosa       │\n",
       "│ 10  │ 4.9         │ 3.1        │ 1.5         │ 0.1        │ setosa       │\n",
       "⋮\n",
       "│ 40  │ 5.1         │ 3.4        │ 1.5         │ 0.2        │ setosa       │\n",
       "│ 41  │ 5.0         │ 3.5        │ 1.3         │ 0.3        │ setosa       │\n",
       "│ 42  │ 4.5         │ 2.3        │ 1.3         │ 0.3        │ setosa       │\n",
       "│ 43  │ 4.4         │ 3.2        │ 1.3         │ 0.2        │ setosa       │\n",
       "│ 44  │ 5.0         │ 3.5        │ 1.6         │ 0.6        │ setosa       │\n",
       "│ 45  │ 5.1         │ 3.8        │ 1.9         │ 0.4        │ setosa       │\n",
       "│ 46  │ 4.8         │ 3.0        │ 1.4         │ 0.3        │ setosa       │\n",
       "│ 47  │ 5.1         │ 3.8        │ 1.6         │ 0.2        │ setosa       │\n",
       "│ 48  │ 4.6         │ 3.2        │ 1.4         │ 0.2        │ setosa       │\n",
       "│ 49  │ 5.3         │ 3.7        │ 1.5         │ 0.2        │ setosa       │\n",
       "│ 50  │ 5.0         │ 3.3        │ 1.4         │ 0.2        │ setosa       │\n",
       "⋮\n",
       "Last Group (50 rows): Species = \"virginica\"\n",
       "│ Row │ SepalLength │ SepalWidth │ PetalLength │ PetalWidth │ Species      │\n",
       "│     │ \u001b[90mFloat64\u001b[39m     │ \u001b[90mFloat64\u001b[39m    │ \u001b[90mFloat64\u001b[39m     │ \u001b[90mFloat64\u001b[39m    │ \u001b[90mCategorical…\u001b[39m │\n",
       "├─────┼─────────────┼────────────┼─────────────┼────────────┼──────────────┤\n",
       "│ 1   │ 6.3         │ 3.3        │ 6.0         │ 2.5        │ virginica    │\n",
       "│ 2   │ 5.8         │ 2.7        │ 5.1         │ 1.9        │ virginica    │\n",
       "│ 3   │ 7.1         │ 3.0        │ 5.9         │ 2.1        │ virginica    │\n",
       "│ 4   │ 6.3         │ 2.9        │ 5.6         │ 1.8        │ virginica    │\n",
       "│ 5   │ 6.5         │ 3.0        │ 5.8         │ 2.2        │ virginica    │\n",
       "│ 6   │ 7.6         │ 3.0        │ 6.6         │ 2.1        │ virginica    │\n",
       "│ 7   │ 4.9         │ 2.5        │ 4.5         │ 1.7        │ virginica    │\n",
       "│ 8   │ 7.3         │ 2.9        │ 6.3         │ 1.8        │ virginica    │\n",
       "│ 9   │ 6.7         │ 2.5        │ 5.8         │ 1.8        │ virginica    │\n",
       "│ 10  │ 7.2         │ 3.6        │ 6.1         │ 2.5        │ virginica    │\n",
       "⋮\n",
       "│ 40  │ 6.9         │ 3.1        │ 5.4         │ 2.1        │ virginica    │\n",
       "│ 41  │ 6.7         │ 3.1        │ 5.6         │ 2.4        │ virginica    │\n",
       "│ 42  │ 6.9         │ 3.1        │ 5.1         │ 2.3        │ virginica    │\n",
       "│ 43  │ 5.8         │ 2.7        │ 5.1         │ 1.9        │ virginica    │\n",
       "│ 44  │ 6.8         │ 3.2        │ 5.9         │ 2.3        │ virginica    │\n",
       "│ 45  │ 6.7         │ 3.3        │ 5.7         │ 2.5        │ virginica    │\n",
       "│ 46  │ 6.7         │ 3.0        │ 5.2         │ 2.3        │ virginica    │\n",
       "│ 47  │ 6.3         │ 2.5        │ 5.0         │ 1.9        │ virginica    │\n",
       "│ 48  │ 6.5         │ 3.0        │ 5.2         │ 2.0        │ virginica    │\n",
       "│ 49  │ 6.2         │ 3.4        │ 5.4         │ 2.3        │ virginica    │\n",
       "│ 50  │ 5.9         │ 3.0        │ 5.1         │ 1.8        │ virginica    │"
      ]
     },
     "execution_count": 50,
     "metadata": {},
     "output_type": "execute_result"
    }
   ],
   "source": [
    "groupby(df, :Species)"
   ]
  },
  {
   "cell_type": "code",
   "execution_count": 51,
   "metadata": {},
   "outputs": [
    {
     "data": {
      "text/html": [
       "<table class=\"data-frame\"><thead><tr><th></th><th>Species</th><th>mean</th><th>count</th></tr><tr><th></th><th>Categorical…</th><th>Float64</th><th>Int64</th></tr></thead><tbody><p>3 rows × 3 columns</p><tr><th>1</th><td>setosa</td><td>1.462</td><td>50</td></tr><tr><th>2</th><td>versicolor</td><td>4.26</td><td>50</td></tr><tr><th>3</th><td>virginica</td><td>5.552</td><td>50</td></tr></tbody></table>"
      ],
      "text/latex": [
       "\\begin{tabular}{r|ccc}\n",
       "\t& Species & mean & count\\\\\n",
       "\t\\hline\n",
       "\t& Categorical… & Float64 & Int64\\\\\n",
       "\t\\hline\n",
       "\t1 & setosa & 1.462 & 50 \\\\\n",
       "\t2 & versicolor & 4.26 & 50 \\\\\n",
       "\t3 & virginica & 5.552 & 50 \\\\\n",
       "\\end{tabular}\n"
      ],
      "text/plain": [
       "3×3 DataFrame\n",
       "│ Row │ Species      │ mean    │ count │\n",
       "│     │ \u001b[90mCategorical…\u001b[39m │ \u001b[90mFloat64\u001b[39m │ \u001b[90mInt64\u001b[39m │\n",
       "├─────┼──────────────┼─────────┼───────┤\n",
       "│ 1   │ setosa       │ 1.462   │ 50    │\n",
       "│ 2   │ versicolor   │ 4.26    │ 50    │\n",
       "│ 3   │ virginica    │ 5.552   │ 50    │"
      ]
     },
     "execution_count": 51,
     "metadata": {},
     "output_type": "execute_result"
    }
   ],
   "source": [
    "using Statistics\n",
    "mean_petal_lengths = by(df, :Species, mean = :PetalLength => mean, count = :PetalLength => length)"
   ]
  },
  {
   "cell_type": "code",
   "execution_count": 52,
   "metadata": {},
   "outputs": [
    {
     "name": "stderr",
     "output_type": "stream",
     "text": [
      "┌ Info: Precompiling Plots [91a5bcdd-55d7-5caf-9e0b-520d859cae80]\n",
      "└ @ Base loading.jl:1186\n",
      "┌ Info: Precompiling StatsPlots [f3b207a7-027a-5e70-b257-86293d7955fd]\n",
      "└ @ Base loading.jl:1186\n"
     ]
    },
    {
     "ename": "InterruptException",
     "evalue": "InterruptException:",
     "output_type": "error",
     "traceback": [
      "InterruptException:",
      "",
      "Stacktrace:",
      " [1] _include_from_serialized(::String, ::Array{Any,1}) at ./loading.jl:617",
      " [2] _require_search_from_serialized(::Base.PkgId, ::String) at ./loading.jl:713",
      " [3] _tryrequire_from_serialized(::Base.PkgId, ::UInt64, ::String) at ./loading.jl:648",
      " [4] _require_search_from_serialized(::Base.PkgId, ::String) at ./loading.jl:702",
      " [5] _tryrequire_from_serialized(::Base.PkgId, ::UInt64, ::Nothing) at ./loading.jl:648",
      " [6] _require_from_serialized(::String) at ./loading.jl:679",
      " [7] _require(::Base.PkgId) at ./loading.jl:967",
      " [8] require(::Base.PkgId) at ./loading.jl:858",
      " [9] require(::Module, ::Symbol) at ./loading.jl:853",
      " [10] top-level scope at In[52]:1"
     ]
    }
   ],
   "source": [
    "using Plots, StatsPlots"
   ]
  },
  {
   "cell_type": "code",
   "execution_count": null,
   "metadata": {},
   "outputs": [],
   "source": [
    "backends()"
   ]
  },
  {
   "cell_type": "code",
   "execution_count": null,
   "metadata": {},
   "outputs": [],
   "source": [
    "pyplot()"
   ]
  },
  {
   "cell_type": "code",
   "execution_count": null,
   "metadata": {},
   "outputs": [],
   "source": [
    "@df df scatter(:SepalLength, :SepalWidth, group=:Species,\n",
    "        title = \"My awesome plot\",\n",
    "        xlabel = \"Length\", ylabel = \"Width\",\n",
    "        m=(0.5, [:cross :hex :star7], 12),\n",
    "        bg=RGB(.2,.2,.2))"
   ]
  },
  {
   "cell_type": "code",
   "execution_count": null,
   "metadata": {},
   "outputs": [],
   "source": [
    "# define the Lorenz attractor\n",
    "mutable struct Lorenz\n",
    "    dt; σ; ρ; β; x; y; z\n",
    "end\n",
    "\n",
    "function step!(l::Lorenz)\n",
    "    dx = l.σ*(l.y - l.x)       ; l.x += l.dt * dx\n",
    "    dy = l.x*(l.ρ - l.z) - l.y ; l.y += l.dt * dy\n",
    "    dz = l.x*l.y - l.β*l.z     ; l.z += l.dt * dz\n",
    "end\n",
    "\n",
    "attractor = Lorenz((dt = 0.02, σ = 10., ρ = 28., β = 8//3, x = 1., y = 1., z = 1.)...)\n",
    "\n",
    "\n",
    "# initialize a 3D plot with 1 empty series\n",
    "plt = plot3d(1, xlim=(-25,25), ylim=(-25,25), zlim=(0,50),\n",
    "                title = \"Lorenz Attractor\", marker = 2)\n",
    "\n",
    "# build an animated gif by pushing new points to the plot, saving every 10th frame\n",
    "@gif for i=1:1500\n",
    "    step!(attractor)\n",
    "    push!(plt, attractor.x, attractor.y, attractor.z)\n",
    "end every 10"
   ]
  },
  {
   "cell_type": "markdown",
   "metadata": {},
   "source": [
    "# TLDR:"
   ]
  },
  {
   "cell_type": "markdown",
   "metadata": {},
   "source": [
    "- High-level\n",
    "- High-performance \n",
    "- Designed for numerical computing\n",
    "- Interoperability with Python, C\n",
    "- Static typing, Type inference\n",
    "- Multidimensional arrays \"numpy built in\"\n",
    "- Multiple-dispatch\n",
    "- Lots of Data Science packages built by the scientific community"
   ]
  },
  {
   "cell_type": "markdown",
   "metadata": {},
   "source": [
    "## Links"
   ]
  },
  {
   "cell_type": "markdown",
   "metadata": {},
   "source": [
    "https://julialang.org/\n",
    "\n",
    "Tutorials:  \n",
    "http://ucidatascienceinitiative.github.io/IntroToJulia/  \n",
    "https://github.com/scidom/StatsLearningByExample.jl  \n",
    "http://www.breloff.com/JuliaML-and-Plots/  \n",
    "https://lectures.quantecon.org/jl/julia_plots.html#plotsjl-jl  \n",
    "https://en.wikibooks.org/wiki/Introducing_Julia/Plotting\n",
    "\n",
    "Articles:  \n",
    "http://ucidatascienceinitiative.github.io/IntroToJulia/Html/WhyJulia  \n",
    "http://www.stochasticlifestyle.com/7-julia-gotchas-handle/  \n",
    "https://arstechnica.com/science/2014/05/scientific-computings-future-can-any-coding-language-top-a-1950s-behemoth/  \n",
    "http://www.admin-magazine.com/HPC/Articles/Julia-A-New-Language-For-Technical-Computing  \n",
    "http://www.admin-magazine.com/HPC/Articles/Parallel-Julia-Jumping-Right-In  \n",
    "https://www.evanmiller.org/why-im-betting-on-julia.html  "
   ]
  },
  {
   "cell_type": "code",
   "execution_count": null,
   "metadata": {},
   "outputs": [],
   "source": []
  }
 ],
 "metadata": {
  "kernelspec": {
   "display_name": "Julia 1.1.0",
   "language": "julia",
   "name": "julia-1.1"
  },
  "language_info": {
   "file_extension": ".jl",
   "mimetype": "application/julia",
   "name": "julia",
   "version": "1.1.0"
  }
 },
 "nbformat": 4,
 "nbformat_minor": 2
}
